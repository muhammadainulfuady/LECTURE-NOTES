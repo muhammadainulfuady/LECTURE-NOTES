{
 "cells": [
  {
   "cell_type": "code",
   "execution_count": 1,
   "id": "681bafb8",
   "metadata": {},
   "outputs": [
    {
     "name": "stdout",
     "output_type": "stream",
     "text": [
      "[3, 5, 9, 12, 14, 15, 19]\n",
      "sortedData = [3, 5, 9, 12, 14, 15, 19]\n",
      "[3, 5, 9, 12, 14, 15, 19]\n",
      "sortedData = [3, 5, 9, 12, 14, 15, 19]\n",
      "[3, 5, 9, 12, 14, 15, 19]\n",
      "sortedData = [3, 5, 9, 12, 14, 15, 19]\n",
      "[3, 5, 9, 12, 14, 15, 19]\n",
      "sortedData = [3, 5, 9, 12, 14, 15, 19]\n",
      "[3, 5, 9, 12, 14, 15, 19]\n",
      "sortedData = [3, 5, 9, 12, 14, 15, 19]\n",
      "[3, 5, 9, 12, 14, 15, 19]\n",
      "sortedData = [3, 5, 9, 12, 14, 15, 19]\n"
     ]
    }
   ],
   "source": [
    "def insertionSort(listData):\n",
    "    for outIter in range(1, len(listData)):\n",
    "        print(listData)\n",
    "        key = listData[outIter]\n",
    "        ind = outIter\n",
    "        while ind > 0 and listData[ind - 1] > key:\n",
    "            listData[ind] = listData[ind - 1]\n",
    "            ind -= 1\n",
    "            print('inner =', listData)\n",
    "        listData[ind] = key\n",
    "        print('sortedData =', listData)\n",
    "b=[10,2,5,8,1,20,2,2,4]\n",
    "b=[3, 5, 9, 12, 14, 15, 19]\n",
    "insertionSort(b)"
   ]
  },
  {
   "cell_type": "code",
   "execution_count": null,
   "id": "fe4c6609",
   "metadata": {},
   "outputs": [
    {
     "name": "stdout",
     "output_type": "stream",
     "text": [
      "Data sebelum diurutkan: [7, 2, 5, 3, 9]\n",
      "Data setelah diurutkan: [2, 3, 5, 7, 9]\n"
     ]
    }
   ],
   "source": [
    "def insertion_sort(arr):\n",
    "    for i in range(1, len(arr)):\n",
    "        key = arr[i]\n",
    "        j = i - 1\n",
    "        # Geser elemen yang lebih besar dari key ke kanan\n",
    "        while j >= 0 and arr[j] > key:\n",
    "            arr[j + 1] = arr[j]\n",
    "            j -= 1\n",
    "        # Tempatkan key pada posisi yang benar\n",
    "        arr[j + 1] = key\n",
    "\n",
    "# Contoh penggunaan\n",
    "data = [7, 2, 5, 3, 9]\n",
    "print(\"Data sebelum diurutkan:\", data)\n",
    "insertion_sort(data)\n",
    "print(\"Data setelah diurutkan:\", data)"
   ]
  },
  {
   "cell_type": "code",
   "execution_count": 2,
   "id": "d1fd95ee",
   "metadata": {},
   "outputs": [
    {
     "name": "stdout",
     "output_type": "stream",
     "text": [
      "Kartu sebelum diurutkan: [4, 3, 7, 5]\n",
      "Kartu setelah diurutkan: [3, 4, 5, 7]\n"
     ]
    }
   ],
   "source": [
    "# Data kartu yang ingin diurutkan\n",
    "cards = [4, 3, 7, 5]\n",
    "\n",
    "# Fungsi insertion sort\n",
    "def insertion_sort(cards):\n",
    "    for i in range(1, len(cards)):\n",
    "        key = cards[i]\n",
    "        j = i - 1\n",
    "        while j >= 0 and cards[j] > key:\n",
    "            cards[j + 1] = cards[j]\n",
    "            j -= 1\n",
    "        cards[j + 1] = key\n",
    "\n",
    "print(\"Kartu sebelum diurutkan:\", cards)\n",
    "\n",
    "insertion_sort(cards)\n",
    "\n",
    "print(\"Kartu setelah diurutkan:\", cards)"
   ]
  },
  {
   "cell_type": "code",
   "execution_count": 5,
   "id": "c49a1e20",
   "metadata": {},
   "outputs": [
    {
     "name": "stdout",
     "output_type": "stream",
     "text": [
      "hasil [5, 5, 2, 1, 3, 0]\n"
     ]
    }
   ],
   "source": [
    "data = [4, 5, 2, 1, 3, 0]\n",
    "val = data[1]\n",
    "if val<data[0]:\n",
    "    data[1] = data[0]\n",
    "    print(data)\n",
    "data[0]=val\n",
    "print(\"hasil\", data)"
   ]
  },
  {
   "cell_type": "code",
   "execution_count": 11,
   "id": "26bce793",
   "metadata": {},
   "outputs": [
    {
     "name": "stdout",
     "output_type": "stream",
     "text": [
      "value =  5\n",
      "value =  2\n",
      "[4, 5, 5, 1, 3, 0]\n",
      "value =  1\n",
      "[4, 5, 5, 5, 3, 0]\n",
      "[4, 5, 5, 5, 3, 0]\n",
      "value =  3\n",
      "[4, 5, 5, 5, 5, 0]\n",
      "[4, 5, 5, 5, 5, 0]\n",
      "[4, 5, 5, 5, 5, 0]\n",
      "value =  0\n",
      "[4, 5, 5, 5, 5, 5]\n",
      "[4, 5, 5, 5, 5, 5]\n",
      "[4, 5, 5, 5, 5, 5]\n",
      "[4, 5, 5, 5, 5, 5]\n"
     ]
    }
   ],
   "source": [
    "data = [4, 5, 2, 1, 3, 0]\n",
    "for i in range(1, len(data)):\n",
    "    value=data[i]\n",
    "    print(\"value = \", value)\n",
    "    for j in range(i-1, 0, -1):\n",
    "        if value<data[j]:\n",
    "            data[j+1] = data[j]\n",
    "        print(data)"
   ]
  },
  {
   "cell_type": "code",
   "execution_count": null,
   "id": "aa5dc3ff",
   "metadata": {},
   "outputs": [],
   "source": [
    "data = [4, 5, 2, 1, 3, 0]\n",
    "\n",
    "for i in range(1, len(data)):\n",
    "    value = data[i]\n",
    "    print('value =', value)\n",
    "    j = i - 1  # ini yang benar\n",
    "    \n",
    "    while j >= 0 and value < data[j]:\n",
    "        data[j + 1] = data[j]\n",
    "        j -= 1\n",
    "        print(j)\n",
    "        print(f'Setelah langkah {i}: {data}')\n",
    "\n",
    "    data[j + 1] = value\n",
    "    print(f'Setelah langkah {i}: {data}')\n",
    "\n",
    "print(\"Data terurut:\", data)"
   ]
  },
  {
   "cell_type": "code",
   "execution_count": 17,
   "id": "3ce583d5",
   "metadata": {},
   "outputs": [
    {
     "name": "stdout",
     "output_type": "stream",
     "text": [
      "value 5\n",
      "hasil = [4, 5, 2, 1, 3, 0]\n",
      "\n",
      "value 2\n",
      "[4, 5, 5, 1, 3, 0]\n",
      "[4, 4, 5, 1, 3, 0]\n",
      "hasil = [2, 4, 5, 1, 3, 0]\n",
      "\n",
      "value 1\n",
      "[2, 4, 5, 5, 3, 0]\n",
      "[2, 4, 4, 5, 3, 0]\n",
      "[2, 2, 4, 5, 3, 0]\n",
      "hasil = [1, 2, 4, 5, 3, 0]\n",
      "\n",
      "value 3\n",
      "[1, 2, 4, 5, 5, 0]\n",
      "[1, 2, 4, 4, 5, 0]\n",
      "hasil = [1, 2, 3, 4, 5, 0]\n",
      "\n",
      "value 0\n",
      "[1, 2, 3, 4, 5, 5]\n",
      "[1, 2, 3, 4, 4, 5]\n",
      "[1, 2, 3, 3, 4, 5]\n",
      "[1, 2, 2, 3, 4, 5]\n",
      "[1, 1, 2, 3, 4, 5]\n",
      "hasil = [0, 1, 2, 3, 4, 5]\n",
      "\n"
     ]
    }
   ],
   "source": [
    "data=[4,5,2,1,3,0]\n",
    "for i in range(1,len(data)):\n",
    "  value=data[i]\n",
    "  print(\"value\",value)\n",
    "  ind=i\n",
    "  while (ind)>0 and data [ind-1]>value:\n",
    "    data[ind]=data[ind-1]\n",
    "    ind=ind-1\n",
    "    print(data)\n",
    "  data[ind]=value\n",
    "  print(\"hasil =\", data)\n",
    "  print('')"
   ]
  },
  {
   "cell_type": "code",
   "execution_count": null,
   "id": "22033278",
   "metadata": {},
   "outputs": [
    {
     "name": "stdout",
     "output_type": "stream",
     "text": [
      "Data awal: [4, 5, 2, 1, 3, 0]\n",
      "\n",
      "Langkah 1: Ambil value = 5\n",
      "  Tempatkan value 5 di posisi 1\n",
      "  Hasil setelah langkah 1: [4, 5, 2, 1, 3, 0]\n",
      "\n",
      "Langkah 2: Ambil value = 2\n",
      "  Geser 5 ke posisi 2\n",
      "  Data sekarang: [4, 5, 5, 1, 3, 0]\n",
      "  Geser 4 ke posisi 1\n",
      "  Data sekarang: [4, 4, 5, 1, 3, 0]\n",
      "  Tempatkan value 2 di posisi 0\n",
      "  Hasil setelah langkah 2: [2, 4, 5, 1, 3, 0]\n",
      "\n",
      "Langkah 3: Ambil value = 1\n",
      "  Geser 5 ke posisi 3\n",
      "  Data sekarang: [2, 4, 5, 5, 3, 0]\n",
      "  Geser 4 ke posisi 2\n",
      "  Data sekarang: [2, 4, 4, 5, 3, 0]\n",
      "  Geser 2 ke posisi 1\n",
      "  Data sekarang: [2, 2, 4, 5, 3, 0]\n",
      "  Tempatkan value 1 di posisi 0\n",
      "  Hasil setelah langkah 3: [1, 2, 4, 5, 3, 0]\n",
      "\n",
      "Langkah 4: Ambil value = 3\n",
      "  Geser 5 ke posisi 4\n",
      "  Data sekarang: [1, 2, 4, 5, 5, 0]\n",
      "  Geser 4 ke posisi 3\n",
      "  Data sekarang: [1, 2, 4, 4, 5, 0]\n",
      "  Tempatkan value 3 di posisi 2\n",
      "  Hasil setelah langkah 4: [1, 2, 3, 4, 5, 0]\n",
      "\n",
      "Langkah 5: Ambil value = 0\n",
      "  Geser 5 ke posisi 5\n",
      "  Data sekarang: [1, 2, 3, 4, 5, 5]\n",
      "  Geser 4 ke posisi 4\n",
      "  Data sekarang: [1, 2, 3, 4, 4, 5]\n",
      "  Geser 3 ke posisi 3\n",
      "  Data sekarang: [1, 2, 3, 3, 4, 5]\n",
      "  Geser 2 ke posisi 2\n",
      "  Data sekarang: [1, 2, 2, 3, 4, 5]\n",
      "  Geser 1 ke posisi 1\n",
      "  Data sekarang: [1, 1, 2, 3, 4, 5]\n",
      "  Tempatkan value 0 di posisi 0\n",
      "  Hasil setelah langkah 5: [0, 1, 2, 3, 4, 5]\n",
      "\n",
      "Data terurut: [0, 1, 2, 3, 4, 5]\n"
     ]
    }
   ],
   "source": [
    "data = [4, 5, 2, 1, 3, 0]\n",
    "print(\"Data awal:\", data)\n",
    "print(\"\")\n",
    "\n",
    "for i in range(1, len(data)):\n",
    "    value = data[i]\n",
    "    print(f\"Langkah {i}: Ambil value = {value}\")\n",
    "    \n",
    "    ind = i\n",
    "    while (ind - 1) >= 0 and data[ind - 1] > value:\n",
    "        print(f\"  Geser {data[ind - 1]} ke posisi {ind}\")\n",
    "        data[ind] = data[ind - 1]\n",
    "        ind = ind - 1\n",
    "        print(f\"  Data sekarang: {data}\")\n",
    "    \n",
    "    data[ind] = value\n",
    "    print(f\"  Tempatkan value {value} di posisi {ind}\")\n",
    "    print(f\"  Hasil setelah langkah {i}: {data}\")\n",
    "    print(\"\")\n",
    "\n",
    "print(\"Data terurut:\", data)"
   ]
  }
 ],
 "metadata": {
  "kernelspec": {
   "display_name": "Python 3",
   "language": "python",
   "name": "python3"
  },
  "language_info": {
   "codemirror_mode": {
    "name": "ipython",
    "version": 3
   },
   "file_extension": ".py",
   "mimetype": "text/x-python",
   "name": "python",
   "nbconvert_exporter": "python",
   "pygments_lexer": "ipython3",
   "version": "3.12.10"
  }
 },
 "nbformat": 4,
 "nbformat_minor": 5
}
