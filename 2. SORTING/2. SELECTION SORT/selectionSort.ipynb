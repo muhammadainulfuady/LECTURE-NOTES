{
 "cells": [
  {
   "cell_type": "code",
   "execution_count": 3,
   "id": "530c27fc",
   "metadata": {},
   "outputs": [
    {
     "name": "stdout",
     "output_type": "stream",
     "text": [
      "Algoritma Selection Sort konvensional\n",
      "Data Awal = [10, 2, 5, 8, 1, 20, 7, 12, 4]\n",
      "Iterasi ke- 1 : [1, 2, 5, 8, 10, 20, 7, 12, 4]\n",
      "Iterasi ke- 2 : [1, 2, 5, 8, 10, 20, 7, 12, 4]\n",
      "Iterasi ke- 3 : [1, 2, 4, 8, 10, 20, 7, 12, 5]\n",
      "Iterasi ke- 4 : [1, 2, 4, 5, 10, 20, 7, 12, 8]\n",
      "Iterasi ke- 5 : [1, 2, 4, 5, 7, 20, 10, 12, 8]\n",
      "Iterasi ke- 6 : [1, 2, 4, 5, 7, 8, 10, 12, 20]\n",
      "Iterasi ke- 7 : [1, 2, 4, 5, 7, 8, 10, 12, 20]\n",
      "Iterasi ke- 8 : [1, 2, 4, 5, 7, 8, 10, 12, 20]\n",
      "Data Urut = [1, 2, 4, 5, 7, 8, 10, 12, 20]\n"
     ]
    }
   ],
   "source": [
    "def selectionSort(listData):\n",
    "    print('Algoritma Selection Sort konvensional')\n",
    "    print('Data Awal =', listData)\n",
    "    \n",
    "    for outIter in range(len(listData) - 1):\n",
    "        minIndex = outIter\n",
    "        for i in range(outIter + 1, len(listData)):\n",
    "            if listData[i] < listData[minIndex]:\n",
    "                minIndex = i\n",
    "        \n",
    "        temp = listData[outIter]\n",
    "        listData[outIter] = listData[minIndex]\n",
    "        listData[minIndex] = temp\n",
    "        \n",
    "        print('Iterasi ke-', outIter + 1, ':', listData)\n",
    "    \n",
    "    print('Data Urut =', listData)\n",
    "a=[10,2,5,8,1,20,7,12,4]\n",
    "selectionSort(a)"
   ]
  },
  {
   "cell_type": "markdown",
   "id": "5bf0f165",
   "metadata": {},
   "source": [
    "1. Buat data secara random dengan jumlah 500 data, lakukan sorting dengan algoritma bubble\n",
    "sort dan selection sort, bandingkan waktu komputasi antara dua buah algoritma tersebut\n",
    "2. Modifikasi code selection sort tersebut, agar iterasi dalam melakukan dua buah pencarian,\n",
    "yaitu nilai minimal dan maksimal, jika sudah ditemukan, maka letakkan nilai minimal pada\n",
    "indeks-indeks awal, dan nilai maksimal pada indeks-indeks akhir"
   ]
  },
  {
   "cell_type": "code",
   "execution_count": null,
   "id": "c2a6f22c",
   "metadata": {},
   "outputs": [],
   "source": [
    "def selectionSortMinMax(data):\n",
    "    print('Algoritma Selection Sort Min-Max')\n",
    "    print('Data Awal =', data)\n",
    "\n",
    "    left = 0\n",
    "    right = len(data) - 1\n",
    "\n",
    "    iterasi = 1\n",
    "    while left < right:\n",
    "        minIndex = left\n",
    "        maxIndex = left\n",
    "\n",
    "        for i in range(left, right + 1):\n",
    "            if data[i] < data[minIndex]:\n",
    "                minIndex = i\n",
    "            if data[i] > data[maxIndex]:\n",
    "                maxIndex = i\n",
    "\n",
    "        data[left], data[minIndex] = data[minIndex], data[left]\n",
    "\n",
    "        if maxIndex == left:\n",
    "            maxIndex = minIndex\n",
    "\n",
    "        data[right], data[maxIndex] = data[maxIndex], data[right]\n",
    "\n",
    "        print(f'Iterasi ke-{iterasi}:', data)\n",
    "        left += 1\n",
    "        right -= 1\n",
    "        iterasi += 1\n",
    "\n",
    "    print('Data Urut =', data)\n",
    "\n",
    "a = [10, 2, 5, 8, 1, 20, 7, 12, 4]\n",
    "selectionSortMinMax(a)"
   ]
  },
  {
   "cell_type": "code",
   "execution_count": null,
   "id": "4caca63b",
   "metadata": {},
   "outputs": [
    {
     "name": "stdout",
     "output_type": "stream",
     "text": [
      "[10, 3, 9, 1, 2]\n",
      "[3, 10, 9, 1, 2]\n",
      "[9, 10, 3, 1, 2]\n",
      "[1, 10, 3, 9, 2]\n",
      "[2, 10, 3, 9, 1]\n",
      "[2, 10, 3, 9, 1]\n",
      "[2, 3, 10, 9, 1]\n",
      "[2, 9, 10, 3, 1]\n",
      "[2, 1, 10, 3, 9]\n",
      "[2, 1, 10, 3, 9]\n",
      "[2, 1, 3, 10, 9]\n",
      "[2, 1, 9, 10, 3]\n",
      "[2, 1, 9, 10, 3]\n",
      "[2, 1, 9, 3, 10]\n"
     ]
    }
   ],
   "source": [
    "n=4\n",
    "data=[10, 3, 9, 1, 2]\n",
    "for ouTerloop in range(len(data)-1):\n",
    "    minflag=ouTerloop\n",
    "    for j in range(ouTerloop, len(data)):\n",
    "        if data[minflag]>data[j]:\n",
    "            minflag=j\n",
    "        data[ouTerloop], data[minflag] = data[minflag], data[ouTerloop]\n",
    "        print(data)"
   ]
  }
 ],
 "metadata": {
  "kernelspec": {
   "display_name": "Python 3",
   "language": "python",
   "name": "python3"
  },
  "language_info": {
   "codemirror_mode": {
    "name": "ipython",
    "version": 3
   },
   "file_extension": ".py",
   "mimetype": "text/x-python",
   "name": "python",
   "nbconvert_exporter": "python",
   "pygments_lexer": "ipython3",
   "version": "3.12.10"
  }
 },
 "nbformat": 4,
 "nbformat_minor": 5
}
