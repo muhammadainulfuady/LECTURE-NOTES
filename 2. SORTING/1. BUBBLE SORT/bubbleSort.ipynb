{
 "cells": [
  {
   "cell_type": "markdown",
   "id": "d20b4625",
   "metadata": {},
   "source": [
    "GPT VERSI"
   ]
  },
  {
   "cell_type": "code",
   "execution_count": 2,
   "id": "ad8a3de1",
   "metadata": {},
   "outputs": [
    {
     "name": "stdout",
     "output_type": "stream",
     "text": [
      "Iterasi 1 : [3, 5, 4, 2, 1, 7, 8]\n",
      "Iterasi 2 : [3, 4, 2, 1, 5, 7, 8]\n",
      "Iterasi 3 : [3, 2, 1, 4, 5, 7, 8]\n",
      "Iterasi 4 : [2, 1, 3, 4, 5, 7, 8]\n",
      "Iterasi 5 : [1, 2, 3, 4, 5, 7, 8]\n",
      "Iterasi 6 : [1, 2, 3, 4, 5, 7, 8]\n"
     ]
    }
   ],
   "source": [
    "data = [5, 3, 8, 4, 2, 1, 7]\n",
    "n = len(data)\n",
    "for j in range(n - 1):\n",
    "    for i in range(n - 1 - j):\n",
    "        if data[i] > data[i + 1]:\n",
    "            data[i], data[i + 1] = data[i + 1], data[i]\n",
    "    print(f\"Iterasi {j+1} :\", data)"
   ]
  },
  {
   "cell_type": "code",
   "execution_count": 22,
   "id": "3ff216b5",
   "metadata": {},
   "outputs": [
    {
     "name": "stdout",
     "output_type": "stream",
     "text": [
      "Iterasi 1: [8, 5, 3, 7, 4, 2, 1]\n",
      "Iterasi 2: [8, 7, 5, 3, 4, 2, 1]\n",
      "Iterasi 3: [8, 7, 5, 4, 3, 2, 1]\n",
      "Iterasi 4: [8, 7, 5, 4, 3, 2, 1]\n",
      "Iterasi 5: [8, 7, 5, 4, 3, 2, 1]\n",
      "Iterasi 6: [8, 7, 5, 4, 3, 2, 1]\n"
     ]
    }
   ],
   "source": [
    "data = [5, 3, 8, 4, 2, 1, 7]\n",
    "n = len(data)\n",
    "for j in range(n - 1):\n",
    "    for i in range(n - 1, j, -1):\n",
    "        if data[i] > data[i - 1]:\n",
    "            data[i], data[i - 1] = data[i - 1], data[i]\n",
    "    print(f\"Iterasi {j+1}:\", data)"
   ]
  },
  {
   "cell_type": "markdown",
   "id": "a23f90d6",
   "metadata": {},
   "source": [
    "BUBEL SORTING BU INDAH"
   ]
  },
  {
   "cell_type": "code",
   "execution_count": null,
   "id": "dcf8cf03",
   "metadata": {},
   "outputs": [
    {
     "name": "stdout",
     "output_type": "stream",
     "text": [
      "Data yang akan diurutkan : [10, 2, 5, 8, 1, 20, 7, 12, 4]\n",
      "outIter = 8\n",
      "Iterasi ke- 1 :\n",
      "8 = [2, 5, 8, 1, 10, 7, 12, 4, 20]\n",
      "outIter = 7\n",
      "Iterasi ke- 2 :\n",
      "7 = [2, 5, 1, 8, 7, 10, 4, 12, 20]\n",
      "outIter = 6\n",
      "Iterasi ke- 3 :\n",
      "6 = [2, 1, 5, 7, 8, 4, 10, 12, 20]\n",
      "outIter = 5\n",
      "Iterasi ke- 4 :\n",
      "5 = [1, 2, 5, 7, 4, 8, 10, 12, 20]\n",
      "outIter = 4\n",
      "Iterasi ke- 5 :\n",
      "4 = [1, 2, 5, 4, 7, 8, 10, 12, 20]\n",
      "outIter = 3\n",
      "Iterasi ke- 6 :\n",
      "3 = [1, 2, 4, 5, 7, 8, 10, 12, 20]\n",
      "outIter = 2\n",
      "Iterasi ke- 7 :\n",
      "2 = [1, 2, 4, 5, 7, 8, 10, 12, 20]\n",
      "outIter = 1\n",
      "Iterasi ke- 8 :\n",
      "1 = [1, 2, 4, 5, 7, 8, 10, 12, 20]\n",
      "outIter = 0\n",
      "Iterasi ke- 9 :\n",
      "0 = [1, 2, 4, 5, 7, 8, 10, 12, 20]\n",
      "Data urut = [1, 2, 4, 5, 7, 8, 10, 12, 20]\n"
     ]
    }
   ],
   "source": []
  },
  {
   "cell_type": "markdown",
   "id": "560ce23b",
   "metadata": {},
   "source": [
    "1. Pada contoh pengurutan diatas (data b), urutan data hasil dari empat iterasi tidak mengalami\n",
    "perubahan apapun (karena data sudah dalam keaadaan terurut pada setelah iterasi ke-4.\n",
    "Modifikasi algoritma bubble sort tersebut agar iterasi terhenti ketika tidak ada lagi data yang\n",
    "akan ditukar posisinya (semua data sudah berada di tempat yang tepat).\n",
    "2. Buat modifikasi algoritma bubble sort. Jika pada algoritma bubble sort, pointer bergerak dari\n",
    "kiri ke kanan (menuju index terakhir), sedemikian hingga data terbesar berada pada index\n",
    "terakhir. Modifikasi yang dilakukan adalah, setelah data terbesar terletak pada index terakhir.\n",
    "Pointer bergerak lagi dengan arah sebaliknya, yaitu dari kanan ke kiri untuk membawa data\n",
    "terkecil ke index paling awal (bidirectional bubble sort)"
   ]
  },
  {
   "cell_type": "code",
   "execution_count": 17,
   "id": "d8807a98",
   "metadata": {},
   "outputs": [
    {
     "name": "stdout",
     "output_type": "stream",
     "text": [
      "Urutan Bubble (Optimized)\n",
      "Awal: [5, 3, 8, 4, 2, 1, 7]\n",
      "Iterasi ke- 1 : [3, 5, 4, 2, 1, 7, 8]\n",
      "Iterasi ke- 2 : [3, 4, 2, 1, 5, 7, 8]\n",
      "Iterasi ke- 3 : [3, 2, 1, 4, 5, 7, 8]\n",
      "Iterasi ke- 4 : [2, 1, 3, 4, 5, 7, 8]\n",
      "Iterasi ke- 5 : [1, 2, 3, 4, 5, 7, 8]\n",
      "Iterasi ke- 6 : [1, 2, 3, 4, 5, 7, 8]\n",
      "Hasil akhir: [1, 2, 3, 4, 5, 7, 8]\n",
      "Urutan Bubble (Dua Arah)\n",
      "Awal: [5, 3, 8, 4, 2, 1, 7]\n",
      "Iterasi ke-1 (maju): [3, 5, 4, 2, 1, 7, 8]\n",
      "Iterasi ke-2 (mundur): [1, 3, 5, 4, 2, 7, 8]\n",
      "Iterasi ke-3 (maju): [1, 3, 4, 2, 5, 7, 8]\n",
      "Iterasi ke-4 (mundur): [1, 2, 3, 4, 5, 7, 8]\n",
      "Iterasi ke-5 (maju): [1, 2, 3, 4, 5, 7, 8]\n",
      "Iterasi ke-6 (mundur): [1, 2, 3, 4, 5, 7, 8]\n",
      "Hasil akhir: [1, 2, 3, 4, 5, 7, 8]\n"
     ]
    },
    {
     "data": {
      "text/plain": [
       "([1, 2, 3, 4, 5, 7, 8], [1, 2, 3, 4, 5, 7, 8])"
      ]
     },
     "execution_count": 17,
     "metadata": {},
     "output_type": "execute_result"
    }
   ],
   "source": [
    "def urut_optimal(data):\n",
    "    print('Urutan Bubble (Optimized)')\n",
    "    print('Awal:', data)\n",
    "    panjang = len(data)\n",
    "    langkah = 1\n",
    "    for i in range(panjang - 1):\n",
    "        tukar = False\n",
    "        for j in range(panjang - 1 - i):\n",
    "            if data[j] > data[j+1]:\n",
    "                data[j], data[j+1] = data[j+1], data[j]\n",
    "                tukar = True\n",
    "        print('Iterasi ke-', langkah, ':', data)\n",
    "        langkah += 1\n",
    "        if not tukar:\n",
    "            break\n",
    "    print('Hasil akhir:', data)\n",
    "    return data\n",
    "\n",
    "def urut_bolak_balik(data):\n",
    "    print('Urutan Bubble (Dua Arah)')\n",
    "    print('Awal:', data)\n",
    "    kiri = 0\n",
    "    kanan = len(data) - 1\n",
    "    langkah = 1\n",
    "    while kiri < kanan:\n",
    "        ganti = False\n",
    "\n",
    "        for i in range(kiri, kanan):\n",
    "            if data[i] > data[i+1]:\n",
    "                data[i], data[i+1] = data[i+1], data[i]\n",
    "                ganti = True\n",
    "        print(f'Iterasi ke-{langkah} (maju):', data)\n",
    "        langkah += 1\n",
    "        kanan -= 1\n",
    "\n",
    "        for i in range(kanan, kiri, -1):\n",
    "            if data[i] < data[i-1]:\n",
    "                data[i], data[i-1] = data[i-1], data[i]\n",
    "                ganti = True\n",
    "        print(f'Iterasi ke-{langkah} (mundur):', data)\n",
    "        langkah += 1\n",
    "        kiri += 1\n",
    "\n",
    "        if not ganti:\n",
    "            break\n",
    "    print('Hasil akhir:', data)\n",
    "    return data\n",
    "\n",
    "# Contoh\n",
    "isi = [5, 3, 8, 4, 2, 1, 7]\n",
    "hasil_opt = urut_optimal(isi.copy())\n",
    "hasil_bolakbalik = urut_bolak_balik(isi.copy())\n",
    "\n",
    "hasil_opt, hasil_bolakbalik"
   ]
  },
  {
   "cell_type": "markdown",
   "id": "a973d16c",
   "metadata": {},
   "source": [
    "BUBEL SORT BU INDAH MODIFIKASI"
   ]
  },
  {
   "cell_type": "code",
   "execution_count": 18,
   "id": "fc724865",
   "metadata": {},
   "outputs": [
    {
     "name": "stdout",
     "output_type": "stream",
     "text": [
      "Data sebelum diurutkan: [10, 2, 5, 8, 1, 20, 7, 12, 4]\n",
      "\n",
      "Langkah ke-1:\n",
      "Batas index 8 --> [2, 5, 8, 1, 10, 7, 12, 4, 20]\n",
      "\n",
      "Langkah ke-2:\n",
      "Batas index 7 --> [2, 5, 1, 8, 7, 10, 4, 12, 20]\n",
      "\n",
      "Langkah ke-3:\n",
      "Batas index 6 --> [2, 1, 5, 7, 8, 4, 10, 12, 20]\n",
      "\n",
      "Langkah ke-4:\n",
      "Batas index 5 --> [1, 2, 5, 7, 4, 8, 10, 12, 20]\n",
      "\n",
      "Langkah ke-5:\n",
      "Batas index 4 --> [1, 2, 5, 4, 7, 8, 10, 12, 20]\n",
      "\n",
      "Langkah ke-6:\n",
      "Batas index 3 --> [1, 2, 4, 5, 7, 8, 10, 12, 20]\n",
      "\n",
      "Langkah ke-7:\n",
      "Batas index 2 --> [1, 2, 4, 5, 7, 8, 10, 12, 20]\n",
      "\n",
      "Langkah ke-8:\n",
      "Batas index 1 --> [1, 2, 4, 5, 7, 8, 10, 12, 20]\n",
      "\n",
      "Hasil akhir pengurutan: [1, 2, 4, 5, 7, 8, 10, 12, 20]\n"
     ]
    }
   ],
   "source": [
    "def bubbleSort(data):\n",
    "    print('Data sebelum diurutkan:', data)\n",
    "    total = len(data)\n",
    "    step = 1\n",
    "\n",
    "    for batas in range(total - 1, 0, -1):\n",
    "        print(f'\\nLangkah ke-{step}:')\n",
    "        step += 1\n",
    "        for i in range(batas):\n",
    "            if data[i] > data[i + 1]:\n",
    "                data[i], data[i + 1] = data[i + 1], data[i]\n",
    "        print(f'Batas index {batas} -->', data)\n",
    "\n",
    "    print('\\nHasil akhir pengurutan:', data)\n",
    "\n",
    "angka = [10, 2, 5, 8, 1, 20, 7, 12, 4]\n",
    "bubbleSort(angka)"
   ]
  },
  {
   "cell_type": "markdown",
   "id": "dd1e8d9b",
   "metadata": {},
   "source": [
    "BU INDAH MODIF JIKA SUDAH TERURUT"
   ]
  },
  {
   "cell_type": "code",
   "execution_count": null,
   "id": "c7d6ca3f",
   "metadata": {},
   "outputs": [
    {
     "name": "stdout",
     "output_type": "stream",
     "text": [
      "Data sebelum diurutkan: [10, 2, 5, 8, 1, 20, 7, 12, 4]\n",
      "\n",
      "Langkah ke-1:\n",
      "Batas index 8 --> [2, 5, 8, 1, 10, 7, 12, 4, 20]\n",
      "\n",
      "Langkah ke-2:\n",
      "Batas index 7 --> [2, 5, 1, 8, 7, 10, 4, 12, 20]\n",
      "\n",
      "Langkah ke-3:\n",
      "Batas index 6 --> [2, 1, 5, 7, 8, 4, 10, 12, 20]\n",
      "\n",
      "Langkah ke-4:\n",
      "Batas index 5 --> [1, 2, 5, 7, 4, 8, 10, 12, 20]\n",
      "\n",
      "Langkah ke-5:\n",
      "Batas index 4 --> [1, 2, 5, 4, 7, 8, 10, 12, 20]\n",
      "\n",
      "Langkah ke-6:\n",
      "Batas index 3 --> [1, 2, 4, 5, 7, 8, 10, 12, 20]\n",
      "\n",
      "Langkah ke-7:\n",
      "Batas index 2 --> [1, 2, 4, 5, 7, 8, 10, 12, 20]\n",
      "Data sudah terurut, menghentikan proses lebih awal.\n",
      "\n",
      "Hasil akhir pengurutan: [1, 2, 4, 5, 7, 8, 10, 12, 20]\n"
     ]
    }
   ],
   "source": [
    "def bubbleSort(data):\n",
    "    print('Data sebelum diurutkan:', data)\n",
    "    total = len(data)\n",
    "    step = 1\n",
    "\n",
    "    for batas in range(total - 1, 0, -1):\n",
    "        print(f'\\nLangkah ke-{step}:')\n",
    "        step += 1\n",
    "        tukar = False \n",
    "\n",
    "        for i in range(batas):\n",
    "            if data[i] > data[i + 1]:\n",
    "                data[i], data[i + 1] = data[i + 1], data[i]\n",
    "                tukar = True\n",
    "\n",
    "        print(f'Batas index {batas} -->', data)\n",
    "\n",
    "        if not tukar:\n",
    "            print(\"Data sudah terurut, menghentikan proses lebih awal.\")\n",
    "            break\n",
    "\n",
    "    print('\\nHasil akhir pengurutan:', data)\n",
    "\n",
    "angka = [10, 2, 5, 8, 1, 20, 7, 12, 4]A\n",
    "bubbleSort(angka)"
   ]
  },
  {
   "cell_type": "markdown",
   "id": "86b11694",
   "metadata": {},
   "source": [
    "BUBEL SORTING MODIF\n",
    "Bubble Sort yang Berhenti Dini (Optimasi jika tidak ada pertukaran)"
   ]
  },
  {
   "cell_type": "code",
   "execution_count": null,
   "id": "86cb024c",
   "metadata": {},
   "outputs": [
    {
     "name": "stdout",
     "output_type": "stream",
     "text": [
      "Data yang akan diurutkan: [12, 5, 1, 11, 20, 4, 2]\n",
      "Iterasi ke-1:\n",
      "[5, 1, 11, 12, 4, 2, 20]\n",
      "Iterasi ke-2:\n",
      "[1, 5, 11, 4, 2, 12, 20]\n",
      "Iterasi ke-3:\n",
      "[1, 5, 4, 2, 11, 12, 20]\n",
      "Iterasi ke-4:\n",
      "[1, 4, 2, 5, 11, 12, 20]\n",
      "Iterasi ke-5:\n",
      "[1, 2, 4, 5, 11, 12, 20]\n",
      "Iterasi ke-6:\n",
      "[1, 2, 4, 5, 11, 12, 20]\n",
      "Tidak ada pertukaran, array sudah terurut.\n",
      "\n",
      "Data Urut: [1, 2, 4, 5, 11, 12, 20]\n"
     ]
    }
   ],
   "source": [
    "def bubbleSortOptimized(listData):\n",
    "    print('Data yang akan diurutkan:', listData)\n",
    "\n",
    "    count = 0\n",
    "    for outIter in range(len(listData) - 1, -1, -1):\n",
    "        swapped = False\n",
    "        count += 1\n",
    "        print(f'Iterasi ke-{count}:')\n",
    "\n",
    "        for i in range(outIter):\n",
    "            if listData[i] > listData[i + 1]:\n",
    "                listData[i], listData[i + 1] = listData[i + 1], listData[i]\n",
    "                swapped = True\n",
    "\n",
    "        print(f'{listData}')\n",
    "        \n",
    "        if not swapped:\n",
    "            print(\"Tidak ada pertukaran, array sudah terurut.\")\n",
    "            break\n",
    "\n",
    "    print('\\nData Urut:', listData)\n",
    "a = [12,  5, 1, 11, 20, 4, 2]\n",
    "bubbleSortOptimized(a)"
   ]
  },
  {
   "cell_type": "markdown",
   "id": "96c0f9aa",
   "metadata": {},
   "source": [
    "Bidirectional Bubble Sort (atau Cocktail Shaker Sort) python Copy Edit"
   ]
  },
  {
   "cell_type": "code",
   "execution_count": 12,
   "id": "bb3c47ab",
   "metadata": {},
   "outputs": [
    {
     "name": "stdout",
     "output_type": "stream",
     "text": [
      "Data yang akan diurutkan: [12, 0, 5, 1, 11, 20, 4, 2]\n",
      "\n",
      "Iterasi ke-1 (kiri ke kanan):\n",
      "Setelah kiri ke kanan: [0, 5, 1, 11, 12, 4, 2, 20]\n",
      "\n",
      "Iterasi ke-2 (kanan ke kiri):\n",
      "Setelah kanan ke kiri: [0, 1, 5, 2, 11, 12, 4, 20]\n",
      "\n",
      "Iterasi ke-3 (kiri ke kanan):\n",
      "Setelah kiri ke kanan: [0, 1, 2, 5, 11, 4, 12, 20]\n",
      "\n",
      "Iterasi ke-4 (kanan ke kiri):\n",
      "Setelah kanan ke kiri: [0, 1, 2, 4, 5, 11, 12, 20]\n",
      "\n",
      "Iterasi ke-5 (kiri ke kanan):\n",
      "Setelah kiri ke kanan: [0, 1, 2, 4, 5, 11, 12, 20]\n",
      "\n",
      "Iterasi ke-6 (kanan ke kiri):\n",
      "Setelah kanan ke kiri: [0, 1, 2, 4, 5, 11, 12, 20]\n",
      "Tidak ada pertukaran, array sudah terurut.\n",
      "\n",
      "Data Urut: [0, 1, 2, 4, 5, 11, 12, 20]\n"
     ]
    }
   ],
   "source": [
    "def bidirectionalBubbleSort(listData):\n",
    "    print('Data yang akan diurutkan:', listData)\n",
    "    n = len(listData)\n",
    "    left = 0\n",
    "    right = n - 1\n",
    "    count = 0\n",
    "\n",
    "    while left < right:\n",
    "        swapped = False\n",
    "\n",
    "        # Gerakan dari kiri ke kanan\n",
    "        count += 1\n",
    "        print(f'\\nIterasi ke-{count} (kiri ke kanan):')\n",
    "        for i in range(left, right):\n",
    "            if listData[i] > listData[i + 1]:\n",
    "                listData[i], listData[i + 1] = listData[i + 1], listData[i]\n",
    "                swapped = True\n",
    "        print(f'Setelah kiri ke kanan: {listData}')\n",
    "        right -= 1\n",
    "\n",
    "        # Gerakan dari kanan ke kiri\n",
    "        count += 1\n",
    "        print(f'\\nIterasi ke-{count} (kanan ke kiri):')\n",
    "        for i in range(right, left, -1):\n",
    "            if listData[i] < listData[i - 1]:\n",
    "                listData[i], listData[i - 1] = listData[i - 1], listData[i]\n",
    "                swapped = True\n",
    "        print(f'Setelah kanan ke kiri: {listData}')\n",
    "        left += 1\n",
    "\n",
    "        if not swapped:\n",
    "            print(\"Tidak ada pertukaran, array sudah terurut.\")\n",
    "            break\n",
    "\n",
    "    print('\\nData Urut:', listData)\n",
    "data = [12, 0, 5, 1, 11, 20, 4, 2]\n",
    "bidirectionalBubbleSort(data)"
   ]
  },
  {
   "cell_type": "markdown",
   "id": "b28f261b",
   "metadata": {},
   "source": [
    "ASCENDING"
   ]
  },
  {
   "cell_type": "code",
   "execution_count": 23,
   "id": "11acd68f",
   "metadata": {},
   "outputs": [
    {
     "name": "stdout",
     "output_type": "stream",
     "text": [
      "Array setelah diurutkan (descending): [8, 5, 4, 3, 1]\n"
     ]
    }
   ],
   "source": []
  },
  {
   "cell_type": "markdown",
   "id": "32bb6cbd",
   "metadata": {},
   "source": [
    "DESCENDING"
   ]
  },
  {
   "cell_type": "code",
   "execution_count": 26,
   "id": "74e536ab",
   "metadata": {},
   "outputs": [
    {
     "name": "stdout",
     "output_type": "stream",
     "text": [
      "Array setelah diurutkan (descending): [8, 5, 4, 3, 1]\n",
      "\n",
      "Langkah-langkah pengurutan:\n",
      "--- Iterasi 1 ---\n",
      "Perbandingan: 5 dan 3\n",
      "Perbandingan: 3 dan 8\n",
      "Pertukaran: 8 dan 3\n",
      "Perbandingan: 3 dan 1\n",
      "Perbandingan: 1 dan 4\n",
      "Pertukaran: 4 dan 1\n",
      "Array setelah Iterasi 1: [5, 8, 3, 4, 1]\n",
      "--- Iterasi 2 ---\n",
      "Perbandingan: 5 dan 8\n",
      "Pertukaran: 8 dan 5\n",
      "Perbandingan: 5 dan 3\n",
      "Perbandingan: 3 dan 4\n",
      "Pertukaran: 4 dan 3\n",
      "Array setelah Iterasi 2: [8, 5, 4, 3, 1]\n",
      "--- Iterasi 3 ---\n",
      "Perbandingan: 8 dan 5\n",
      "Perbandingan: 5 dan 4\n",
      "Array setelah Iterasi 3: [8, 5, 4, 3, 1]\n",
      "--- Iterasi 4 ---\n",
      "Perbandingan: 8 dan 5\n",
      "Array setelah Iterasi 4: [8, 5, 4, 3, 1]\n",
      "--- Iterasi 5 ---\n",
      "Array setelah Iterasi 5: [8, 5, 4, 3, 1]\n"
     ]
    }
   ],
   "source": [
    "def bubble_sort_descending(arr):\n",
    "    n = len(arr)\n",
    "    steps = []\n",
    "    for i in range(n):\n",
    "        steps.append(f\"--- Iterasi {i+1} ---\")\n",
    "        for j in range(0, n-i-1):\n",
    "            steps.append(f\"Perbandingan: {arr[j]} dan {arr[j+1]}\")\n",
    "            if arr[j] < arr[j+1]:\n",
    "                arr[j], arr[j+1] = arr[j+1], arr[j]\n",
    "                steps.append(f\"Pertukaran: {arr[j]} dan {arr[j+1]}\")\n",
    "        steps.append(f\"Array setelah Iterasi {i+1}: {arr}\")\n",
    "    return arr, steps\n",
    "\n",
    "arr = [5, 3, 8, 1, 4]\n",
    "sorted_arr, steps = bubble_sort_descending(arr)\n",
    "\n",
    "print(\"Array setelah diurutkan (descending):\", sorted_arr)\n",
    "print(\"\\nLangkah-langkah pengurutan:\")\n",
    "for step in steps:\n",
    "    print(step)"
   ]
  }
 ],
 "metadata": {
  "kernelspec": {
   "display_name": "Python 3",
   "language": "python",
   "name": "python3"
  },
  "language_info": {
   "codemirror_mode": {
    "name": "ipython",
    "version": 3
   },
   "file_extension": ".py",
   "mimetype": "text/x-python",
   "name": "python",
   "nbconvert_exporter": "python",
   "pygments_lexer": "ipython3",
   "version": "3.12.10"
  }
 },
 "nbformat": 4,
 "nbformat_minor": 5
}
