{
 "cells": [
  {
   "cell_type": "code",
   "execution_count": 1,
   "id": "b178c452",
   "metadata": {},
   "outputs": [],
   "source": [
    "def stack():\n",
    "    s=[]\n",
    "    return s\n",
    "def push(s,data):\n",
    "    s.append(data)\n",
    "def pop(s):\n",
    "    data=s.pop()\n",
    "    return(data)\n",
    "def peek(s):\n",
    "    return(s[len(s)-1])\n",
    "def isEmpty(s):\n",
    "    return (s==[])\n",
    "def size(s):\n",
    "    return(len(s))"
   ]
  },
  {
   "cell_type": "markdown",
   "id": "410e3ca5",
   "metadata": {},
   "source": [
    "IPK"
   ]
  },
  {
   "cell_type": "code",
   "execution_count": null,
   "id": "25b2fba8",
   "metadata": {},
   "outputs": [],
   "source": [
    "daftar_matkul = {\n",
    "    \"matematika teknik\": 2, \"pendidikan agama islam\": 2, \"pengantar teknologi informasi\": 3,\n",
    "    \"algoritma dasar pemrograman\": 4, \"pancasila\": 2, \"bahasa indonesia\": 2, \"matematika diskret\": 3,\n",
    "    \"bahasa inggris\": 2, \"struktur data\": 4, \"metode statistika\": 3, \"komputasi aljabar linear\": 3,\n",
    "    \"organisasi komputer dan sistem operasi\": 3, \"dasar pemrograman web\": 4, \"kewarganegaraan\": 2}\n",
    "konversi_nilai = {\n",
    "    \"a\": 4, \"b\": 3, \"b+\": 3.5, \"c\": 2, \"c+\": 2.5, \"d\": 1, \"d+\": 1.5, \"e\": 0\n",
    "}\n",
    "nilai_mahasiswa = {}\n",
    "\n",
    "print(\"Masukkan mata kuliah dalam bentuk singkatan!\")\n",
    "print(\"===========================================\")\n",
    "for kode_matkul in daftar_matkul.keys():\n",
    "    print(f\"|| {kode_matkul}\")\n",
    "\n",
    "def hitung_ipk(nilai_mahasiswa):\n",
    "    total_nilai = 0\n",
    "    total_sks = 0\n",
    "\n",
    "    for matkul, nilai in nilai_mahasiswa.items():\n",
    "        total_nilai += daftar_matkul[matkul] * konversi_nilai[nilai]\n",
    "        total_sks += daftar_matkul[matkul]\n",
    "\n",
    "    ipk = total_nilai / total_sks\n",
    "    return round(ipk, 2)\n",
    "\n",
    "jumlah_matkul = int(input(\"Masukkan jumlah mata kuliah yang diambil: \"))\n",
    "print(\"===========================================\")\n",
    "\n",
    "i = 1\n",
    "while i <= jumlah_matkul:\n",
    "    kode_matkul = input(f\"Masukkan kode mata kuliah ke-{i}: \").lower()\n",
    "\n",
    "    if kode_matkul not in daftar_matkul:\n",
    "        print(\"Mata kuliah tidak ditemukan!\")\n",
    "        continue\n",
    "\n",
    "    nilai_huruf = input(f\"Masukkan nilai mata kuliah {kode_matkul} (cth: A/B/C+/D...): \").lower()\n",
    "\n",
    "    if nilai_huruf not in konversi_nilai:\n",
    "        print(\"Nilai tidak ditemukan!\")\n",
    "        continue\n",
    "\n",
    "    nilai_mahasiswa.update({kode_matkul: nilai_huruf})\n",
    "    i += 1\n",
    "\n",
    "ipk_akhir = hitung_ipk(nilai_mahasiswa)\n",
    "print(\"===========================================\")\n",
    "print(f\"IPK Anda adalah: {ipk_akhir}\")"
   ]
  },
  {
   "cell_type": "markdown",
   "id": "ebbc8633",
   "metadata": {},
   "source": [
    "PARANTHESES"
   ]
  },
  {
   "cell_type": "code",
   "execution_count": 7,
   "id": "7531f4d1",
   "metadata": {},
   "outputs": [
    {
     "name": "stdout",
     "output_type": "stream",
     "text": [
      "True\n"
     ]
    }
   ],
   "source": [
    "def parantheses(num):\n",
    "    stack_parentheses = stack()\n",
    "    for char in num:\n",
    "        if char in ['(', '{', '[']:\n",
    "            push(stack_parentheses, char)\n",
    "        elif char in [')', '}', ']']:\n",
    "            if isEmpty(stack_parentheses) or (\n",
    "                pop(stack_parentheses) not in ['(', '{', '['] and\n",
    "                char in [')', '}', ']']\n",
    "            ):\n",
    "                return False\n",
    "    return isEmpty(stack_parentheses)\n",
    "print(parantheses(\"9+0(-8(*6))\"))"
   ]
  },
  {
   "cell_type": "markdown",
   "id": "b1f334b7",
   "metadata": {},
   "source": [
    "INFIX PREFIX"
   ]
  },
  {
   "cell_type": "code",
   "execution_count": null,
   "id": "57e9aa78",
   "metadata": {},
   "outputs": [],
   "source": []
  },
  {
   "cell_type": "markdown",
   "id": "b96aad25",
   "metadata": {},
   "source": [
    "INFIX POSTFIX"
   ]
  },
  {
   "cell_type": "code",
   "execution_count": null,
   "id": "07649bba",
   "metadata": {},
   "outputs": [],
   "source": []
  }
 ],
 "metadata": {
  "kernelspec": {
   "display_name": "Python 3",
   "language": "python",
   "name": "python3"
  },
  "language_info": {
   "codemirror_mode": {
    "name": "ipython",
    "version": 3
   },
   "file_extension": ".py",
   "mimetype": "text/x-python",
   "name": "python",
   "nbconvert_exporter": "python",
   "pygments_lexer": "ipython3",
   "version": "3.12.10"
  }
 },
 "nbformat": 4,
 "nbformat_minor": 5
}
