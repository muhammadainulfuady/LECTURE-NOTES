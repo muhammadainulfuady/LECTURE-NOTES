{
 "cells": [
  {
   "cell_type": "markdown",
   "id": "074d34a1",
   "metadata": {},
   "source": [
    "ASCENDING"
   ]
  },
  {
   "cell_type": "code",
   "execution_count": 2,
   "id": "d6e8676d",
   "metadata": {},
   "outputs": [
    {
     "name": "stdout",
     "output_type": "stream",
     "text": [
      "iterasi ke-1\n",
      "[8, 9, 7, 6, 5, 4, 10]\n",
      "[8, 7, 9, 6, 5, 4, 10]\n",
      "[8, 7, 6, 9, 5, 4, 10]\n",
      "[8, 7, 6, 5, 9, 4, 10]\n",
      "[8, 7, 6, 5, 4, 9, 10]\n",
      "[8, 7, 6, 5, 4, 9, 10]\n",
      " \n",
      "iterasi ke-2\n",
      "[7, 8, 6, 5, 4, 9, 10]\n",
      "[7, 6, 8, 5, 4, 9, 10]\n",
      "[7, 6, 5, 8, 4, 9, 10]\n",
      "[7, 6, 5, 4, 8, 9, 10]\n",
      "[7, 6, 5, 4, 8, 9, 10]\n",
      " \n",
      "iterasi ke-3\n",
      "[6, 7, 5, 4, 8, 9, 10]\n",
      "[6, 5, 7, 4, 8, 9, 10]\n",
      "[6, 5, 4, 7, 8, 9, 10]\n",
      "[6, 5, 4, 7, 8, 9, 10]\n",
      " \n",
      "iterasi ke-4\n",
      "[5, 6, 4, 7, 8, 9, 10]\n",
      "[5, 4, 6, 7, 8, 9, 10]\n",
      "[5, 4, 6, 7, 8, 9, 10]\n",
      " \n",
      "iterasi ke-5\n",
      "[4, 5, 6, 7, 8, 9, 10]\n",
      "[4, 5, 6, 7, 8, 9, 10]\n",
      " \n",
      "iterasi ke-6\n",
      "[4, 5, 6, 7, 8, 9, 10]\n",
      "\n",
      "Data sebelum di buble short [9, 8, 7, 6, 5, 4, 10]\n",
      "Data setelah di buble short [4, 5, 6, 7, 8, 9, 10]\n"
     ]
    }
   ],
   "source": [
    "listdata=[9,8,7,6,5,4,10,]\n",
    "banyak_data=len(listdata)\n",
    "datatemp=[x for x in listdata]\n",
    "ite=1\n",
    "for i in range(1,len(listdata)):\n",
    "  breakcond=0\n",
    "  print(f\"iterasi ke-{ite}\")\n",
    "  for i in range(len(listdata)-i):\n",
    "    if listdata[i] > listdata[i+1]:\n",
    "      temp=listdata[i]\n",
    "      listdata[i]=listdata[i+1]\n",
    "      listdata[i+1]=temp\n",
    "      breakcond+=1\n",
    "    print(listdata)\n",
    "  if breakcond ==0:\n",
    "    break\n",
    "  print(\" \")\n",
    "  ite+=1\n",
    "  \n",
    "  banyak_data-=1\n",
    "  \n",
    "print(\"\")\n",
    "print(f\"Data sebelum di buble short {datatemp}\")\n",
    "print(f\"Data setelah di buble short {listdata}\")"
   ]
  },
  {
   "cell_type": "markdown",
   "id": "3cb25259",
   "metadata": {},
   "source": [
    "DESCENDING 2"
   ]
  },
  {
   "cell_type": "code",
   "execution_count": null,
   "id": "739f0672",
   "metadata": {},
   "outputs": [
    {
     "name": "stdout",
     "output_type": "stream",
     "text": [
      "iterasi ke-1\n",
      "[8, 9, 7, 6, 5, 4, 10]\n",
      "[9, 8, 7, 6, 5, 4, 10]\n",
      "[9, 8, 7, 6, 5, 4, 10]\n",
      "[9, 8, 7, 6, 5, 4, 10]\n",
      "[9, 8, 7, 6, 5, 4, 10]\n",
      "[9, 8, 7, 6, 5, 4, 10]\n",
      "[9, 8, 7, 6, 5, 10, 4]\n",
      "\n",
      "iterasi ke-2\n",
      "[9, 8, 7, 6, 5, 10, 4]\n",
      "[9, 8, 7, 6, 5, 10, 4]\n",
      "[9, 8, 7, 6, 5, 10, 4]\n",
      "[9, 8, 7, 6, 5, 10, 4]\n",
      "[9, 8, 7, 6, 5, 10, 4]\n",
      "[9, 8, 7, 6, 10, 5, 4]\n",
      "\n",
      "iterasi ke-3\n",
      "[9, 8, 7, 6, 10, 5, 4]\n",
      "[9, 8, 7, 6, 10, 5, 4]\n",
      "[9, 8, 7, 6, 10, 5, 4]\n",
      "[9, 8, 7, 6, 10, 5, 4]\n",
      "[9, 8, 7, 10, 6, 5, 4]\n",
      "\n",
      "iterasi ke-4\n",
      "[9, 8, 7, 10, 6, 5, 4]\n",
      "[9, 8, 7, 10, 6, 5, 4]\n",
      "[9, 8, 7, 10, 6, 5, 4]\n",
      "[9, 8, 10, 7, 6, 5, 4]\n",
      "\n",
      "iterasi ke-5\n",
      "[9, 8, 10, 7, 6, 5, 4]\n",
      "[9, 8, 10, 7, 6, 5, 4]\n",
      "[9, 10, 8, 7, 6, 5, 4]\n",
      "\n",
      "iterasi ke-6\n",
      "[9, 10, 8, 7, 6, 5, 4]\n",
      "[10, 9, 8, 7, 6, 5, 4]\n",
      "\n",
      "iterasi ke-7\n",
      "[10, 9, 8, 7, 6, 5, 4]\n",
      "\n"
     ]
    }
   ],
   "source": [
    "def bubble_sort_descending(arr):\n",
    "    n = len(arr)\n",
    "    for i in range(n):\n",
    "        print(f\"iterasi ke-{i+1}\")\n",
    "        for j in range(0, n-i-1):\n",
    "            print(arr)\n",
    "            if arr[j] < arr[j+1]:\n",
    "                arr[j], arr[j+1] = arr[j+1], arr[j]\n",
    "        print(arr)\n",
    "        print()\n",
    "arr = [8, 9, 7, 6, 5, 4, 10]\n",
    "bubble_sort_descending(arr)"
   ]
  }
 ],
 "metadata": {
  "kernelspec": {
   "display_name": "Python 3",
   "language": "python",
   "name": "python3"
  },
  "language_info": {
   "codemirror_mode": {
    "name": "ipython",
    "version": 3
   },
   "file_extension": ".py",
   "mimetype": "text/x-python",
   "name": "python",
   "nbconvert_exporter": "python",
   "pygments_lexer": "ipython3",
   "version": "3.12.10"
  }
 },
 "nbformat": 4,
 "nbformat_minor": 5
}
