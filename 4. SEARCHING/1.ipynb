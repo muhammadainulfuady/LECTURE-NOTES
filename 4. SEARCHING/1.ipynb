{
 "cells": [
  {
   "cell_type": "code",
   "execution_count": 1,
   "id": "1e6e0773",
   "metadata": {},
   "outputs": [
    {
     "data": {
      "text/plain": [
       "True"
      ]
     },
     "execution_count": 1,
     "metadata": {},
     "output_type": "execute_result"
    }
   ],
   "source": [
    "def seqSearch(listData, data):\n",
    "    ind = 0\n",
    "    found = False\n",
    "    while ind < len(listData) and not found:\n",
    "        if listData[ind] == data:\n",
    "            found = True\n",
    "        else:\n",
    "            ind = ind+1\n",
    "    return found\n",
    "a=[3, 1, 5, 7, 6]\n",
    "seqSearch(a,1)"
   ]
  },
  {
   "cell_type": "code",
   "execution_count": 22,
   "id": "7c5fd0d6",
   "metadata": {},
   "outputs": [
    {
     "name": "stdout",
     "output_type": "stream",
     "text": [
      "6\n"
     ]
    },
    {
     "data": {
      "text/plain": [
       "[5]"
      ]
     },
     "execution_count": 22,
     "metadata": {},
     "output_type": "execute_result"
    }
   ],
   "source": [
    "# unordered\n",
    "def searching(n, data):\n",
    "    kosong = []\n",
    "    counter = 0\n",
    "    for i in range(len(data)):\n",
    "        if data[i] == n:\n",
    "            kosong.append(i)\n",
    "        counter += 1\n",
    "    print(counter)\n",
    "    return kosong\n",
    "user = 25\n",
    "lstdt = [4, 7, 9, 11, 15, 25]\n",
    "searching(user, lstdt)"
   ]
  },
  {
   "cell_type": "code",
   "execution_count": 25,
   "id": "491fa9e6",
   "metadata": {},
   "outputs": [
    {
     "name": "stdout",
     "output_type": "stream",
     "text": [
      "11 > 4\n",
      "11 > 7\n",
      "11 > 9\n",
      "3\n"
     ]
    }
   ],
   "source": [
    "# ordered\n",
    "# def ordered(a, b):\n",
    "data = [4, 7, 9, 11, 15, 25]\n",
    "zero = []\n",
    "n = 11\n",
    "i = 0\n",
    "count = 0\n",
    "while i <len(data) and n>data[i]:\n",
    "    print(f\"{n} > {data[i]}\")\n",
    "    if data[i] == n:\n",
    "        zero.append(i)\n",
    "    count += 1\n",
    "    i +=1\n",
    "print(count)"
   ]
  },
  {
   "cell_type": "markdown",
   "id": "731864bd",
   "metadata": {},
   "source": [
    "PR ILUSTRASI PAKE KERTAS  CORET2 KAYAK DI PAPAN TULIS"
   ]
  },
  {
   "cell_type": "code",
   "execution_count": null,
   "id": "4dcaa1a2",
   "metadata": {},
   "outputs": [
    {
     "name": "stdout",
     "output_type": "stream",
     "text": [
      "6\n"
     ]
    }
   ],
   "source": [
    "data = [4, 11, 12, 20, 25, 31, 40]\n",
    "start = 0\n",
    "end = len(data)-1\n",
    "search = 31\n",
    "while ####:\n",
    "    mid=(start+end)//2\n",
    "    if search == data[mid]:\n",
    "        return True\n",
    "    elif search<data[mid]:\n",
    "        end=mid-1\n",
    "    elif search>data[mid]:\n",
    "        start=mid+1\n",
    "print(end)"
   ]
  },
  {
   "cell_type": "code",
   "execution_count": 7,
   "id": "3a7677c0",
   "metadata": {},
   "outputs": [
    {
     "name": "stdout",
     "output_type": "stream",
     "text": [
      "False\n"
     ]
    }
   ],
   "source": [
    "def search_bil(search, bil):\n",
    "    for num in range(len(a)):\n",
    "        if num == bil:\n",
    "            return True\n",
    "        else:\n",
    "            return False\n",
    "a =[3, 1, 5, 7, 6]\n",
    "b = 6\n",
    "print(search_bil(a, b))"
   ]
  },
  {
   "cell_type": "code",
   "execution_count": null,
   "id": "5c40a49d",
   "metadata": {},
   "outputs": [],
   "source": [
    "def seqSearch(listData, data):\n",
    "    ind = 0\n",
    "    found = False\n",
    "    while ind < len(listData) and not found:\n",
    "        if listData[ind] == data:\n",
    "            found = True\n",
    "        else:\n",
    "            ind = ind+1\n",
    "    return found\n",
    "a=[3, 1, 5, 7, 6]\n",
    "seqSearch(a,1)"
   ]
  },
  {
   "cell_type": "code",
   "execution_count": null,
   "id": "63a637e3",
   "metadata": {},
   "outputs": [],
   "source": [
    "def datain(b):\n",
    "    car = 4\n",
    "    if car in b:\n",
    "        print(\"ditemukan\")\n",
    "    else:\n",
    "        print(\"tidak ditemukan\")\n",
    "b=[3, 1, 5, 7, 6]\n",
    "datain(b)"
   ]
  }
 ],
 "metadata": {
  "kernelspec": {
   "display_name": "Python 3",
   "language": "python",
   "name": "python3"
  },
  "language_info": {
   "codemirror_mode": {
    "name": "ipython",
    "version": 3
   },
   "file_extension": ".py",
   "mimetype": "text/x-python",
   "name": "python",
   "nbconvert_exporter": "python",
   "pygments_lexer": "ipython3",
   "version": "3.12.10"
  }
 },
 "nbformat": 4,
 "nbformat_minor": 5
}
