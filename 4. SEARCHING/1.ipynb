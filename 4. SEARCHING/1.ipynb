{
 "cells": [
  {
   "cell_type": "markdown",
   "id": "a4302204",
   "metadata": {},
   "source": [
    "Sequential Search (Unordered)"
   ]
  },
  {
   "cell_type": "code",
   "execution_count": 29,
   "id": "92baba89",
   "metadata": {},
   "outputs": [
    {
     "name": "stdout",
     "output_type": "stream",
     "text": [
      "\n",
      "=== Sequential Search (Unordered) ===\n",
      "Bandingkan 2 dengan 25\n",
      "Bandingkan 2 dengan 7\n",
      "Bandingkan 2 dengan 11\n",
      "Bandingkan 2 dengan 9\n",
      "Bandingkan 2 dengan 4\n",
      "Bandingkan 2 dengan 15\n",
      "Data tidak ditemukan\n"
     ]
    }
   ],
   "source": [
    "def sequential_search_unordered(data, target):\n",
    "    print(\"\\n=== Sequential Search (Unordered) ===\")\n",
    "    for i in range(len(data)):\n",
    "        print(f\"Bandingkan {target} dengan {data[i]}\")\n",
    "        if data[i] == target:\n",
    "            print(f\"Ditemukan di indeks {i}\")\n",
    "            return\n",
    "    print(\"Data tidak ditemukan\")\n",
    "dataSeqUnor = [25, 7, 11, 9, 4, 15]\n",
    "sequential_search_unordered(dataSeqUnor, 2)"
   ]
  },
  {
   "cell_type": "markdown",
   "id": "999d8e7a",
   "metadata": {},
   "source": [
    "Sequential Search (Ordered)"
   ]
  },
  {
   "cell_type": "code",
   "execution_count": 30,
   "id": "dcdde1ce",
   "metadata": {},
   "outputs": [
    {
     "name": "stdout",
     "output_type": "stream",
     "text": [
      "\n",
      "=== Sequential Search (Ordered) ===\n",
      "Bandingkan 3 dengan 25\n",
      "Berhenti, data tidak ditemukan\n"
     ]
    }
   ],
   "source": [
    "def sequential_search_ordered(data, target):\n",
    "    print(\"\\n=== Sequential Search (Ordered) ===\")\n",
    "    for i in range(len(data)):\n",
    "        print(f\"Bandingkan {target} dengan {data[i]}\")\n",
    "        if data[i] == target:\n",
    "            print(f\"Ditemukan di indeks {i}\")\n",
    "            return\n",
    "        elif data[i] > target:\n",
    "            print(\"Berhenti, data tidak ditemukan\")\n",
    "            return\n",
    "    print(\"Data tidak ditemukan\")\n",
    "dataSeqOrder = [25, 7, 11, 9, 4, 15]\n",
    "sequential_search_ordered(dataSeqOrder, 3)"
   ]
  },
  {
   "cell_type": "markdown",
   "id": "d7a019fc",
   "metadata": {},
   "source": [
    "Binary Search"
   ]
  },
  {
   "cell_type": "code",
   "execution_count": 32,
   "id": "4446a049",
   "metadata": {},
   "outputs": [
    {
     "name": "stdout",
     "output_type": "stream",
     "text": [
      "\n",
      "=== Binary Search ===\n",
      "Bandingkan 3 dengan data[2] = 11\n",
      "Bandingkan 3 dengan data[0] = 25\n",
      "Data tidak ditemukan\n"
     ]
    }
   ],
   "source": [
    "def binary_search(data, target):\n",
    "    print(\"\\n=== Binary Search ===\")\n",
    "    start = 0\n",
    "    end = len(data) - 1\n",
    "\n",
    "    while start <= end:\n",
    "        mid = (start + end) // 2\n",
    "        print(f\"Bandingkan {target} dengan data[{mid}] = {data[mid]}\")\n",
    "        if data[mid] == target:\n",
    "            print(f\"Ditemukan di indeks {mid}\")\n",
    "            return\n",
    "        elif target < data[mid]:\n",
    "            end = mid - 1\n",
    "        else:\n",
    "            start = mid + 1\n",
    "    print(\"Data tidak ditemukan\")\n",
    "dataSeqOrder = [25, 7, 11, 9, 4, 15]\n",
    "binary_search(dataSeqOrder, 3)"
   ]
  },
  {
   "cell_type": "code",
   "execution_count": 16,
   "id": "1e6e0773",
   "metadata": {},
   "outputs": [
    {
     "data": {
      "text/plain": [
       "False"
      ]
     },
     "execution_count": 16,
     "metadata": {},
     "output_type": "execute_result"
    }
   ],
   "source": [
    "def seqSearch(listData, data):\n",
    "    ind = 0\n",
    "    found = False\n",
    "    while ind < len(listData) and not found:\n",
    "        if listData[ind] == data:\n",
    "            found = True\n",
    "        else:\n",
    "            ind += 1\n",
    "    return found\n",
    "a=[3, 1, 5, 7, 6]\n",
    "seqSearch(a,19)"
   ]
  },
  {
   "cell_type": "code",
   "execution_count": 17,
   "id": "7c5fd0d6",
   "metadata": {},
   "outputs": [
    {
     "name": "stdout",
     "output_type": "stream",
     "text": [
      "2 > 4\n",
      "2 > 7\n",
      "2 > 9\n",
      "2 > 11\n",
      "2 > 15\n",
      "2 > 25\n",
      "6\n"
     ]
    },
    {
     "data": {
      "text/plain": [
       "[]"
      ]
     },
     "execution_count": 17,
     "metadata": {},
     "output_type": "execute_result"
    }
   ],
   "source": [
    "# unordered\n",
    "def searching(n, data):\n",
    "    kosong = []\n",
    "    counter = 0\n",
    "    for i in range(len(data)):\n",
    "        print(f\"{n} > {data[i]}\")\n",
    "        if data[i] == n:\n",
    "            kosong.append(i)\n",
    "        counter += 1\n",
    "    print(counter)\n",
    "    return kosong\n",
    "user = 2\n",
    "lstdt = [4, 7, 9, 11, 15, 25]\n",
    "searching(user, lstdt)"
   ]
  },
  {
   "cell_type": "code",
   "execution_count": 18,
   "id": "491fa9e6",
   "metadata": {},
   "outputs": [
    {
     "name": "stdout",
     "output_type": "stream",
     "text": [
      "0\n"
     ]
    }
   ],
   "source": [
    "def ordered(data, n):\n",
    "    zero = []\n",
    "    i = 0\n",
    "    count = 0\n",
    "    while i < len(data) and n > data[i]:\n",
    "        print(f\"{n} > {data[i]}\")\n",
    "        if data[i] == n:\n",
    "            zero.append(i)\n",
    "        count += 1\n",
    "        i += 1\n",
    "    print(count)\n",
    "data = [4, 7, 9, 11, 15, 25]\n",
    "n = 1\n",
    "ordered(data, n)"
   ]
  },
  {
   "cell_type": "markdown",
   "id": "731864bd",
   "metadata": {},
   "source": [
    "PR ILUSTRASI PAKE KERTAS  CORET2 KAYAK DI PAPAN TULIS"
   ]
  },
  {
   "cell_type": "code",
   "execution_count": 19,
   "id": "4dcaa1a2",
   "metadata": {},
   "outputs": [
    {
     "ename": "SyntaxError",
     "evalue": "invalid syntax (1919109075.py, line 5)",
     "output_type": "error",
     "traceback": [
      "\u001b[1;36m  Cell \u001b[1;32mIn[19], line 5\u001b[1;36m\u001b[0m\n\u001b[1;33m    while ####:\u001b[0m\n\u001b[1;37m          ^\u001b[0m\n\u001b[1;31mSyntaxError\u001b[0m\u001b[1;31m:\u001b[0m invalid syntax\n"
     ]
    }
   ],
   "source": [
    "data = [4, 11, 12, 20, 25, 31, 40]\n",
    "start = 0\n",
    "end = len(data)-1\n",
    "search = 31\n",
    "while ####:\n",
    "    mid=(start+end)//2\n",
    "    if search == data[mid]:\n",
    "        return True\n",
    "    elif search<data[mid]:\n",
    "        end=mid-1\n",
    "    elif search>data[mid]:\n",
    "        start=mid+1\n",
    "print(end)"
   ]
  },
  {
   "cell_type": "code",
   "execution_count": null,
   "id": "3a7677c0",
   "metadata": {},
   "outputs": [
    {
     "name": "stdout",
     "output_type": "stream",
     "text": [
      "False\n"
     ]
    }
   ],
   "source": [
    "def search_bil(search, bil):\n",
    "    for num in range(len(a)):\n",
    "        if num == bil:\n",
    "            return True\n",
    "        else:\n",
    "            return False\n",
    "a =[3, 1, 5, 7, 6]\n",
    "b = 6\n",
    "print(search_bil(a, b))"
   ]
  },
  {
   "cell_type": "code",
   "execution_count": null,
   "id": "5c40a49d",
   "metadata": {},
   "outputs": [],
   "source": [
    "def seqSearch(listData, data):\n",
    "    ind = 0\n",
    "    found = False\n",
    "    while ind < len(listData) and not found:\n",
    "        if listData[ind] == data:\n",
    "            found = True\n",
    "        else:\n",
    "            ind = ind+1\n",
    "    return found\n",
    "a=[3, 1, 5, 7, 6]\n",
    "seqSearch(a,1)"
   ]
  },
  {
   "cell_type": "code",
   "execution_count": null,
   "id": "63a637e3",
   "metadata": {},
   "outputs": [],
   "source": [
    "def datain(b):\n",
    "    car = 4\n",
    "    if car in b:\n",
    "        print(\"ditemukan\")\n",
    "    else:\n",
    "        print(\"tidak ditemukan\")\n",
    "b=[3, 1, 5, 7, 6]\n",
    "datain(b)"
   ]
  },
  {
   "cell_type": "markdown",
   "id": "a04050f4",
   "metadata": {},
   "source": [
    "binary search non interatif"
   ]
  },
  {
   "cell_type": "code",
   "execution_count": 12,
   "id": "648981d2",
   "metadata": {},
   "outputs": [
    {
     "name": "stdout",
     "output_type": "stream",
     "text": [
      "0 4 2 40\n",
      "\n",
      "0 1 0 20\n",
      "\n",
      "0 0 0 30\n",
      "\n"
     ]
    },
    {
     "data": {
      "text/plain": [
       "True"
      ]
     },
     "execution_count": 12,
     "metadata": {},
     "output_type": "execute_result"
    }
   ],
   "source": [
    "def binarySearch(data, target):\n",
    "    if len(data) == -1:\n",
    "        if data(0) == target:\n",
    "            return True\n",
    "        else:\n",
    "            return False\n",
    "    else:\n",
    "        first = 0\n",
    "        last = len(data)-1\n",
    "        mid = (first + last) // 2\n",
    "        print(first, last, mid, data[mid])\n",
    "        print()\n",
    "        if target == data[mid]:\n",
    "            return True\n",
    "        elif target < data[mid]:\n",
    "            return binarySearch(data[:mid], target)\n",
    "        elif target > data[mid]:\n",
    "            return binarySearch(data[mid+1:], target)\n",
    "data = [20, 30, 40, 50, 90,]\n",
    "target = 30\n",
    "binarySearch(data, target)"
   ]
  }
 ],
 "metadata": {
  "kernelspec": {
   "display_name": "Python 3",
   "language": "python",
   "name": "python3"
  },
  "language_info": {
   "codemirror_mode": {
    "name": "ipython",
    "version": 3
   },
   "file_extension": ".py",
   "mimetype": "text/x-python",
   "name": "python",
   "nbconvert_exporter": "python",
   "pygments_lexer": "ipython3",
   "version": "3.12.10"
  }
 },
 "nbformat": 4,
 "nbformat_minor": 5
}
