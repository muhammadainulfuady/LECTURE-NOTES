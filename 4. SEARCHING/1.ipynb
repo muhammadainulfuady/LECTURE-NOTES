{
 "cells": [
  {
   "cell_type": "code",
   "execution_count": 1,
   "id": "1e6e0773",
   "metadata": {},
   "outputs": [
    {
     "data": {
      "text/plain": [
       "True"
      ]
     },
     "execution_count": 1,
     "metadata": {},
     "output_type": "execute_result"
    }
   ],
   "source": [
    "def seqSearch(listData, data):\n",
    "    ind = 0\n",
    "    found = False\n",
    "    while ind < len(listData) and not found:\n",
    "        if listData[ind] == data:\n",
    "            found = True\n",
    "        else:\n",
    "            ind = ind+1\n",
    "    return found\n",
    "a=[3, 1, 5, 7, 6]\n",
    "seqSearch(a,1)"
   ]
  },
  {
   "cell_type": "code",
   "execution_count": 2,
   "id": "d7c5d6fc",
   "metadata": {},
   "outputs": [
    {
     "name": "stdout",
     "output_type": "stream",
     "text": [
      "tidakk dtemukan\n"
     ]
    }
   ],
   "source": [
    "a=[3, 1, 5, 7, 6]\n",
    "car = 4\n",
    "if car in a:\n",
    "    print(\"ditemukan\")\n",
    "else:\n",
    "    print(\"tidakk dtemukan\")"
   ]
  },
  {
   "cell_type": "code",
   "execution_count": 3,
   "id": "7c5fd0d6",
   "metadata": {},
   "outputs": [
    {
     "name": "stdout",
     "output_type": "stream",
     "text": [
      "6\n"
     ]
    },
    {
     "data": {
      "text/plain": [
       "[]"
      ]
     },
     "execution_count": 3,
     "metadata": {},
     "output_type": "execute_result"
    }
   ],
   "source": [
    "# unordered\n",
    "def searching(n, data):\n",
    "    kosong = []\n",
    "    counter = 0\n",
    "    for i in range(len(data)):\n",
    "        if data[i] == n:\n",
    "            kosong.append(i)\n",
    "        counter += 1\n",
    "    print(counter)\n",
    "    return kosong\n",
    "    return \"tidak ditemukan\"\n",
    "user = 3\n",
    "lstdt = [4, 7, 9, 11, 15, 25]\n",
    "searching(user, lstdt)"
   ]
  },
  {
   "cell_type": "code",
   "execution_count": 4,
   "id": "491fa9e6",
   "metadata": {},
   "outputs": [
    {
     "name": "stdout",
     "output_type": "stream",
     "text": [
      "0\n",
      "[]\n"
     ]
    }
   ],
   "source": [
    "# ordered\n",
    "data = [4, 7, 9, 11, 15, 25]\n",
    "zero = []\n",
    "n = 3\n",
    "i = 0\n",
    "count = 0\n",
    "while i <len(data) and n>data[i]:\n",
    "    print(f\"{n} > {data[i]}\")\n",
    "    if data[i] == n:\n",
    "        zero.append(i)\n",
    "    count += 1\n",
    "    i +=1\n",
    "print(count)\n",
    "print(zero)       "
   ]
  },
  {
   "cell_type": "markdown",
   "id": "731864bd",
   "metadata": {},
   "source": [
    "PR ILUSTRASI PAKE KERTAS  CORET2 KAYAK DI PAPAN TULIS"
   ]
  },
  {
   "cell_type": "code",
   "execution_count": null,
   "id": "4dcaa1a2",
   "metadata": {},
   "outputs": [
    {
     "name": "stdout",
     "output_type": "stream",
     "text": [
      "6\n"
     ]
    }
   ],
   "source": [
    "data = [4, 11, 12, 20, 25, 31, 40]\n",
    "start = 0\n",
    "end = len(data)-1\n",
    "search = 31\n",
    "while ####:\n",
    "    mid=(start+end)//2\n",
    "    if search == data[mid]:\n",
    "        return True\n",
    "    elif search<data[mid]:\n",
    "        end=mid-1\n",
    "    elif search>data[mid]:\n",
    "        start=mid+1\n",
    "print(end)"
   ]
  }
 ],
 "metadata": {
  "kernelspec": {
   "display_name": "Python 3",
   "language": "python",
   "name": "python3"
  },
  "language_info": {
   "codemirror_mode": {
    "name": "ipython",
    "version": 3
   },
   "file_extension": ".py",
   "mimetype": "text/x-python",
   "name": "python",
   "nbconvert_exporter": "python",
   "pygments_lexer": "ipython3",
   "version": "3.12.10"
  }
 },
 "nbformat": 4,
 "nbformat_minor": 5
}
