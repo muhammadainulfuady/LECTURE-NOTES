{
 "cells": [
  {
   "cell_type": "markdown",
   "id": "b29b3194",
   "metadata": {},
   "source": [
    "Berikut adalah fungsi-fungsi yang diperlukan untuk algoritma hashing ini, antara lain :\n",
    "- hash function (gunakan remainder function, yaitu data dimodulus dengan 11), nilai balik\n",
    "merupakan nilai hash\n",
    "- createHashTable, untuk membuat hash table, dengan inisialisasi semua slot berisi 'none'\n",
    "- putData, yaitu menyusun data ke dalam hash table, berdasarkan nilai hash yang dihasilkan\n",
    "- searchHash, argumen merupakan data yang dicari, dan nilai balik berupa True or False, yaitu\n",
    "apakah data ditemukan di dalam hash table"
   ]
  },
  {
   "cell_type": "code",
   "execution_count": 1,
   "id": "dbeb6228",
   "metadata": {},
   "outputs": [],
   "source": [
    "def remainderFunction(data, num):\n",
    "    return (data%num)\n",
    "\n",
    "def createHashTable(num):\n",
    "    temp = []\n",
    "    for i in range(num):\n",
    "        temp.append('none')\n",
    "    return temp\n",
    "\n",
    "def putData(data, table):\n",
    "    for i in range(len(data)):\n",
    "        ind = remainderFunction(data[i], len(table))\n",
    "        table[ind] = data[i]\n",
    "    return table\n",
    "\n",
    "def searchHash(data, table):\n",
    "    hashVal = remainderFunction(data, len(table))\n",
    "    if data == table[hashVal]:\n",
    "        return True\n",
    "    else:\n",
    "        return True"
   ]
  },
  {
   "cell_type": "markdown",
   "id": "e3f475ee",
   "metadata": {},
   "source": [
    "Berikut adalah contoh data dan pencarian dengan menggunakan konsep hashing"
   ]
  },
  {
   "cell_type": "code",
   "execution_count": 2,
   "id": "334c5b2b",
   "metadata": {},
   "outputs": [
    {
     "name": "stdout",
     "output_type": "stream",
     "text": [
      "['none', 'none', 'none', 'none', 'none', 'none', 'none', 'none', 'none', 'none', 'none']\n"
     ]
    }
   ],
   "source": [
    "a=[54, 26, 93, 17, 77, 31]\n",
    "hashTable=createHashTable(11)\n",
    "print(hashTable)"
   ]
  },
  {
   "cell_type": "code",
   "execution_count": 3,
   "id": "cb363eea",
   "metadata": {},
   "outputs": [
    {
     "name": "stdout",
     "output_type": "stream",
     "text": [
      "[77, 'none', 'none', 'none', 26, 93, 17, 'none', 'none', 31, 54]\n"
     ]
    }
   ],
   "source": [
    "hashTable=putData(a,hashTable)\n",
    "print(hashTable)"
   ]
  },
  {
   "cell_type": "code",
   "execution_count": 4,
   "id": "36bccb5c",
   "metadata": {},
   "outputs": [
    {
     "data": {
      "text/plain": [
       "True"
      ]
     },
     "execution_count": 4,
     "metadata": {},
     "output_type": "execute_result"
    }
   ],
   "source": [
    "searchHash(93,hashTable)"
   ]
  },
  {
   "cell_type": "markdown",
   "id": "48f6018b",
   "metadata": {},
   "source": [
    "Latihan - 3\n",
    "Buatlah hash function mid-square function"
   ]
  },
  {
   "cell_type": "code",
   "execution_count": 5,
   "id": "0b1e9456",
   "metadata": {},
   "outputs": [
    {
     "name": "stdout",
     "output_type": "stream",
     "text": [
      "Indeks hash untuk data 35 adalah: 0\n"
     ]
    }
   ],
   "source": [
    "def midSqFunction(data, size):\n",
    "    # 1. Kuadratkan data\n",
    "    squared = data * data  # misalnya: 35 * 35 = 1225\n",
    "    squared_str = str(squared)  # ubah ke string: \"1225\"\n",
    "\n",
    "    # 2. Ambil 1 atau 2 digit tengah (tergantung panjang)\n",
    "    length = len(squared_str)\n",
    "    if length % 2 == 0:\n",
    "        # Jika panjang genap, ambil 2 digit tengah\n",
    "        mid_digits = squared_str[(length//2)-1:(length//2)+1]\n",
    "    else:\n",
    "        # Jika panjang ganjil, ambil 1 digit tengah\n",
    "        mid_digits = squared_str[length//2]\n",
    "\n",
    "    # 3. Konversi ke integer dan mod dengan size tabel\n",
    "    mid_value = int(mid_digits)\n",
    "    return mid_value % size\n",
    "data = 35\n",
    "size = 11\n",
    "index = midSqFunction(data, size)\n",
    "print(f\"Indeks hash untuk data {data} adalah: {index}\")"
   ]
  },
  {
   "cell_type": "markdown",
   "id": "b7661280",
   "metadata": {},
   "source": [
    "Jika sebelumnya data yang digunakan adalah data dengan tipe integer, maka hash function juga\n",
    "dapat digunakan untuk data bertipe string. Nilai dari sebuah string dapat diambil dari jumlah nilai\n",
    "ascii karakter-karakter penyusun data string tersebut. Untuk mendapat nilai ascii dari suatu\n",
    "karakter, dapat menggunakan perintah ord. Berikut fungsi untuk mendapat nilai ascii dari suatu\n",
    "string."
   ]
  },
  {
   "cell_type": "code",
   "execution_count": 6,
   "id": "350b9c13",
   "metadata": {},
   "outputs": [
    {
     "data": {
      "text/plain": [
       "954"
      ]
     },
     "execution_count": 6,
     "metadata": {},
     "output_type": "execute_result"
    }
   ],
   "source": [
    "def strVal(strData):\n",
    "    temp=0\n",
    "    for i in range (len(strData)):\n",
    "        temp=temp+ord(strData[i])\n",
    "    return(temp)\n",
    "strVal(\"indonesia\")"
   ]
  },
  {
   "cell_type": "markdown",
   "id": "0c412790",
   "metadata": {},
   "source": [
    "Latihan - 4\n",
    "Modifikasi fungsi strVal diatas, agar bobot masing-masing karakter diperhitungkan."
   ]
  },
  {
   "cell_type": "code",
   "execution_count": 7,
   "id": "27ef5e68",
   "metadata": {},
   "outputs": [
    {
     "name": "stdout",
     "output_type": "stream",
     "text": [
      "601\n",
      "612\n"
     ]
    }
   ],
   "source": [
    "def strVal(strData):\n",
    "    temp = 0\n",
    "    for i in range(len(strData)):\n",
    "        bobot = i + 1\n",
    "        temp += bobot * ord(strData[i])\n",
    "    return temp\n",
    "print(strVal(\"dia\"))\n",
    "print(strVal(\"adi\"))"
   ]
  },
  {
   "cell_type": "markdown",
   "id": "291105a0",
   "metadata": {},
   "source": [
    "Berikut code untuk pembuatan fungsi Linear Probing.\n",
    "Misalkan terdapat data a=[54, 26, 93, 17, 77, 31], dan hash function yang digunakan adalah\n",
    "remainder function, maka tambahkan fungsi linear probing, agar dapat memasukkan data baru\n",
    "yaitu 44, 55, dan 20, sehingga a= [54, 26, 93, 17, 77, 31, 44, 55, 20]"
   ]
  },
  {
   "cell_type": "code",
   "execution_count": 8,
   "id": "36426190",
   "metadata": {},
   "outputs": [],
   "source": [
    "def linearProbing(ind, hashTable, data):\n",
    "    count = ind\n",
    "    found = False\n",
    "    \n",
    "    while (count != ind-1) and not (found):\n",
    "        if hashTable[count] == \"none\":\n",
    "            found = True\n",
    "            hashTable[count] = data\n",
    "        else:\n",
    "            count = count + 1\n",
    "            if count == len(hashTable) -1:\n",
    "                count = 0\n",
    "    return (hashTable)\n",
    "\n",
    "def putData3(a, hashTable, functionName):\n",
    "    for i in range(len(a)):\n",
    "        if functionName == \"reminder\":\n",
    "            ind = remainderFunction(a[i], len(hashTable))\n",
    "        elif functionName == \"midSq\":\n",
    "            ind = midSqFunction(a[i], len(hashTable))\n",
    "            \n",
    "        if hashTable[ind] == \"none\":\n",
    "            hashTable[ind] = a[i]\n",
    "        else:\n",
    "            hashTable = linearProbing(ind, hashTable, a[i])\n",
    "    return (hashTable)"
   ]
  },
  {
   "cell_type": "code",
   "execution_count": 9,
   "id": "2089102c",
   "metadata": {},
   "outputs": [
    {
     "name": "stdout",
     "output_type": "stream",
     "text": [
      "['none', 'none', 'none', 'none', 'none', 'none', 'none', 'none', 'none', 'none', 'none']\n",
      "[77, 'none', 'none', 'none', 26, 93, 17, 'none', 'none', 31, 54]\n"
     ]
    }
   ],
   "source": [
    "a=[54, 26, 93, 17, 77, 31]\n",
    "hashTable=createHashTable(11)\n",
    "print(hashTable)\n",
    "hashTable=putData3(a,hashTable,'reminder')\n",
    "print(hashTable)"
   ]
  },
  {
   "cell_type": "code",
   "execution_count": 10,
   "id": "5d01a977",
   "metadata": {},
   "outputs": [
    {
     "name": "stdout",
     "output_type": "stream",
     "text": [
      "['none', 'none', 'none', 'none', 'none', 'none', 'none', 'none', 'none', 'none', 'none']\n",
      "[77, 44, 55, 20, 26, 93, 17, 'none', 'none', 31, 54]\n"
     ]
    }
   ],
   "source": [
    "a=[54, 26, 93, 17, 77, 31,44,55,20]\n",
    "hashTable=createHashTable(11)\n",
    "print(hashTable)\n",
    "hashTable=putData3(a,hashTable,'reminder')\n",
    "print(hashTable)"
   ]
  },
  {
   "cell_type": "code",
   "execution_count": 43,
   "id": "e4101c03",
   "metadata": {},
   "outputs": [
    {
     "name": "stdout",
     "output_type": "stream",
     "text": [
      "🔎 Budi mau masuk ke laci 8\n",
      "🔎 Ani mau masuk ke laci 6\n",
      "🔎 Didi mau masuk ke laci 8\n",
      "⚠️  Laci 8 sudah dipakai, cari laci kosong...\n",
      "🔎 Sari mau masuk ke laci 5\n",
      "🔎 Udin mau masuk ke laci 6\n",
      "⚠️  Laci 6 sudah dipakai, cari laci kosong...\n",
      "\n",
      "📦 Isi laci setelah dimasukkan:\n",
      "Laci 0: kosong\n",
      "Laci 1: kosong\n",
      "Laci 2: kosong\n",
      "Laci 3: kosong\n",
      "Laci 4: kosong\n",
      "Laci 5: Sari\n",
      "Laci 6: Ani\n",
      "Laci 7: Udin\n",
      "Laci 8: Budi\n",
      "Laci 9: Didi\n",
      "Laci 10: kosong\n"
     ]
    }
   ],
   "source": [
    "def strVal(name):\n",
    "    total = 0\n",
    "    for i in range(len(name)):\n",
    "        bobot = i + 1\n",
    "        total += bobot * ord(name[i])\n",
    "    return total\n",
    "\n",
    "def hashFunction(name, tableSize):\n",
    "    return strVal(name) % tableSize\n",
    "\n",
    "def createHashTable(size):\n",
    "    return ['kosong'] * size\n",
    "\n",
    "def linearProbing(startIndex, hashTable, name):\n",
    "    index = startIndex\n",
    "    while hashTable[index] != 'kosong':\n",
    "        index = (index + 1) % len(hashTable)  # muter balik ke 0 kalau sudah mentok\n",
    "    hashTable[index] = name\n",
    "\n",
    "def insertName(nameList, hashTable):\n",
    "    for name in nameList:\n",
    "        index = hashFunction(name, len(hashTable))\n",
    "        print(f\"🔎 {name} mau masuk ke laci {index}\")\n",
    "        if hashTable[index] == 'kosong':\n",
    "            hashTable[index] = name\n",
    "        else:\n",
    "            print(f\"⚠️  Laci {index} sudah dipakai, cari laci kosong...\")\n",
    "            linearProbing(index, hashTable, name)\n",
    "    return hashTable\n",
    "\n",
    "# 🎒 Teman-teman yang mau disimpan\n",
    "teman = [\"Budi\", \"Ani\", \"Didi\", \"Sari\", \"Udin\"]\n",
    "laci = createHashTable(11)\n",
    "\n",
    "# 💾 Simpan mereka ke laci\n",
    "hasil = insertName(teman, laci)\n",
    "\n",
    "# 🧾 Tampilkan hasil\n",
    "print(\"\\n📦 Isi laci setelah dimasukkan:\")\n",
    "for i in range(len(hasil)):\n",
    "    print(f\"Laci {i}: {hasil[i]}\")\n"
   ]
  },
  {
   "cell_type": "code",
   "execution_count": 39,
   "id": "b32426a3",
   "metadata": {},
   "outputs": [
    {
     "name": "stdout",
     "output_type": "stream",
     "text": [
      "['n', 'n', 'n', 'n', 'n', 'n', 'n', 'n', 'n', 'n']\n"
     ]
    }
   ],
   "source": [
    "def createHashTable(jumlah_table):\n",
    "    temp = []\n",
    "    for i in range(jumlah_table):\n",
    "        temp.append(\"n\")\n",
    "    return temp\n",
    "\n",
    "def remainderFunction(data, num):\n",
    "    return (data%num)\n",
    "\n",
    "\n",
    "data=[50, 31, 97, 26, 65, 77]\n",
    "hashTable=createHashTable(10)\n",
    "print(hashTable)"
   ]
  },
  {
   "cell_type": "code",
   "execution_count": null,
   "id": "319e4d0b",
   "metadata": {},
   "outputs": [
    {
     "name": "stdout",
     "output_type": "stream",
     "text": [
      "['none', 'none', 'none', 'none', 'none', 'none', 'none', 'none', 'none', 'none']\n"
     ]
    }
   ],
   "source": [
    "def remainderFunction(data, num):\n",
    "    return (data%num)\n",
    "\n",
    "def createHashTable(num):\n",
    "    temp = []\n",
    "    for i in range(num):\n",
    "        temp.append('n')\n",
    "    return temp\n",
    "\n",
    "def putData(data, table):\n",
    "    for i in range(len(data)):\n",
    "        ind = remainderFunction(data[i], len(table))\n",
    "        table[ind] = data[i]\n",
    "    return table\n",
    "\n",
    "def searchHash(data, table):\n",
    "    hashVal = remainderFunction(data, len(table))\n",
    "    if data == table[hashVal]:\n",
    "        return True\n",
    "    else:\n",
    "        return True\n",
    "data = [50, 31, 97, 26, 65, 77]\n",
    "hashTable=createHashTable(10)\n",
    "print(hashTable)"
   ]
  },
  {
   "cell_type": "code",
   "execution_count": 3,
   "id": "ee490aad",
   "metadata": {},
   "outputs": [
    {
     "name": "stdout",
     "output_type": "stream",
     "text": [
      "[50, 31, 'n', 'n', 'n', 65, 26, 77, 'n', 'n']\n",
      "[50, 31, 'n', 'n', 'n', 65, 26, 77, 'n', 'n']\n"
     ]
    },
    {
     "ename": "TypeError",
     "evalue": "object of type 'int' has no len()",
     "output_type": "error",
     "traceback": [
      "\u001b[1;31m---------------------------------------------------------------------------\u001b[0m",
      "\u001b[1;31mTypeError\u001b[0m                                 Traceback (most recent call last)",
      "Cell \u001b[1;32mIn[3], line 29\u001b[0m\n\u001b[0;32m     27\u001b[0m \u001b[38;5;28mprint\u001b[39m(ambil)\n\u001b[0;32m     28\u001b[0m cari \u001b[38;5;241m=\u001b[39m \u001b[38;5;241m31\u001b[39m\n\u001b[1;32m---> 29\u001b[0m \u001b[43msearchHash\u001b[49m\u001b[43m(\u001b[49m\u001b[43mdata\u001b[49m\u001b[43m,\u001b[49m\u001b[43m \u001b[49m\u001b[43mcari\u001b[49m\u001b[43m)\u001b[49m\n",
      "Cell \u001b[1;32mIn[3], line 17\u001b[0m, in \u001b[0;36msearchHash\u001b[1;34m(data, table)\u001b[0m\n\u001b[0;32m     16\u001b[0m \u001b[38;5;28;01mdef\u001b[39;00m \u001b[38;5;21msearchHash\u001b[39m(data, table):\n\u001b[1;32m---> 17\u001b[0m     hashVal \u001b[38;5;241m=\u001b[39m remainderFunction(data, \u001b[38;5;28;43mlen\u001b[39;49m\u001b[43m(\u001b[49m\u001b[43mtable\u001b[49m\u001b[43m)\u001b[49m)\n\u001b[0;32m     18\u001b[0m     \u001b[38;5;28;01mif\u001b[39;00m data \u001b[38;5;241m==\u001b[39m table[hashVal]:\n\u001b[0;32m     19\u001b[0m         \u001b[38;5;28;01mreturn\u001b[39;00m \u001b[38;5;28;01mTrue\u001b[39;00m\n",
      "\u001b[1;31mTypeError\u001b[0m: object of type 'int' has no len()"
     ]
    }
   ],
   "source": [
    "def createHashTable(jumlah_table):\n",
    "    temp = []\n",
    "    for i in range(jumlah_table):\n",
    "        temp.append(\"n\")\n",
    "    return temp\n",
    "\n",
    "def remainderFunction(data, num):\n",
    "    return (data%num)\n",
    "\n",
    "def putData(data, table):\n",
    "    for i in range(len(data)):\n",
    "        ind = remainderFunction(data[i], len(table))\n",
    "        table[ind] = data[i]\n",
    "    return table\n",
    "\n",
    "def searchHash(data, table):\n",
    "    hashVal = remainderFunction(data, len(table))\n",
    "    if data == table[hashVal]:\n",
    "        return True\n",
    "    else:\n",
    "        return True\n",
    "\n",
    "data = [50, 31, 97, 26, 65, 77]\n",
    "hashTable=createHashTable(10)\n",
    "ambil = putData(data, hashTable)\n",
    "print(hashTable)\n",
    "print(ambil)\n",
    "cari = 31\n",
    "searchHash(data, cari)"
   ]
  }
 ],
 "metadata": {
  "kernelspec": {
   "display_name": "Python 3",
   "language": "python",
   "name": "python3"
  },
  "language_info": {
   "codemirror_mode": {
    "name": "ipython",
    "version": 3
   },
   "file_extension": ".py",
   "mimetype": "text/x-python",
   "name": "python",
   "nbconvert_exporter": "python",
   "pygments_lexer": "ipython3",
   "version": "3.12.10"
  }
 },
 "nbformat": 4,
 "nbformat_minor": 5
}
