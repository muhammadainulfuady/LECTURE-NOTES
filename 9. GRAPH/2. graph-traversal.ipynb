{
 "cells": [
  {
   "cell_type": "code",
   "execution_count": 5,
   "id": "54ea32bc",
   "metadata": {},
   "outputs": [
    {
     "name": "stdout",
     "output_type": "stream",
     "text": [
      "['c', 'd']\n"
     ]
    }
   ],
   "source": [
    "graph = {'a': ['b', 'd'],'b': ['a', 'd'], 'c': ['d'], 'd': ['a', 'b', 'c']}\n",
    "def find_path(graph, start, end, path=[]):\n",
    "    path = path + [start]\n",
    "    for node in graph[start]:   \n",
    "        if not node in path:\n",
    "            newpath = find_path(graph, node, end, path)\n",
    "            if newpath:\n",
    "                return newpath\n",
    "    if start == end:\n",
    "        return path\n",
    "    if not start in graph:\n",
    "        return None\n",
    "    return None\n",
    "print(find_path(graph,'c', 'd'))"
   ]
  }
 ],
 "metadata": {
  "kernelspec": {
   "display_name": "Python 3",
   "language": "python",
   "name": "python3"
  },
  "language_info": {
   "codemirror_mode": {
    "name": "ipython",
    "version": 3
   },
   "file_extension": ".py",
   "mimetype": "text/x-python",
   "name": "python",
   "nbconvert_exporter": "python",
   "pygments_lexer": "ipython3",
   "version": "3.12.10"
  }
 },
 "nbformat": 4,
 "nbformat_minor": 5
}
