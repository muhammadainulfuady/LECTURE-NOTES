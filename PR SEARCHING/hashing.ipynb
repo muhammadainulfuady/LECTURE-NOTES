{
 "cells": [
  {
   "cell_type": "markdown",
   "id": "93004891",
   "metadata": {},
   "source": [
    "PR NYA MENGENAI SLICING DARI PYTHON"
   ]
  },
  {
   "cell_type": "code",
   "execution_count": 5,
   "id": "85d6af76",
   "metadata": {},
   "outputs": [
    {
     "name": "stdout",
     "output_type": "stream",
     "text": [
      "1\n",
      "2\n",
      "3\n",
      "3\n",
      "Data 24 tidak ditemukan\n"
     ]
    }
   ],
   "source": [
    "def binary_search(my_data, my_target):\n",
    "    mulainya = 0\n",
    "    akhir = len(my_data) -1\n",
    "    count = 0\n",
    "    while mulainya <= akhir:\n",
    "        middle = (mulainya + akhir) // 2\n",
    "        count += 1\n",
    "        print(f\"{count}\")\n",
    "        if my_data[middle] == my_target:\n",
    "            return middle\n",
    "        elif my_target < my_data[middle]:\n",
    "            akhir = middle - 1\n",
    "        else:\n",
    "            mulainya = middle + 1\n",
    "\n",
    "    print(f\"{count}\")\n",
    "    return -1\n",
    "\n",
    "my_data = [4, 11, 12, 20, 25, 31, 40]\n",
    "my_target = 24\n",
    "\n",
    "hasil = binary_search(my_data, my_target)\n",
    "\n",
    "if hasil != -1:\n",
    "    print(f\"\\nData {my_target} ditemukan di indeks ke-{hasil}\")\n",
    "else:\n",
    "    print(f\"Data {my_target} tidak ditemukan\")"
   ]
  },
  {
   "cell_type": "markdown",
   "id": "9beedee8",
   "metadata": {},
   "source": [
    "HASIL PR NYA"
   ]
  },
  {
   "cell_type": "code",
   "execution_count": null,
   "id": "b1809544",
   "metadata": {},
   "outputs": [
    {
     "name": "stdout",
     "output_type": "stream",
     "text": [
      "[[77, 44, 55], [None], [None], [None], [26], [93], [17], [None], [None], [31, 20], [54]]\n"
     ]
    },
    {
     "data": {
      "text/plain": [
       "'data berada di slot ke-10 dan indeks ke-0'"
      ]
     },
     "execution_count": 15,
     "metadata": {},
     "output_type": "execute_result"
    }
   ],
   "source": [
    "def remainderFunction(data, divisor):\n",
    "    return data % divisor\n",
    "\n",
    "def createHashTable(size):\n",
    "    return[[None] for i in range(size)]\n",
    "\n",
    "def chaining(data, hasTable):\n",
    "    for i in data:\n",
    "        modulus = remainderFunction(i, len(hashTable))\n",
    "        if hashTable[modulus][0] == None:\n",
    "            hashTable[modulus] = [i]\n",
    "        else:\n",
    "            hashTable[modulus].append(i)\n",
    "hashTable = createHashTable(11)\n",
    "a = [54, 26, 93, 17, 77, 31, 44, 55, 20]\n",
    "chaining(a, hashTable)\n",
    "print(hashTable)\n",
    "\n",
    "# def searchHash(data_target, hashTable):\n",
    "#   ind = remainderFunction(data_target, len(hashTable))\n",
    "#   for i in range(len(hashTable[ind])):\n",
    "#     if hashTable[ind][i] == data_target:\n",
    "#       return (f'data berada di slot ke-{ind} dan indeks ke-{i}')\n",
    "#   return False\n",
    "# searchHash(54, hashTable)"
   ]
  }
 ],
 "metadata": {
  "kernelspec": {
   "display_name": "Python 3",
   "language": "python",
   "name": "python3"
  },
  "language_info": {
   "codemirror_mode": {
    "name": "ipython",
    "version": 3
   },
   "file_extension": ".py",
   "mimetype": "text/x-python",
   "name": "python",
   "nbconvert_exporter": "python",
   "pygments_lexer": "ipython3",
   "version": "3.12.10"
  }
 },
 "nbformat": 4,
 "nbformat_minor": 5
}
