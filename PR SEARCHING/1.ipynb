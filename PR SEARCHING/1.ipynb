{
 "cells": [
  {
   "cell_type": "markdown",
   "id": "b5f73a51",
   "metadata": {},
   "source": [
    "PR ILUSTRASI PAKE KERTAS  CORET2 KAYAK DI PAPAN TULIS"
   ]
  },
  {
   "cell_type": "code",
   "execution_count": null,
   "id": "bdb2c6d1",
   "metadata": {},
   "outputs": [
    {
     "name": "stdout",
     "output_type": "stream",
     "text": [
      "5\n",
      "8\n",
      "6\n",
      "7\n",
      "\n",
      "Data 24 ditemukan di indeks ke-7\n"
     ]
    }
   ],
   "source": [
    "def binary_search(my_data, my_target):\n",
    "    mulainya = 0\n",
    "    akhir = len(my_data) -1\n",
    "    count = 0\n",
    "    while mulainya <= akhir:\n",
    "        middle = (mulainya + akhir) // 2\n",
    "        count += 1\n",
    "        print(f\"Pengecekan ke-{count} = {middle}\")\n",
    "        if my_data[middle] == my_target:\n",
    "            return middle\n",
    "        elif my_target < my_data[middle]:\n",
    "            akhir = middle - 1\n",
    "        else:\n",
    "            mulainya = middle + 1\n",
    "\n",
    "    return -1\n",
    "\n",
    "my_data = [4, 6, 9, 12, 15, 18, 21, 24, 27, 30, 33]\n",
    "my_target = 24\n",
    "\n",
    "hasil = binary_search(my_data, my_target)\n",
    "\n",
    "if hasil != -1:\n",
    "    print(f\"\\nData {my_target} ditemukan di indeks ke-{hasil}\")\n",
    "else:\n",
    "    print(f\"Data {my_target} tidak ditemukan\")"
   ]
  },
  {
   "cell_type": "code",
   "execution_count": null,
   "id": "f0311931",
   "metadata": {},
   "outputs": [],
   "source": [
    "def binary_search(my_data, my_target):\n",
    "    mulainya = 0\n",
    "    akhir = len(my_data) -1\n",
    "    count = 0\n",
    "    while mulainya <= akhir:\n",
    "        middle = (mulainya + akhir) // 2\n",
    "        count += 1\n",
    "        print(f\"{count}\")\n",
    "        if my_data[middle] == my_target:\n",
    "            return middle\n",
    "        elif my_target < my_data[middle]:\n",
    "            akhir = middle - 1\n",
    "        else:\n",
    "            mulainya = middle + 1\n",
    "\n",
    "    print(f\"{count}\")\n",
    "    return -1\n",
    "\n",
    "my_data = [4, 11, 12, 20, 25, 31, 40]\n",
    "my_target = 24\n",
    "\n",
    "hasil = binary_search(my_data, my_target)\n",
    "\n",
    "if hasil != -1:\n",
    "    print(f\"\\nData {my_target} ditemukan di indeks ke-{hasil}\")\n",
    "else:\n",
    "    print(f\"Data {my_target} tidak ditemukan\")"
   ]
  },
  {
   "cell_type": "code",
   "execution_count": null,
   "id": "b473891d",
   "metadata": {},
   "outputs": [],
   "source": []
  }
 ],
 "metadata": {
  "kernelspec": {
   "display_name": "Python 3",
   "language": "python",
   "name": "python3"
  },
  "language_info": {
   "codemirror_mode": {
    "name": "ipython",
    "version": 3
   },
   "file_extension": ".py",
   "mimetype": "text/x-python",
   "name": "python",
   "nbconvert_exporter": "python",
   "pygments_lexer": "ipython3",
   "version": "3.12.10"
  }
 },
 "nbformat": 4,
 "nbformat_minor": 5
}
