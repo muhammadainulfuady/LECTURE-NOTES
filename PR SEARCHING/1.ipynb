{
 "cells": [
  {
   "cell_type": "markdown",
   "id": "b5f73a51",
   "metadata": {},
   "source": [
    "PR ILUSTRASI PAKE KERTAS  CORET2 KAYAK DI PAPAN TULIS"
   ]
  },
  {
   "cell_type": "code",
   "execution_count": null,
   "id": "bdb2c6d1",
   "metadata": {},
   "outputs": [],
   "source": [
    "data = [4, 11, 12, 20, 25, 31, 40]\n",
    "start = 0\n",
    "end = len(data)-1\n",
    "search = 31\n",
    "while ####:\n",
    "    mid=(start+end)//2\n",
    "    if search == data[mid]:\n",
    "        return True\n",
    "    elif search<data[mid]:\n",
    "        end=mid-1\n",
    "    elif search>data[mid]:\n",
    "        start=mid+1\n",
    "print(end)"
   ]
  }
 ],
 "metadata": {
  "language_info": {
   "name": "python"
  }
 },
 "nbformat": 4,
 "nbformat_minor": 5
}
