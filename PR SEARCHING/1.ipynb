{
 "cells": [
  {
   "cell_type": "markdown",
   "id": "b5f73a51",
   "metadata": {},
   "source": [
    "PR ILUSTRASI PAKE KERTAS  CORET2 KAYAK DI PAPAN TULIS"
   ]
  },
  {
   "cell_type": "code",
   "execution_count": 3,
   "id": "bdb2c6d1",
   "metadata": {},
   "outputs": [
    {
     "name": "stdout",
     "output_type": "stream",
     "text": [
      "Data 24 ditemukan di indeks ke-7\n"
     ]
    }
   ],
   "source": [
    "def binary_search(data, target):\n",
    "    start = 0\n",
    "    end = len(data) - 1\n",
    "\n",
    "    while start <= end:\n",
    "        mid = (start + end) // 2\n",
    "        if data[mid] == target:\n",
    "            return mid\n",
    "        elif target < data[mid]:\n",
    "            end = mid - 1\n",
    "        else:\n",
    "            start = mid + 1\n",
    "\n",
    "    return -1\n",
    "\n",
    "data = [4, 6, 9, 12, 15, 18, 21, 24, 27, 30, 33]\n",
    "target = 24\n",
    "\n",
    "hasil = binary_search(data, target)\n",
    "\n",
    "if hasil != -1:\n",
    "    print(f\"Data {target} ditemukan di indeks ke-{hasil}\")\n",
    "else:\n",
    "    print(f\"Data {target} tidak ditemukan\")"
   ]
  }
 ],
 "metadata": {
  "kernelspec": {
   "display_name": "Python 3",
   "language": "python",
   "name": "python3"
  },
  "language_info": {
   "codemirror_mode": {
    "name": "ipython",
    "version": 3
   },
   "file_extension": ".py",
   "mimetype": "text/x-python",
   "name": "python",
   "nbconvert_exporter": "python",
   "pygments_lexer": "ipython3",
   "version": "3.12.10"
  }
 },
 "nbformat": 4,
 "nbformat_minor": 5
}
