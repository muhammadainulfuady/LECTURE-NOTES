{
 "cells": [
  {
   "cell_type": "code",
   "execution_count": 9,
   "id": "6ccdec48",
   "metadata": {},
   "outputs": [],
   "source": [
    "class BilanganKompleks:\n",
    "    def __init__(self, real, imaj):\n",
    "        self.real = real\n",
    "        self.imaj = imaj\n",
    "        \n",
    "    def display(self):\n",
    "        print(self.real, '+', self.imaj, 'i')\n",
    "\n",
    "    def hitung(self, a, b):\n",
    "        print(self.real + a, '+', self.imaj + b, \"i\")\n",
    "\n",
    "    def tambah(self,obj):\n",
    "        print(self.real + obj.real,'+', self.imaj+obj.imaj,'i')\n",
    "\n",
    "    def kali(self,obj):\n",
    "        # real1 = self.real\n",
    "        # imaj1 = self.imaj\n",
    "        # real2 = obj.real\n",
    "        # imaj2 = obj.imaj\n",
    "\n",
    "        real = self.real * obj.real - self.imaj * obj.imaj\n",
    "        imaj = self.real * obj.imaj + self.imaj * obj.real\n",
    "        print(real,'+', imaj,'i')\n",
    "        # print(real1, real2)\n",
    "        # hasil = f\"{(real1*real2 + ((imaj1 * imaj2)* -1 ))} + {((real1 * imaj2) + (imaj1 * real2))}i\"\n",
    "        # print(hasil)"
   ]
  },
  {
   "cell_type": "code",
   "execution_count": 14,
   "id": "5171320c",
   "metadata": {},
   "outputs": [
    {
     "name": "stdout",
     "output_type": "stream",
     "text": [
      "7 + 22 i\n"
     ]
    }
   ],
   "source": [
    "num = BilanganKompleks(5,4)\n",
    "num2 = BilanganKompleks(3,2)\n",
    "\n",
    "num.kali(num2)\n",
    "# num.hitung(3,2)"
   ]
  },
  {
   "cell_type": "code",
   "execution_count": 1,
   "id": "205954c2",
   "metadata": {},
   "outputs": [
    {
     "name": "stdout",
     "output_type": "stream",
     "text": [
      "7 + 22i\n"
     ]
    }
   ],
   "source": [
    "class Kompleks():\n",
    "    def __init__(self,a,b):\n",
    "        self.real=a\n",
    "        self.i=b\n",
    "    \n",
    "    def mul(self,nums):\n",
    "        real_aa = self.real * nums.real\n",
    "        real_ab = self.real * nums.i\n",
    "        imaj_ba = self.i * nums.real\n",
    "        imaj_bb = self.i * nums.i\n",
    "        print(f\"{real_aa + (imaj_bb * -1)} + {real_ab + imaj_ba}i\")\n",
    "\n",
    "\n",
    "num1=Kompleks(5,4)\n",
    "num2=Kompleks(3,2)\n",
    "\n",
    "num1.mul(num2)"
   ]
  }
 ],
 "metadata": {
  "kernelspec": {
   "display_name": "Python 3",
   "language": "python",
   "name": "python3"
  },
  "language_info": {
   "codemirror_mode": {
    "name": "ipython",
    "version": 3
   },
   "file_extension": ".py",
   "mimetype": "text/x-python",
   "name": "python",
   "nbconvert_exporter": "python",
   "pygments_lexer": "ipython3",
   "version": "3.12.10"
  }
 },
 "nbformat": 4,
 "nbformat_minor": 5
}
