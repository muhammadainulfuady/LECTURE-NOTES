{
 "cells": [
  {
   "cell_type": "markdown",
   "id": "32c714d1",
   "metadata": {},
   "source": [
    "note = atribut yang berisi tentang valuenya, dan note ini nantii menuju kemana"
   ]
  },
  {
   "cell_type": "markdown",
   "id": "0d4bedf5",
   "metadata": {},
   "source": [
    "pr nambah node di bagian belakang  dan juga membuat tamplan nya itu jadi list"
   ]
  },
  {
   "cell_type": "code",
   "execution_count": null,
   "id": "32faba35",
   "metadata": {},
   "outputs": [],
   "source": [
    "# node\n",
    "class Node:\n",
    "    def __init__(self, item): # dengan atribut item\n",
    "        self.item = item # dengan atribut item\n",
    "        self.next = None # dengan atribut next\n",
    "        \n",
    "    def getData(self): # ini di namakan object lagi bukan sebagai function\n",
    "        return self.item\n",
    "    \n",
    "    def getNext(self):\n",
    "        return self.next\n",
    "    # pointer next nya itu menunjuk ke mana? node yang lain kah atau nul, none, nil kah\n",
    "    \n",
    "    def setData(self, newItem):\n",
    "        self.item = newItem\n",
    "    # untuk ngeset data misalkan tadi nilainya 10 dan mau saya ganti 98\n",
    "        \n",
    "    def setNext(self, newNext):\n",
    "        self.next = newNext\n",
    "    # untuk mindahin yang semulanya null atau none itu masuk ke node yang lain\n",
    "\n",
    "# linked list\n",
    "class LinkedList:\n",
    "    def __init__(self):\n",
    "        # membuat head\n",
    "        self.head = None\n",
    "\n",
    "    def addFirst(self, item):\n",
    "        temp = Node(item)\n",
    "        temp.setNext(self.head)\n",
    "        self.head = temp\n",
    "    \n",
    "    def addRear(self, item):\n",
    "        new_data = Node(item)\n",
    "        if self.head is None:\n",
    "            self.head = new_data\n",
    "        else:\n",
    "            current = self.head\n",
    "        while current.getNext() is not None:\n",
    "            current = current.getNext() \n",
    "        current.setNext(new_data)\n",
    "\n",
    "    def display(self):\n",
    "        current = self.head\n",
    "        temp = \"\"\n",
    "        while current != None:\n",
    "            temp += str(current.getData()) + \" \"\n",
    "            current = current.getNext()\n",
    "        temp = \"[ \" + temp + \"]\"\n",
    "        return temp"
   ]
  },
  {
   "cell_type": "code",
   "execution_count": 6,
   "id": "2b001f16",
   "metadata": {},
   "outputs": [
    {
     "name": "stdout",
     "output_type": "stream",
     "text": [
      "[ 15 15 10 ]\n",
      "[ 15 15 10 11 ]\n"
     ]
    }
   ],
   "source": [
    "dataList = LinkedList()\n",
    "dataList.addFirst(10)\n",
    "dataList.addFirst(15)\n",
    "dataList.addFirst(15)\n",
    "print(dataList.display())\n",
    "dataList.addRear(11)\n",
    "print(dataList.display())"
   ]
  }
 ],
 "metadata": {
  "kernelspec": {
   "display_name": "Python 3",
   "language": "python",
   "name": "python3"
  },
  "language_info": {
   "codemirror_mode": {
    "name": "ipython",
    "version": 3
   },
   "file_extension": ".py",
   "mimetype": "text/x-python",
   "name": "python",
   "nbconvert_exporter": "python",
   "pygments_lexer": "ipython3",
   "version": "3.12.10"
  }
 },
 "nbformat": 4,
 "nbformat_minor": 5
}
