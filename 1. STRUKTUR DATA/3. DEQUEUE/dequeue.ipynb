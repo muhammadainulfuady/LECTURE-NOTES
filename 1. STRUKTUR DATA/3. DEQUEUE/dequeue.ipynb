{
 "cells": [
  {
   "cell_type": "code",
   "execution_count": 1,
   "id": "81cac143",
   "metadata": {},
   "outputs": [],
   "source": [
    "def createDeque():\n",
    "    d=[]\n",
    "    return (d)\n",
    "def addFront(d,data):\n",
    "    d.insert(0,data)\n",
    "    return(d)\n",
    "def addRear(d,data):\n",
    "    d.append(data)\n",
    "    return(d)\n",
    "def removeRear(d):\n",
    "    data=d.pop()\n",
    "    return(data)\n",
    "def removeFront(d):\n",
    "    data=d.pop(0)\n",
    "    return(data)\n",
    "def isEmpty(d):\n",
    "    return (d==[])\n",
    "def size(d):\n",
    "    return (len(d))"
   ]
  },
  {
   "cell_type": "code",
   "execution_count": 3,
   "id": "3ff74d2f",
   "metadata": {},
   "outputs": [
    {
     "name": "stdout",
     "output_type": "stream",
     "text": [
      "True\n",
      "False\n",
      "True\n",
      "True\n",
      "True\n",
      "False\n"
     ]
    }
   ],
   "source": [
    "def cekPalindrom(string):\n",
    "    palindrom=createDeque()\n",
    "    for huruf in string:\n",
    "        addRear(palindrom,huruf)\n",
    "    cek=True\n",
    "    while size(palindrom)>1:\n",
    "        a=removeRear(palindrom)\n",
    "        b=removeFront(palindrom)\n",
    "        if (a==b):\n",
    "            cek=cek and True\n",
    "        else:\n",
    "            cek=cek and False\n",
    "    return cek\n",
    "print(cekPalindrom('hannah'))\n",
    "print(cekPalindrom('surabaya'))\n",
    "print(cekPalindrom('abcdcba'))\n",
    "print(cekPalindrom('katak'))\n",
    "print(cekPalindrom('taat'))\n",
    "print(cekPalindrom('dia'))"
   ]
  }
 ],
 "metadata": {
  "kernelspec": {
   "display_name": "Python 3",
   "language": "python",
   "name": "python3"
  },
  "language_info": {
   "codemirror_mode": {
    "name": "ipython",
    "version": 3
   },
   "file_extension": ".py",
   "mimetype": "text/x-python",
   "name": "python",
   "nbconvert_exporter": "python",
   "pygments_lexer": "ipython3",
   "version": "3.12.10"
  }
 },
 "nbformat": 4,
 "nbformat_minor": 5
}
