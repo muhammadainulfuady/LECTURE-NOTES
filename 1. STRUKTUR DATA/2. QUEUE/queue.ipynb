{
 "cells": [
  {
   "cell_type": "code",
   "execution_count": 29,
   "id": "6f3e6c8f",
   "metadata": {},
   "outputs": [],
   "source": [
    "#FIFO FIRST IN FIRST OUT\n",
    "def createQueue(): #inisialisasi struktur data queue kosong\n",
    "  q=[]\n",
    "  return (q)\n",
    "def enqueue(q,data): #penambahan *data* baru pada queue / rear - indeks 0\n",
    "  q.insert(len(q),data)\n",
    "  return(q)\n",
    "def dequeue(q): #penghapusan data / front indeks terakhir\n",
    "  data=q.pop(0)\n",
    "  return(data)\n",
    "def isEmpty(q): #pengecekan apakah queue dalam keadaan kosong\n",
    "  return (q==[])\n",
    "def size(q):\n",
    "  return (len(q)) #informasi jumlah data yang terdapat pada queue"
   ]
  },
  {
   "cell_type": "code",
   "execution_count": 30,
   "id": "810c029b",
   "metadata": {},
   "outputs": [
    {
     "name": "stdout",
     "output_type": "stream",
     "text": [
      "init =  ['A', 'B', 'C', 'D', 'E']\n",
      "['B', 'C', 'D', 'E', 'A']\n",
      "['C', 'D', 'E', 'A', 'B']\n",
      "['D', 'E', 'A', 'B', 'C']\n",
      "\n",
      "['A', 'B', 'C', 'E']\n",
      "['B', 'C', 'E', 'A']\n",
      "['C', 'E', 'A', 'B']\n",
      "\n",
      "['A', 'B', 'E']\n",
      "['B', 'E', 'A']\n",
      "['E', 'A', 'B']\n",
      "\n",
      "['B', 'A']\n",
      "['A', 'B']\n",
      "['B', 'A']\n",
      "\n",
      "['A']\n",
      "['A']\n",
      "['A']\n",
      "\n",
      "the winner :  A\n"
     ]
    }
   ],
   "source": [
    "players=['A','B','C','D','E']\n",
    "hotPotato = createQueue()\n",
    "for i in range(len(players)):\n",
    "    enqueue(hotPotato,players[i])\n",
    "print('init = ', hotPotato)\n",
    "n=3\n",
    "while not(isEmpty(hotPotato)):\n",
    "  for i in range(n):\n",
    "      temp=dequeue(hotPotato)\n",
    "      enqueue(hotPotato,temp)\n",
    "      print(hotPotato)\n",
    "  print(\"\")\n",
    "  winner=dequeue(hotPotato)\n",
    "print('the winner : ',winner)"
   ]
  },
  {
   "cell_type": "code",
   "execution_count": 31,
   "id": "94f510ca",
   "metadata": {},
   "outputs": [
    {
     "name": "stdout",
     "output_type": "stream",
     "text": [
      "Peserta Permainan = ['Ali', 'Budi', 'Cici', 'Dedi', 'Eka']\n",
      "Hitungan ke- 3 = ['Dedi', 'Eka', 'Ali', 'Budi', 'Cici']\n",
      "Peserta Permainan = ['Eka', 'Ali', 'Budi', 'Cici']\n",
      "Hitungan ke- 3 = ['Cici', 'Eka', 'Ali', 'Budi']\n",
      "Peserta Permainan = ['Eka', 'Ali', 'Budi']\n",
      "Hitungan ke- 3 = ['Eka', 'Ali', 'Budi']\n",
      "Peserta Permainan = ['Ali', 'Budi']\n",
      "Hitungan ke- 3 = ['Budi', 'Ali']\n",
      "Peserta Permainan = ['Ali']\n",
      "Pemenang = Ali\n"
     ]
    }
   ],
   "source": [
    "def ularNaga(nama, hitungan):\n",
    "    gameQueue = createQueue()  # Membuat queue untuk peserta\n",
    "    for namaAnak in nama:\n",
    "        enqueue(gameQueue, namaAnak)  # Menambahkan peserta ke queue\n",
    "    print('Peserta Permainan =', gameQueue)\n",
    "\n",
    "    # Proses eliminasi peserta berdasarkan hitungan\n",
    "    while size(gameQueue) > 1:\n",
    "        for i in range(hitungan):\n",
    "            # Pindahkan peserta ke belakang queue sesuai hitungan\n",
    "            enqueue(gameQueue, dequeue(gameQueue)) \n",
    "        print('Hitungan ke-', i+1, '=', gameQueue)\n",
    "        dequeue(gameQueue)  # Hapus peserta yang tereliminasi\n",
    "        print('Peserta Permainan =', gameQueue)\n",
    "\n",
    "    # Peserta yang terakhir adalah pemenangnya\n",
    "    return dequeue(gameQueue)\n",
    "\n",
    "# Contoh Pemanggilan\n",
    "peserta = ['Ali', 'Budi', 'Cici', 'Dedi', 'Eka']\n",
    "hitungan = 3\n",
    "pemenang = ularNaga(peserta, hitungan)\n",
    "print('Pemenang =', pemenang)"
   ]
  },
  {
   "cell_type": "code",
   "execution_count": 2,
   "id": "7dded03e",
   "metadata": {},
   "outputs": [],
   "source": [
    "def inputTask(numOfTask):\n",
    "    task={}\n",
    "    for i in range(numOfTask):\n",
    "        nama= input(\"Nama task = \")\n",
    "        waktu=int(input(\"Waktu task = \"))\n",
    "        task[nama]=[waktu, 0]\n",
    "    return task\n",
    "Task = inputTask(int(input(\"Watu proses = \")))"
   ]
  },
  {
   "cell_type": "code",
   "execution_count": 52,
   "id": "98ebecc4",
   "metadata": {},
   "outputs": [
    {
     "name": "stdout",
     "output_type": "stream",
     "text": [
      "{'a': [5, 0], 'b': [4, 0], 'c': [2, 0]}\n"
     ]
    }
   ],
   "source": [
    "print(Task)"
   ]
  },
  {
   "cell_type": "code",
   "execution_count": 53,
   "id": "e2d14bf3",
   "metadata": {},
   "outputs": [],
   "source": [
    "def scheduling(limitTime,task):\n",
    "    taskQueue=createQueue()\n",
    "    for nama in task.keys():\n",
    "        enqueue(taskQueue,nama)\n",
    "    total=0\n",
    "    while not(isEmpty(taskQueue)):\n",
    "        temp=dequeue(taskQueue)\n",
    "        remainTemp=task[temp][0]-limitTime\n",
    "        if remainTemp>=0:\n",
    "            enqueue(taskQueue, temp)\n",
    "            procTime=limitTime\n",
    "        else:\n",
    "            procTime=task[temp][0]\n",
    "            remainTemp=0\n",
    "        total =total + procTime\n",
    "        task[temp][0]=remainTemp\n",
    "        task[temp][1]=total\n",
    "        print(taskQueue)\n",
    "    return task"
   ]
  },
  {
   "cell_type": "code",
   "execution_count": 54,
   "id": "e98dbdc4",
   "metadata": {},
   "outputs": [
    {
     "name": "stdout",
     "output_type": "stream",
     "text": [
      "['b', 'c', 'a']\n",
      "['c', 'a', 'b']\n",
      "['a', 'b']\n",
      "['b']\n",
      "[]\n",
      "{'a': [0, 10], 'b': [0, 11], 'c': [0, 8]}\n"
     ]
    }
   ],
   "source": [
    "newtask=scheduling(3, Task)\n",
    "print(newtask)"
   ]
  },
  {
   "cell_type": "code",
   "execution_count": null,
   "id": "a0090784",
   "metadata": {},
   "outputs": [],
   "source": []
  }
 ],
 "metadata": {
  "kernelspec": {
   "display_name": "Python 3",
   "language": "python",
   "name": "python3"
  },
  "language_info": {
   "codemirror_mode": {
    "name": "ipython",
    "version": 3
   },
   "file_extension": ".py",
   "mimetype": "text/x-python",
   "name": "python",
   "nbconvert_exporter": "python",
   "pygments_lexer": "ipython3",
   "version": "3.12.10"
  }
 },
 "nbformat": 4,
 "nbformat_minor": 5
}
