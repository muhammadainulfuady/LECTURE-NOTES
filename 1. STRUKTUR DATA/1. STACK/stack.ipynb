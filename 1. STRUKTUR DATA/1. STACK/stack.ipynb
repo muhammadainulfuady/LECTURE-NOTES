{
 "cells": [
  {
   "cell_type": "markdown",
   "metadata": {},
   "source": [
    "FUNGSINYA STACK DARI BU INDAH"
   ]
  },
  {
   "cell_type": "code",
   "execution_count": 1,
   "metadata": {},
   "outputs": [],
   "source": [
    "def stack():\n",
    "    s=[]\n",
    "    return s\n",
    "def push(s,data):\n",
    "    s.append(data)\n",
    "def pop(s):\n",
    "    data=s.pop()\n",
    "    return(data)\n",
    "def peek(s):\n",
    "    return(s[len(s)-1])\n",
    "def isEmpty(s):\n",
    "    return (s==[])\n",
    "def size(s):\n",
    "    return(len(s))"
   ]
  },
  {
   "cell_type": "markdown",
   "metadata": {},
   "source": [
    "MENAMBAHKAN ANGKA"
   ]
  },
  {
   "cell_type": "code",
   "execution_count": 2,
   "metadata": {},
   "outputs": [
    {
     "name": "stdout",
     "output_type": "stream",
     "text": [
      "Stack Ke-1 = [] \n",
      "angka [1] ditambahkan jadi = [1]\n",
      "Stack Ke-2 = [1] \n",
      "angka [2] ditambahkan jadi = [1, 2]\n",
      "Stack Ke-3 = [1, 2] \n",
      "angka [3] ditambahkan jadi = [1, 2, 3]\n",
      "Stack sekarang: [1, 2, 3]\n"
     ]
    },
    {
     "data": {
      "text/plain": [
       "[1, 2, 3]"
      ]
     },
     "execution_count": 2,
     "metadata": {},
     "output_type": "execute_result"
    }
   ],
   "source": [
    "def tambah():\n",
    "    user = int(input(\"masukan angka yang akan ditambahan : \"))\n",
    "    st = stack()\n",
    "    for i in range(1, user+1):\n",
    "        print(f\"Stack Ke-{i} = {st} \")\n",
    "        push(st, i)\n",
    "        print(f\"angka [{i}] ditambahkan jadi = {st}\")\n",
    "    print(f\"Stack sekarang: {st}\")\n",
    "    return st\n",
    "tambah()"
   ]
  },
  {
   "cell_type": "markdown",
   "metadata": {},
   "source": [
    "MEMBALIK KATA"
   ]
  },
  {
   "cell_type": "code",
   "execution_count": 3,
   "metadata": {},
   "outputs": [
    {
     "name": "stdout",
     "output_type": "stream",
     "text": [
      "stackbil1 = [2, 5, 3]\n",
      "stackbil2= [4, 5, 8, 7]\n",
      "angka [] ditambahkan jadi = []\n",
      "Stack sekarang: []\n"
     ]
    }
   ],
   "source": [
    "stack1= [2, 5, 3]\n",
    "stack2= [4, 5, 8, 7]\n",
    "st = stack()\n",
    "print(f\"stackbil1 = {stack1}\")\n",
    "print(f\"stackbil2= {stack2}\")\n",
    "print(f\"angka [] ditambahkan jadi = {st}\")\n",
    "print(f\"Stack sekarang: {st}\")"
   ]
  },
  {
   "cell_type": "code",
   "execution_count": 4,
   "metadata": {},
   "outputs": [
    {
     "name": "stdout",
     "output_type": "stream",
     "text": [
      "==== Hasil Kebalikannya ====\n",
      "2\n",
      "==== ===================== ====\n"
     ]
    }
   ],
   "source": [
    "def balik_kata():\n",
    "    kata = input(\"Masukkan kata: \")\n",
    "    stack_kata = stack()\n",
    "    \n",
    "    for huruf in kata:\n",
    "        push(stack_kata, huruf)\n",
    "    \n",
    "    kata_terbalik = \"\"\n",
    "    while not isEmpty(stack_kata):\n",
    "        kata_terbalik += pop(stack_kata)\n",
    "    \n",
    "    return kata_terbalik\n",
    "\n",
    "print(\"==== Hasil Kebalikannya ====\")\n",
    "print(balik_kata())\n",
    "print(\"==== ===================== ====\")"
   ]
  },
  {
   "cell_type": "markdown",
   "metadata": {},
   "source": [
    "BINER KE DESIMAL"
   ]
  },
  {
   "cell_type": "code",
   "execution_count": 5,
   "metadata": {},
   "outputs": [
    {
     "name": "stdout",
     "output_type": "stream",
     "text": [
      "==== Hasil Konversi Biner ke Desimal ====\n",
      "Desimal: 2\n",
      "==== =============================== ====\n"
     ]
    }
   ],
   "source": [
    "def biner_desimal():\n",
    "    biner = input(\"Masukkan bilangan biner: \")\n",
    "    stack_biner = stack()\n",
    "    \n",
    "    for digit in biner:\n",
    "        push(stack_biner, int(digit))\n",
    "    \n",
    "    decimal = 0\n",
    "    pangkat = 0\n",
    "    \n",
    "    while not isEmpty(stack_biner):\n",
    "        decimal += pop(stack_biner) * (2 ** pangkat)\n",
    "        pangkat += 1\n",
    "    \n",
    "    return decimal\n",
    "\n",
    "print(\"==== Hasil Konversi Biner ke Desimal ====\")\n",
    "hasil = biner_desimal()\n",
    "print(\"Desimal:\", hasil)\n",
    "print(\"==== =============================== ====\")\n"
   ]
  },
  {
   "cell_type": "markdown",
   "metadata": {},
   "source": [
    "DESIMAL KE BINER"
   ]
  },
  {
   "cell_type": "code",
   "execution_count": null,
   "metadata": {},
   "outputs": [
    {
     "name": "stdout",
     "output_type": "stream",
     "text": [
      "==== Hasil Konversi Desimal ke Biner ====\n",
      "Hasil biner: 101\n",
      "==== =============================== ====\n"
     ]
    }
   ],
   "source": [
    "def desimal_biner(decimal):\n",
    "    stack_biner = stack()\n",
    "    \n",
    "    while decimal > 0:\n",
    "        push(stack_biner, decimal % 2)\n",
    "        decimal //= 2\n",
    "    \n",
    "    biner = \"\"\n",
    "    while not isEmpty(stack_biner):\n",
    "        biner += str(pop(stack_biner))\n",
    "    \n",
    "    return biner\n",
    "\n",
    "print(\"==== Hasil Konversi Desimal ke Biner ====\")\n",
    "hasil = desimal_biner(5)\n",
    "print(\"Hasil biner:\", hasil)\n",
    "print(\"==== =============================== ====\")"
   ]
  },
  {
   "cell_type": "markdown",
   "metadata": {},
   "source": [
    "PARANTHESES"
   ]
  },
  {
   "cell_type": "code",
   "execution_count": 7,
   "metadata": {},
   "outputs": [
    {
     "name": "stdout",
     "output_type": "stream",
     "text": [
      "True\n"
     ]
    }
   ],
   "source": [
    "def parantheses(num):\n",
    "    stack_parentheses = stack()\n",
    "    \n",
    "    for char in num:\n",
    "        if char in ['(', '{', '[']:\n",
    "            push(stack_parentheses, char)\n",
    "        \n",
    "        elif char in [')', '}', ']']:\n",
    "            if isEmpty(stack_parentheses) or (\n",
    "                pop(stack_parentheses) not in ['(', '{', '['] and\n",
    "                char in [')', '}', ']']\n",
    "            ):\n",
    "                return False\n",
    "    \n",
    "    return isEmpty(stack_parentheses)\n",
    "\n",
    "print(parantheses(\"9+0(-8(*6))\"))"
   ]
  },
  {
   "cell_type": "markdown",
   "metadata": {},
   "source": [
    "INFIX PREFIX DAN POSTFIX "
   ]
  },
  {
   "cell_type": "code",
   "execution_count": 8,
   "metadata": {},
   "outputs": [
    {
     "name": "stdout",
     "output_type": "stream",
     "text": [
      "Hasil Prefix:\n",
      "+ * A B C \n"
     ]
    }
   ],
   "source": [
    "def prioritas(op):\n",
    "    if op == '+' or op == '-':\n",
    "        return 1\n",
    "    elif op == '*' or op == '/':\n",
    "        return 2\n",
    "    elif op == '^':\n",
    "        return 3\n",
    "    return 0\n",
    "\n",
    "def is_operator(c):\n",
    "    return c in '+-*/^'\n",
    "\n",
    "def balik_list(expr):\n",
    "    st = stack()\n",
    "    for ch in expr:\n",
    "        push(st, ch)\n",
    "    hasil = []\n",
    "    while not isEmpty(st):\n",
    "        hasil.append(pop(st))\n",
    "    return hasil\n",
    "\n",
    "def infix_ke_prefix(expr):\n",
    "    expr = balik_list(expr)  # 1. Balik urutan manual pakai stack\n",
    "\n",
    "    expr = ['(' if c == ')' else ')' if c == '(' else c for c in expr]  # 2. Tukar tanda kurung\n",
    "\n",
    "    output = []\n",
    "    st = stack()\n",
    "\n",
    "    for token in expr:\n",
    "        if token.isalnum():\n",
    "            output.append(token)\n",
    "        elif token == '(':\n",
    "            push(st, token)\n",
    "        elif token == ')':\n",
    "            while not isEmpty(st) and peek(st) != '(':\n",
    "                output.append(pop(st))\n",
    "            pop(st)\n",
    "        elif is_operator(token):\n",
    "            while not isEmpty(st) and prioritas(token) <= prioritas(peek(st)):\n",
    "                output.append(pop(st))\n",
    "            push(st, token)\n",
    "\n",
    "    while not isEmpty(st):\n",
    "        output.append(pop(st))\n",
    "\n",
    "    prefix = balik_list(output)\n",
    "\n",
    "    print(\"Hasil Prefix:\")\n",
    "    for token in prefix:\n",
    "        print(token, end=' ')\n",
    "    print()\n",
    "\n",
    "infix_ke_prefix(\"(A*B)+C\")  "
   ]
  },
  {
   "cell_type": "code",
   "execution_count": 9,
   "metadata": {},
   "outputs": [
    {
     "name": "stdout",
     "output_type": "stream",
     "text": [
      "Postfix Expression: ab*b+c-\n"
     ]
    }
   ],
   "source": [
    "def infix_ke_postfix(infix):\n",
    "    output = \"\"\n",
    "    data = stack()\n",
    "\n",
    "    operator_precedence = {\n",
    "        '*': 2,\n",
    "        '/': 2,\n",
    "        '+': 1,\n",
    "        '-': 1,\n",
    "        '(': 0  # Prioritas rendah untuk tanda kurung buka\n",
    "    }\n",
    "\n",
    "    for ch in infix:\n",
    "        if ch.isalnum():  # Jika karakter adalah operand (angka/variabel)\n",
    "            output += ch\n",
    "        elif ch == '(':  # Jika tanda kurung buka\n",
    "            push(data, ch)\n",
    "        elif ch == ')':  # Jika tanda kurung tutup\n",
    "            while not isEmpty(data) and peek(data) != '(':\n",
    "                output += pop(data)\n",
    "            pop(data)  # Mengeluarkan tanda kurung buka dari stack\n",
    "        elif ch in operator_precedence:  # Jika karakter adalah operator\n",
    "            while (not isEmpty(data) and operator_precedence[peek(data)] >= operator_precedence[ch]):\n",
    "                output += pop(data)\n",
    "            push(data, ch)\n",
    "\n",
    "    # Memastikan semua operator di stack dikeluarkan\n",
    "    while not isEmpty(data):\n",
    "        output += pop(data)\n",
    "\n",
    "    return output\n",
    "\n",
    "# Contoh pemanggilan\n",
    "infix = \"(a*b)+b-c\"\n",
    "hasil_postfix = infix_ke_postfix(infix)\n",
    "print(\"Postfix Expression:\", hasil_postfix)"
   ]
  },
  {
   "cell_type": "markdown",
   "metadata": {},
   "source": [
    "PALINDROM"
   ]
  },
  {
   "cell_type": "code",
   "execution_count": 10,
   "metadata": {},
   "outputs": [
    {
     "name": "stdout",
     "output_type": "stream",
     "text": [
      "ADI bukan palindrome\n"
     ]
    }
   ],
   "source": [
    "def is_palindrome(kata):\n",
    "    stack = []\n",
    "    \n",
    "    # Masukkan semua karakter ke dalam stack\n",
    "    for char in kata:\n",
    "        push(stack, char)\n",
    "    \n",
    "    # Bandingkan karakter awal dan akhir\n",
    "    for char in kata:\n",
    "        if char != pop(stack):\n",
    "            return False  # Bukan palindrome jika tidak sama\n",
    "    \n",
    "    return True  # Palindrome jika semua karakter sama\n",
    "\n",
    "# Contoh penggunaan\n",
    "kata = \"ADI\"\n",
    "if is_palindrome(kata):\n",
    "    print(kata, \"adalah palindrome\")\n",
    "else:\n",
    "    print(kata, \"bukan palindrome\")"
   ]
  }
 ],
 "metadata": {
  "kernelspec": {
   "display_name": "Python 3",
   "language": "python",
   "name": "python3"
  },
  "language_info": {
   "codemirror_mode": {
    "name": "ipython",
    "version": 3
   },
   "file_extension": ".py",
   "mimetype": "text/x-python",
   "name": "python",
   "nbconvert_exporter": "python",
   "pygments_lexer": "ipython3",
   "version": "3.12.10"
  }
 },
 "nbformat": 4,
 "nbformat_minor": 2
}
