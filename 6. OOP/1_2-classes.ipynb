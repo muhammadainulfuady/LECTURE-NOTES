{
 "cells": [
  {
   "cell_type": "markdown",
   "id": "77afdd61",
   "metadata": {},
   "source": [
    "<!-- bilangan imaginer adalah bilangan 5 + 4i yaitu i merupakan akar minus satu-->"
   ]
  },
  {
   "cell_type": "code",
   "execution_count": 1,
   "id": "87064af5",
   "metadata": {},
   "outputs": [],
   "source": [
    "a = 6\n",
    "data = 'surabaya'"
   ]
  },
  {
   "cell_type": "markdown",
   "id": "12a0777a",
   "metadata": {},
   "source": [
    "TAMBAHKAN PERKALIAN JUGA DI DALAM PR INI"
   ]
  },
  {
   "cell_type": "code",
   "execution_count": 2,
   "id": "5c1cf936",
   "metadata": {},
   "outputs": [],
   "source": [
    "class BilanganKompleks:\n",
    "    # constructor\n",
    "    def __init__(self, a, b):\n",
    "        self.real = a\n",
    "        self.imaj = b\n",
    "        \n",
    "    def display(self):\n",
    "        print(f\"{self.real} + {self.imaj}i\")\n",
    "        \n",
    "    def add(self, obj):\n",
    "        self.real += obj.real\n",
    "        self.imaj += obj.imaj\n",
    "        \n",
    "    def add2(self, obj):\n",
    "        temp1 = self.real + obj.real\n",
    "        temp2 = self.imaj + obj.imaj\n",
    "        return BilanganKompleks(temp1, temp2)\n"
   ]
  },
  {
   "cell_type": "code",
   "execution_count": 3,
   "id": "0bfcc4c6",
   "metadata": {},
   "outputs": [],
   "source": [
    "# instan dan nama kelas\n",
    "# object atau instant\n",
    "num1 = BilanganKompleks(7, 3) # proses instansiasi\n",
    "num2 = BilanganKompleks(4,2) # proses instansiasi"
   ]
  },
  {
   "cell_type": "code",
   "execution_count": 4,
   "id": "a06f0395",
   "metadata": {},
   "outputs": [
    {
     "name": "stdout",
     "output_type": "stream",
     "text": [
      "7 + 3i\n",
      "4 + 2i\n"
     ]
    }
   ],
   "source": [
    "num1.display()\n",
    "num2.display()"
   ]
  },
  {
   "cell_type": "code",
   "execution_count": 5,
   "id": "f4b0eac6",
   "metadata": {},
   "outputs": [],
   "source": [
    "num3 = num2.add2(num1)\n",
    "num2.add(num1)"
   ]
  },
  {
   "cell_type": "code",
   "execution_count": 6,
   "id": "fceec636",
   "metadata": {},
   "outputs": [
    {
     "name": "stdout",
     "output_type": "stream",
     "text": [
      "7 + 3i\n",
      "11 + 5i\n",
      "11 + 5i\n"
     ]
    }
   ],
   "source": [
    "num1.display()\n",
    "num2.display()\n",
    "num3.display()"
   ]
  }
 ],
 "metadata": {
  "kernelspec": {
   "display_name": "Python 3",
   "language": "python",
   "name": "python3"
  },
  "language_info": {
   "codemirror_mode": {
    "name": "ipython",
    "version": 3
   },
   "file_extension": ".py",
   "mimetype": "text/x-python",
   "name": "python",
   "nbconvert_exporter": "python",
   "pygments_lexer": "ipython3",
   "version": "3.12.10"
  }
 },
 "nbformat": 4,
 "nbformat_minor": 5
}
