{
 "cells": [
  {
   "cell_type": "code",
   "execution_count": 175,
   "id": "6948a9dc",
   "metadata": {},
   "outputs": [],
   "source": [
    "class Node:\n",
    "    def __init__(self, val):\n",
    "        self.data = val\n",
    "        self.next = None\n",
    "    \n",
    "    def getData(self):\n",
    "        return self.data\n",
    "    \n",
    "    def getNext(self):\n",
    "        return self.next\n",
    "    \n",
    "    def setData(self, item):\n",
    "        self.data = item\n",
    "        \n",
    "    def setNext(self, nextPointer):\n",
    "        self.next = nextPointer"
   ]
  },
  {
   "cell_type": "code",
   "execution_count": 176,
   "id": "6a6a8be9",
   "metadata": {},
   "outputs": [
    {
     "name": "stdout",
     "output_type": "stream",
     "text": [
      "21\n",
      "None\n"
     ]
    }
   ],
   "source": [
    "n1 = Node(21)\n",
    "print(n1.getData())\n",
    "print(n1.getNext())"
   ]
  },
  {
   "cell_type": "code",
   "execution_count": 177,
   "id": "1e91004f",
   "metadata": {},
   "outputs": [
    {
     "name": "stdout",
     "output_type": "stream",
     "text": [
      "10\n",
      "None\n",
      "<__main__.Node object at 0x000001B3E05ADCA0>\n"
     ]
    }
   ],
   "source": [
    "n2 = Node(10)\n",
    "print(n2.getData())\n",
    "print(n2.getNext())\n",
    "n2.setNext(n1)\n",
    "print(n2.getNext())"
   ]
  },
  {
   "cell_type": "code",
   "execution_count": null,
   "id": "b723435d",
   "metadata": {},
   "outputs": [],
   "source": [
    "class LinkedList:\n",
    "    def __init__(self):\n",
    "        # membuat head\n",
    "        self.head= None\n",
    "    def isEmpty(self):\n",
    "        return self.head == None\n",
    "    def addNode(self, item):\n",
    "        temp = Node(item)\n",
    "        temp.setNext(self.head)\n",
    "        self.head = temp\n",
    "    def size(self):\n",
    "        current = self.head\n",
    "        count = 0\n",
    "        while current != None:\n",
    "            count -= -1\n",
    "            current = current.getNext()\n",
    "        return count\n",
    "    def display(self):\n",
    "        current = self.head\n",
    "        while current != None:\n",
    "            print(current.getData())    \n",
    "            current = current.getNext()"
   ]
  },
  {
   "cell_type": "code",
   "execution_count": 179,
   "id": "60e316b6",
   "metadata": {},
   "outputs": [
    {
     "data": {
      "text/plain": [
       "True"
      ]
     },
     "execution_count": 179,
     "metadata": {},
     "output_type": "execute_result"
    }
   ],
   "source": [
    "myList = LinkedList()\n",
    "myList.isEmpty()"
   ]
  },
  {
   "cell_type": "code",
   "execution_count": 180,
   "id": "1ec4d8c2",
   "metadata": {},
   "outputs": [
    {
     "data": {
      "text/plain": [
       "False"
      ]
     },
     "execution_count": 180,
     "metadata": {},
     "output_type": "execute_result"
    }
   ],
   "source": [
    "myList.addNode(12)\n",
    "myList.addNode(45)\n",
    "myList.addNode(72)\n",
    "myList.isEmpty()"
   ]
  },
  {
   "cell_type": "code",
   "execution_count": 181,
   "id": "1fba92b8",
   "metadata": {},
   "outputs": [
    {
     "data": {
      "text/plain": [
       "3"
      ]
     },
     "execution_count": 181,
     "metadata": {},
     "output_type": "execute_result"
    }
   ],
   "source": [
    "myList.size()"
   ]
  },
  {
   "cell_type": "code",
   "execution_count": 182,
   "id": "201fbeda",
   "metadata": {},
   "outputs": [
    {
     "name": "stdout",
     "output_type": "stream",
     "text": [
      "72\n",
      "45\n",
      "12\n"
     ]
    }
   ],
   "source": [
    "myList.display()"
   ]
  }
 ],
 "metadata": {
  "kernelspec": {
   "display_name": "Python 3",
   "language": "python",
   "name": "python3"
  },
  "language_info": {
   "codemirror_mode": {
    "name": "ipython",
    "version": 3
   },
   "file_extension": ".py",
   "mimetype": "text/x-python",
   "name": "python",
   "nbconvert_exporter": "python",
   "pygments_lexer": "ipython3",
   "version": "3.12.10"
  }
 },
 "nbformat": 4,
 "nbformat_minor": 5
}
