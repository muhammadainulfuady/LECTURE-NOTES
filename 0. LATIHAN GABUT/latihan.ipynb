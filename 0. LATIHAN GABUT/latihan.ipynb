{
 "cells": [
  {
   "cell_type": "markdown",
   "metadata": {},
   "source": [
    "#BILANGAN GANJIL GENAP ATAU KEDUANYA"
   ]
  },
  {
   "cell_type": "code",
   "execution_count": 1,
   "metadata": {},
   "outputs": [
    {
     "name": "stdout",
     "output_type": "stream",
     "text": [
      "Push: 5 => [5]\n",
      "Push: 10 => [5, 10]\n",
      "Push: 15 => [5, 10, 15]\n",
      "Top of stack: 15\n",
      "Pop: 15 => [5, 10]\n",
      "Ukuran stack sekarang: 2\n"
     ]
    }
   ],
   "source": [
    "def create_stack():\n",
    "    return []\n",
    "\n",
    "def push(stack, item):\n",
    "    stack.append(item)\n",
    "    print(f\"Push: {item} => {stack}\")\n",
    "\n",
    "def pop(stack):\n",
    "    if not is_empty(stack):\n",
    "        removed = stack.pop()\n",
    "        print(f\"Pop: {removed} => {stack}\")\n",
    "        return removed\n",
    "    else:\n",
    "        print(\"Stack kosong!\")\n",
    "        return None\n",
    "\n",
    "def peek(stack):\n",
    "    if not is_empty(stack):\n",
    "        return stack[-1]\n",
    "    else:\n",
    "        return None\n",
    "\n",
    "def is_empty(stack):\n",
    "    return len(stack) == 0\n",
    "\n",
    "def size(stack):\n",
    "    return len(stack)\n",
    "\n",
    "# Contoh penggunaan:\n",
    "s = create_stack()\n",
    "push(s, 5)\n",
    "push(s, 10)\n",
    "push(s, 15)\n",
    "print(\"Top of stack:\", peek(s))\n",
    "pop(s)\n",
    "print(\"Ukuran stack sekarang:\", size(s))"
   ]
  },
  {
   "cell_type": "code",
   "execution_count": 3,
   "metadata": {},
   "outputs": [
    {
     "name": "stdout",
     "output_type": "stream",
     "text": [
      "masukkan pilihan anda\n",
      "1. mencari genap saja \n",
      "2. mencari ganjil saja\n",
      "3. mencari keudanya\n",
      "\n",
      "angka [0] adalah genap\n",
      "angka [2] adalah genap\n",
      "angka [4] adalah genap\n",
      "angka [6] adalah genap\n",
      "angka [8] adalah genap\n",
      "angka [10] adalah genap\n"
     ]
    }
   ],
   "source": [
    "print(\"masukkan pilihan anda\")\n",
    "print(\"1. mencari genap saja \")\n",
    "print(\"2. mencari ganjil saja\")\n",
    "print(\"3. mencari keudanya\\n\")\n",
    "\n",
    "user = input('masukkan pilihan kamu : ')\n",
    "if user==\"1\":\n",
    "    genap = int(input(\"masukan angka untuk mencari bilangan genap: \"))\n",
    "    for i in range(0, genap+1):\n",
    "        if i %2==0:\n",
    "            print(f\"angka [{i}] adalah genap\")\n",
    "elif user==\"2\":\n",
    "    ganjil = int(input(\"masukan angka untuk mencari bilangan ganjil: \"))\n",
    "    for j in range(0, ganjil+1):\n",
    "        if j %2==1:\n",
    "            print(f\"angka [{j}] adalah ganjil\")\n",
    "elif user==\"3\":\n",
    "    genap = int(input(\"masukan angka untuk mencari bilangan genap dan ganjil: \"))\n",
    "    for i in range(1, genap+1):\n",
    "        if i %2==0:\n",
    "            print(f\"angka [{i}] adalah genap\")\n",
    "        elif i %2==1:\n",
    "            print(f\"angka [{i}] adalah ganjil\")\n",
    "else:\n",
    "    print(\"is not defined\")"
   ]
  },
  {
   "cell_type": "markdown",
   "metadata": {},
   "source": [
    "FUNGSI DARI STACK"
   ]
  },
  {
   "cell_type": "code",
   "execution_count": null,
   "metadata": {},
   "outputs": [],
   "source": [
    "def stack():\n",
    "    s=[]\n",
    "    return s\n",
    "def push(s,data):\n",
    "    s.append(data)\n",
    "def pop(s):\n",
    "    data=s.pop()\n",
    "    return(data)\n",
    "def peek(s):\n",
    "    return(s[len(s)-1])\n",
    "def isEmpty(s):\n",
    "    return (s==[])\n",
    "def size(s):\n",
    "    return(len(s))"
   ]
  },
  {
   "cell_type": "markdown",
   "metadata": {},
   "source": [
    "CONTOH PENGGUNAAN WHILE"
   ]
  },
  {
   "cell_type": "code",
   "execution_count": null,
   "metadata": {},
   "outputs": [
    {
     "name": "stdout",
     "output_type": "stream",
     "text": [
      "luffy ada -> 3\n",
      "luffy ada -> 4\n",
      "luffy ada -> 5\n"
     ]
    }
   ],
   "source": [
    "user = int(input(\"masukan angka : \"))\n",
    "\n",
    "while user <=5:\n",
    "    print(f\"luffy ada -> {user}\")\n",
    "    user += 1"
   ]
  },
  {
   "cell_type": "code",
   "execution_count": null,
   "metadata": {},
   "outputs": [],
   "source": [
    "def tambah():\n",
    "    a=1\n",
    "    b=1\n",
    "    return a+b\n",
    "tambah()"
   ]
  },
  {
   "cell_type": "code",
   "execution_count": null,
   "metadata": {},
   "outputs": [
    {
     "name": "stdout",
     "output_type": "stream",
     "text": [
      "11\n"
     ]
    }
   ],
   "source": [
    "def makan(tahu, tempe):\n",
    "    return tahu + tempe\n",
    "tahu = 1\n",
    "tempe= 2\n",
    "print(makan(5 , 6))"
   ]
  },
  {
   "cell_type": "code",
   "execution_count": null,
   "metadata": {},
   "outputs": [],
   "source": [
    "a = 2000\n",
    "for i  in range(1, a+1):\n",
    "    print(f\"{i}.Muhammad Ubaidillah\")"
   ]
  },
  {
   "cell_type": "code",
   "execution_count": null,
   "metadata": {},
   "outputs": [],
   "source": [
    "a = 1\n",
    "while a <= 10:\n",
    "    a +=1\n",
    "    print(f\"angka sekarang adalah ->{a}\")\n",
    "    if a %2==0:\n",
    "        print(f\"angka {a} adalah genap\")\n",
    "        continue\n",
    "    else:\n",
    "        print(\"ganjilo ae\")\n",
    "print(f\"sudah\")\n"
   ]
  },
  {
   "cell_type": "code",
   "execution_count": null,
   "metadata": {},
   "outputs": [],
   "source": [
    "a = int(input(\"masukkan suku pertama (d) :\"))\n",
    "d = int(input(\"masukkan beda (d) :\"))\n",
    "n = int(input(\"masukkan jumlah suku (n) :\"))\n",
    "\n",
    "for i in range(1, n+1):\n",
    "    print(f\"suku ke-{i} adalah {a + (i-1)*d}\")\n",
    "    if i %5==0:\n",
    "        print(\"--------------------\")"
   ]
  },
  {
   "cell_type": "code",
   "execution_count": 1,
   "metadata": {},
   "outputs": [
    {
     "name": "stdout",
     "output_type": "stream",
     "text": [
      "LITERASI KE - 1 \n",
      "DATA = [4, 3, 2, 1] KE - 1\n",
      "DATA SEKARANNG ADALAH = [3, 4, 2, 1]\n",
      "\n",
      "LITERASI KE - 2 \n",
      "DATA = [3, 4, 2, 1] KE - 2\n",
      "DATA SEKARANNG ADALAH = [2, 3, 4, 1]\n",
      "\n",
      "LITERASI KE - 3 \n",
      "DATA = [2, 3, 4, 1] KE - 3\n",
      "DATA SEKARANNG ADALAH = [1, 2, 3, 4]\n",
      "\n"
     ]
    }
   ],
   "source": [
    "data=[4,3,2,1]\n",
    "for j in range(1, len(data)):\n",
    "    print(f\"LITERASI KE - {j} \\nDATA = {data} KE - {j}\")\n",
    "    key = data[j]\n",
    "    i = j-1\n",
    "    while i >=0 and data[i] > key:\n",
    "        data[i+1] = data[i]\n",
    "        i -= 1\n",
    "        data[i+1] = key\n",
    "    print(f\"DATA SEKARANNG ADALAH = {data}\\n\")"
   ]
  },
  {
   "cell_type": "code",
   "execution_count": 38,
   "metadata": {},
   "outputs": [
    {
     "name": "stdout",
     "output_type": "stream",
     "text": [
      "literasi ke-1\n",
      "[3, 4, 2, 1]\n",
      "[3, 2, 4, 1]\n",
      "[3, 2, 1, 4]\n",
      " \n",
      "literasi ke-2\n",
      "[2, 3, 1, 4]\n",
      "[2, 1, 3, 4]\n",
      " \n",
      "literasi ke-3\n",
      "[1, 2, 3, 4]\n",
      " \n"
     ]
    }
   ],
   "source": [
    "data=[4,3,2,1]\n",
    "for j in range(1,len(data)):\n",
    "  print(f\"literasi ke-{j}\")\n",
    "  for i in range(len(data)-j):\n",
    "    if data[i]>data[i+1]:\n",
    "      temp=data[i]\n",
    "      data[i]=data[i+1]\n",
    "      data[i+1]=temp\n",
    "    print(data)\n",
    "  print(\" \")"
   ]
  },
  {
   "cell_type": "code",
   "execution_count": null,
   "metadata": {},
   "outputs": [],
   "source": [
    "a = 0\n",
    "while a < 100:\n",
    "    a += 1\n",
    "    print(f\"{a}. INDRA JANCOK\")"
   ]
  },
  {
   "cell_type": "code",
   "execution_count": null,
   "metadata": {},
   "outputs": [],
   "source": [
    "lulus = 0\n",
    "tidak_lulus = 0\n",
    "jumlah_siswa = int(input(\"masukan jumlah siswa : \"))\n",
    "while jumlah_siswa == jumlah_siswa:\n",
    "    nama_siswa = input(\"masukkan nama siswa : \")\n",
    "    nilai_siswa = int(input(\"masukkan nilai siswa : \"))\n",
    "    jumlah_siswa +=1\n",
    "for i in range(1, nilai_siswa+1):\n",
    "    if i>=75:\n",
    "        lulus += 1"
   ]
  }
 ],
 "metadata": {
  "kernelspec": {
   "display_name": "Python 3",
   "language": "python",
   "name": "python3"
  },
  "language_info": {
   "codemirror_mode": {
    "name": "ipython",
    "version": 3
   },
   "file_extension": ".py",
   "mimetype": "text/x-python",
   "name": "python",
   "nbconvert_exporter": "python",
   "pygments_lexer": "ipython3",
   "version": "3.12.10"
  }
 },
 "nbformat": 4,
 "nbformat_minor": 2
}
