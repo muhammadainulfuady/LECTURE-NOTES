{
 "cells": [
  {
   "cell_type": "markdown",
   "id": "77afdd61",
   "metadata": {},
   "source": [
    "<!-- bilangan imaginer adalah bilangan 5 + 4i yaitu i merupakan akar minus satu-->"
   ]
  },
  {
   "cell_type": "code",
   "execution_count": 1,
   "id": "87064af5",
   "metadata": {},
   "outputs": [],
   "source": [
    "a = 6\n",
    "data = 'surabaya'"
   ]
  },
  {
   "cell_type": "code",
   "execution_count": 2,
   "id": "5c1cf936",
   "metadata": {},
   "outputs": [],
   "source": [
    "class BilanganKompleks:\n",
    "    # constructor\n",
    "    def __init__(self,a,b):\n",
    "        self.real = a\n",
    "        self.imaj = b"
   ]
  },
  {
   "cell_type": "code",
   "execution_count": 3,
   "id": "0bfcc4c6",
   "metadata": {},
   "outputs": [],
   "source": [
    "# instan dan nama kelas\n",
    "# object atau instant\n",
    "num = BilanganKompleks(7, 3) # proses instansiasi"
   ]
  },
  {
   "cell_type": "code",
   "execution_count": 4,
   "id": "a06f0395",
   "metadata": {},
   "outputs": [
    {
     "data": {
      "text/plain": [
       "3"
      ]
     },
     "execution_count": 4,
     "metadata": {},
     "output_type": "execute_result"
    }
   ],
   "source": [
    "num.imaj"
   ]
  },
  {
   "cell_type": "code",
   "execution_count": 5,
   "id": "f4b0eac6",
   "metadata": {},
   "outputs": [
    {
     "data": {
      "text/plain": [
       "10"
      ]
     },
     "execution_count": 5,
     "metadata": {},
     "output_type": "execute_result"
    }
   ],
   "source": [
    "num.imaj=10\n",
    "num.imaj"
   ]
  }
 ],
 "metadata": {
  "kernelspec": {
   "display_name": "Python 3",
   "language": "python",
   "name": "python3"
  },
  "language_info": {
   "codemirror_mode": {
    "name": "ipython",
    "version": 3
   },
   "file_extension": ".py",
   "mimetype": "text/x-python",
   "name": "python",
   "nbconvert_exporter": "python",
   "pygments_lexer": "ipython3",
   "version": "3.12.10"
  }
 },
 "nbformat": 4,
 "nbformat_minor": 5
}
