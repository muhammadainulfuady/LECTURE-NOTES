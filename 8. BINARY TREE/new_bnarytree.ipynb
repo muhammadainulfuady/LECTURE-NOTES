{
 "cells": [
  {
   "cell_type": "code",
   "execution_count": 1,
   "id": "45423b35",
   "metadata": {},
   "outputs": [],
   "source": [
    "class BinaryTree:\n",
    "    def __init__(self, data):\n",
    "        self.root = data #root paling atas\n",
    "        self.left = None #anak kiri\n",
    "        self.right = None #anak kanan\n",
    "    \n",
    "    def getLeftChild(self):\n",
    "        return self.left\n",
    "    \n",
    "    def getRightChild(self):\n",
    "        return self.right\n",
    "    \n",
    "    def insertLeftChild(self, data):\n",
    "        leftSub = BinaryTree(data)\n",
    "        if self.left == None:\n",
    "            self.left = leftSub\n",
    "        else:\n",
    "            leftSub.left = self.left\n",
    "            self.left = leftSub\n",
    "    \n",
    "    def insertRightChild(self, data):\n",
    "        rightSub = BinaryTree(data)\n",
    "        if self.right == None:\n",
    "            self.right = rightSub\n",
    "        else:\n",
    "            rightSub.right = self.right\n",
    "            self.right = rightSub\n",
    "    \n",
    "    def inOrder(self, tree):\n",
    "        if tree is None:\n",
    "            return\n",
    "        else:\n",
    "            self.inOrder(tree.left)\n",
    "            print(tree.root, end=\" \")\n",
    "            self.inOrder(tree.right)\n",
    "    \n",
    "    def preOrder(self, tree):\n",
    "        if tree is None:\n",
    "            return\n",
    "        else:\n",
    "            print(tree.root, end=\" \")\n",
    "            self.preOrder(tree.left)\n",
    "            self.preOrder(tree.right)\n",
    "            \n",
    "    def postOrder(self, tree):\n",
    "        if tree is None:\n",
    "            return\n",
    "        else:\n",
    "            self.postOrder(tree.left)\n",
    "            self.postOrder(tree.right)\n",
    "            print(tree.root, end=\" \")"
   ]
  },
  {
   "cell_type": "code",
   "execution_count": 2,
   "id": "d5aaad7e",
   "metadata": {},
   "outputs": [],
   "source": [
    "def createQueue():\n",
    "    q=[]\n",
    "    return q\n",
    "def enqueue(q,data): #rear -- indeks 0\n",
    "    q.append(data)\n",
    "    return q\n",
    "def dequeue(q): #front -- indeks terakhir\n",
    "    data=q.pop(0)\n",
    "    return data\n",
    "def isEmpty(q):\n",
    "    return(q==[])\n",
    "        \n",
    "def bfs(tree):\n",
    "    qTree = createQueue()\n",
    "    enqueue(qTree, tree)\n",
    "    while not (isEmpty(qTree)):\n",
    "        subTree = dequeue(qTree)\n",
    "        print(subTree.root, end=' ')\n",
    "        if subTree.left != None:\n",
    "            enqueue(qTree, subTree.left)\n",
    "        if subTree.right != None:\n",
    "            enqueue(qTree, subTree.right)"
   ]
  },
  {
   "cell_type": "code",
   "execution_count": 3,
   "id": "802f1445",
   "metadata": {},
   "outputs": [],
   "source": [
    "tree = BinaryTree('a')\n",
    "tree.left = BinaryTree('b')\n",
    "tree.right = BinaryTree('c')\n",
    "tree.left.left = BinaryTree('d')\n",
    "tree.left.right = BinaryTree('e')\n",
    "tree.right.left = BinaryTree('f')\n",
    "tree.right.right = BinaryTree('g')"
   ]
  },
  {
   "cell_type": "code",
   "execution_count": 4,
   "id": "cb6f61b0",
   "metadata": {},
   "outputs": [
    {
     "name": "stdout",
     "output_type": "stream",
     "text": [
      "d b e a f c g \n",
      "d e b f g c a \n",
      "a b d e c f g \n",
      "a b c d e f g "
     ]
    }
   ],
   "source": [
    "tree.inOrder(tree)\n",
    "print(\"\")\n",
    "tree.postOrder(tree)\n",
    "print(\"\")\n",
    "tree.preOrder(tree)\n",
    "print(\"\")\n",
    "bfs(tree)"
   ]
  },
  {
   "cell_type": "code",
   "execution_count": 5,
   "id": "95ce5da7",
   "metadata": {},
   "outputs": [],
   "source": [
    "tre_two = BinaryTree('+')\n",
    "tre_two.left = BinaryTree('*')\n",
    "tre_two.right = BinaryTree('c')\n",
    "tre_two.left.left = BinaryTree('a')\n",
    "tre_two.left.right = BinaryTree('b')"
   ]
  },
  {
   "cell_type": "code",
   "execution_count": 6,
   "id": "4ec4a1ae",
   "metadata": {},
   "outputs": [
    {
     "name": "stdout",
     "output_type": "stream",
     "text": [
      "a * b + c \n",
      "+ * a b c \n",
      "a b * c + "
     ]
    }
   ],
   "source": [
    "tre_two.inOrder(tre_two)\n",
    "print('')\n",
    "tre_two.preOrder(tre_two)\n",
    "print('')\n",
    "tre_two.postOrder(tre_two)"
   ]
  },
  {
   "cell_type": "code",
   "execution_count": 7,
   "id": "85646486",
   "metadata": {},
   "outputs": [
    {
     "name": "stdout",
     "output_type": "stream",
     "text": [
      "['a', 'b', 'c']\n",
      "['b', 'c']\n"
     ]
    }
   ],
   "source": [
    "que = createQueue()\n",
    "enqueue(que, 'a')\n",
    "enqueue(que, 'b')\n",
    "enqueue(que, 'c')\n",
    "print(que)\n",
    "dequeue(que)\n",
    "print(que)"
   ]
  },
  {
   "cell_type": "code",
   "execution_count": 8,
   "id": "de8e9511",
   "metadata": {},
   "outputs": [
    {
     "name": "stdout",
     "output_type": "stream",
     "text": [
      "1 2 3 4 5 6 7 8 9 10 11 12 13 14 15 16 17 18 19 20 21 22 23 24 25 26 27 28 29 30\n"
     ]
    }
   ],
   "source": [
    "a = ((7 + 3) * (5 - 2))\n",
    "for x in range(1, a):\n",
    "    print(x, end=\" \")\n",
    "print(a)"
   ]
  }
 ],
 "metadata": {
  "kernelspec": {
   "display_name": "Python 3",
   "language": "python",
   "name": "python3"
  },
  "language_info": {
   "codemirror_mode": {
    "name": "ipython",
    "version": 3
   },
   "file_extension": ".py",
   "mimetype": "text/x-python",
   "name": "python",
   "nbconvert_exporter": "python",
   "pygments_lexer": "ipython3",
   "version": "3.12.10"
  }
 },
 "nbformat": 4,
 "nbformat_minor": 5
}
