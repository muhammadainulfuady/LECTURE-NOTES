{
 "cells": [
  {
   "cell_type": "markdown",
   "id": "c5917549",
   "metadata": {},
   "source": [
    "Berikut code untuk parsing atau pembuatan binary tree untuk persamaan matematika."
   ]
  },
  {
   "cell_type": "code",
   "execution_count": 15,
   "id": "0276a1de",
   "metadata": {},
   "outputs": [],
   "source": [
    "def stack():\n",
    "    s=[]\n",
    "    return (s)\n",
    "def push(s,data):\n",
    "    s.append(data)\n",
    "def pop(s):\n",
    "    data=s.pop()\n",
    "    return(data)\n",
    "def peek(s):\n",
    "    return(s[len(s)-1])\n",
    "def isEmpty(s):\n",
    "    return (s==[])\n",
    "def size(s):\n",
    "    return(len(s))"
   ]
  },
  {
   "cell_type": "code",
   "execution_count": 16,
   "id": "a3313710",
   "metadata": {},
   "outputs": [],
   "source": [
    "class BinaryTree:\n",
    "    def __init__(self, root):\n",
    "        self.key = root\n",
    "        self.leftChild = None\n",
    "        self.rightChild = None\n",
    "    def insertLeft(self, new_node):\n",
    "        if self.leftChild == None:\n",
    "            self.leftChild = BinaryTree(new_node)\n",
    "        else:\n",
    "            t = BinaryTree(new_node)\n",
    "            t.leftChild = self.leftChild\n",
    "            self.leftChild = t\n",
    "    def insertRight(self, new_node):\n",
    "        if self.rightChild == None:\n",
    "            self.rightChild = BinaryTree(new_node)\n",
    "        else:\n",
    "            t = BinaryTree(new_node)\n",
    "            t.rightChild = self.rightChild\n",
    "            self.rightChild = t\n",
    "    def getRightChild(self):\n",
    "        return self.rightChild\n",
    "    def getLeftChild(self):\n",
    "        return self.leftChild\n",
    "    def setRootVal(self, obj):\n",
    "        self.key = obj\n",
    "    def getRootVal(self):\n",
    "        return self.key"
   ]
  },
  {
   "cell_type": "code",
   "execution_count": 17,
   "id": "b457f70c",
   "metadata": {},
   "outputs": [],
   "source": [
    "def buildParseTree(mathExp):\n",
    "    tokenList = mathExp.split()\n",
    "    parentStack = stack()\n",
    "    expTree = BinaryTree(' ' )\n",
    "    push(parentStack,expTree)\n",
    "    print(tokenList)\n",
    "    currentTree = expTree\n",
    "    for i in tokenList:\n",
    "        if i == '(' :\n",
    "            print('if 1', i)\n",
    "            currentTree.insertLeft(' ' )\n",
    "            push(parentStack,currentTree)\n",
    "            currentTree = currentTree.getLeftChild()\n",
    "        elif i not in [ '+' , '-' , '*' , '/' , ')' ]:\n",
    "            print('if 2', i)\n",
    "            currentTree.setRootVal(int(i))\n",
    "            parent = pop(parentStack)\n",
    "            currentTree = parent\n",
    "        elif i in [ '+' , '-' , '*' , '/' ]:\n",
    "            print('if 3', i)\n",
    "            currentTree.setRootVal(i)\n",
    "            currentTree.insertRight(' ' )\n",
    "            push(parentStack,currentTree)\n",
    "            currentTree = currentTree.getRightChild()\n",
    "        elif i == ')' :\n",
    "            currentTree = pop(parentStack)\n",
    "        else:\n",
    "            raise ValueError\n",
    "    return expTree"
   ]
  },
  {
   "cell_type": "code",
   "execution_count": 18,
   "id": "33b8f44d",
   "metadata": {},
   "outputs": [
    {
     "name": "stdout",
     "output_type": "stream",
     "text": [
      "['(', '3', '+', '(', '4', '*', '5', ')', ')']\n",
      "if 1 (\n",
      "if 2 3\n",
      "if 3 +\n",
      "if 1 (\n",
      "if 2 4\n",
      "if 3 *\n",
      "if 2 5\n"
     ]
    }
   ],
   "source": [
    "pt = buildParseTree(' ( 3 + ( 4 * 5 ) ) ')"
   ]
  },
  {
   "cell_type": "code",
   "execution_count": 19,
   "id": "ef8eaf12",
   "metadata": {},
   "outputs": [
    {
     "name": "stdout",
     "output_type": "stream",
     "text": [
      "+\n",
      "3\n"
     ]
    }
   ],
   "source": [
    "print(pt.getRootVal())\n",
    "tmp=pt.getLeftChild()\n",
    "print(tmp.getRootVal())"
   ]
  },
  {
   "cell_type": "code",
   "execution_count": 20,
   "id": "142f3872",
   "metadata": {},
   "outputs": [
    {
     "name": "stdout",
     "output_type": "stream",
     "text": [
      "Tree\n"
     ]
    }
   ],
   "source": [
    "if pt.getLeftChild():\n",
    "    print('Tree')"
   ]
  },
  {
   "cell_type": "code",
   "execution_count": null,
   "id": "7cd92e70",
   "metadata": {},
   "outputs": [],
   "source": [
    "import operator\n",
    "def evaluate(parse_tree):\n",
    "    opers = { '+' :operator.add, '-' :operator.sub, '*' :operator.mul,'/' :opers}\n",
    "    left = parse_tree.getLeftChild()\n",
    "    right = parse_tree.getRightChild()\n",
    "    if left and right:\n",
    "        fn = opers[parse_tree.key]\n",
    "        return fn(evaluate(left),evaluate(right))\n",
    "    else:\n",
    "        return parse_tree.key"
   ]
  },
  {
   "cell_type": "code",
   "execution_count": 22,
   "id": "70088849",
   "metadata": {},
   "outputs": [
    {
     "ename": "UnboundLocalError",
     "evalue": "cannot access local variable 'opers' where it is not associated with a value",
     "output_type": "error",
     "traceback": [
      "\u001b[1;31m---------------------------------------------------------------------------\u001b[0m",
      "\u001b[1;31mUnboundLocalError\u001b[0m                         Traceback (most recent call last)",
      "Cell \u001b[1;32mIn[22], line 1\u001b[0m\n\u001b[1;32m----> 1\u001b[0m \u001b[43mevaluate\u001b[49m\u001b[43m(\u001b[49m\u001b[43mpt\u001b[49m\u001b[43m)\u001b[49m\n",
      "Cell \u001b[1;32mIn[21], line 3\u001b[0m, in \u001b[0;36mevaluate\u001b[1;34m(parse_tree)\u001b[0m\n\u001b[0;32m      2\u001b[0m \u001b[38;5;28;01mdef\u001b[39;00m \u001b[38;5;21mevaluate\u001b[39m(parse_tree):\n\u001b[1;32m----> 3\u001b[0m     opers \u001b[38;5;241m=\u001b[39m { \u001b[38;5;124m'\u001b[39m\u001b[38;5;124m+\u001b[39m\u001b[38;5;124m'\u001b[39m :operator\u001b[38;5;241m.\u001b[39madd, \u001b[38;5;124m'\u001b[39m\u001b[38;5;124m-\u001b[39m\u001b[38;5;124m'\u001b[39m :operator\u001b[38;5;241m.\u001b[39msub, \u001b[38;5;124m'\u001b[39m\u001b[38;5;124m*\u001b[39m\u001b[38;5;124m'\u001b[39m :operator\u001b[38;5;241m.\u001b[39mmul,\u001b[38;5;124m'\u001b[39m\u001b[38;5;124m/\u001b[39m\u001b[38;5;124m'\u001b[39m :\u001b[43mopers\u001b[49m}\n\u001b[0;32m      4\u001b[0m     left \u001b[38;5;241m=\u001b[39m parse_tree\u001b[38;5;241m.\u001b[39mgetLeftChild()\n\u001b[0;32m      5\u001b[0m     right \u001b[38;5;241m=\u001b[39m parse_tree\u001b[38;5;241m.\u001b[39mgetRightChild()\n",
      "\u001b[1;31mUnboundLocalError\u001b[0m: cannot access local variable 'opers' where it is not associated with a value"
     ]
    }
   ],
   "source": [
    "evaluate(pt)"
   ]
  }
 ],
 "metadata": {
  "kernelspec": {
   "display_name": "Python 3",
   "language": "python",
   "name": "python3"
  },
  "language_info": {
   "codemirror_mode": {
    "name": "ipython",
    "version": 3
   },
   "file_extension": ".py",
   "mimetype": "text/x-python",
   "name": "python",
   "nbconvert_exporter": "python",
   "pygments_lexer": "ipython3",
   "version": "3.12.10"
  }
 },
 "nbformat": 4,
 "nbformat_minor": 5
}
