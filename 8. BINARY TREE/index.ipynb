{
 "cells": [
  {
   "cell_type": "code",
   "execution_count": 8,
   "id": "3f9fd716",
   "metadata": {},
   "outputs": [],
   "source": [
    "a = 10"
   ]
  },
  {
   "cell_type": "markdown",
   "id": "4de406c0",
   "metadata": {},
   "source": [
    "semua dalam binary tree di sebut dengan node cuman node yang paling atas di sebut dengan root\n",
    "d, c, semuanya itu adalah anak dari root\n",
    "node yang tidak punya child lagi bisa di sebut dengan daun, atau flontier\n",
    "di atas merupakan istilah2 di dalam tree atau binary tree"
   ]
  },
  {
   "cell_type": "markdown",
   "id": "52307713",
   "metadata": {},
   "source": [
    "anak bagian kanan dan bagian kiri juga di sebut sub tree ya tree cuman lebih kecil, dan tree semuanya bisa disebut dari tree keseluruhan\n",
    "tree itu juga terdiri dari sub-tree2 juga"
   ]
  },
  {
   "cell_type": "markdown",
   "id": "80faee40",
   "metadata": {},
   "source": [
    "bedanya tree dan binary tree\n",
    "kalau tree bisa mempunyai anak banya\n",
    "kalau binary tree itu maksimal punya 2 anak, anak kiri dan anak kanan"
   ]
  },
  {
   "cell_type": "markdown",
   "id": "b9d856d6",
   "metadata": {},
   "source": [
    "code dari binary tree"
   ]
  },
  {
   "cell_type": "code",
   "execution_count": 9,
   "id": "cf77f59d",
   "metadata": {},
   "outputs": [],
   "source": [
    "class BinaryTree:\n",
    "    def __init__(self, data):\n",
    "        self.root = data #root paling atas\n",
    "        self.left = None #anak kiri\n",
    "        self.right = None #anak kanan\n",
    "    \n",
    "    def getLeftChild(self):\n",
    "        return self.left\n",
    "    \n",
    "    def getRightChild(self):\n",
    "        return self.right\n",
    "    \n",
    "    def insertLeftChild(self, data):\n",
    "        leftSub = BinaryTree(data)\n",
    "        if self.left == None:\n",
    "            self.left = leftSub\n",
    "        else:\n",
    "            leftSub.left = self.left\n",
    "            self.left = leftSub\n",
    "    \n",
    "    def insertRightChild(self, data):\n",
    "        rightSub = BinaryTree(data)\n",
    "        if self.right == None:\n",
    "            self.right = rightSub\n",
    "        else:\n",
    "            rightSub.right = self.right\n",
    "            self.right = rightSub"
   ]
  },
  {
   "cell_type": "code",
   "execution_count": 10,
   "id": "44b8d066",
   "metadata": {},
   "outputs": [],
   "source": [
    "# menjalankan di atas\n",
    "tree = BinaryTree('\\ta')\n",
    "tree.insertLeftChild('b')\n",
    "tree.insertRightChild('c')\n",
    "tree.insertLeftChild('d')\n",
    "tree.insertRightChild('f')"
   ]
  },
  {
   "cell_type": "code",
   "execution_count": 11,
   "id": "dc900f73",
   "metadata": {},
   "outputs": [
    {
     "name": "stdout",
     "output_type": "stream",
     "text": [
      "\ta\n",
      "d b None\n"
     ]
    }
   ],
   "source": [
    "print(tree.root)\n",
    "lTree = tree.getLeftChild()\n",
    "print(lTree.root, lTree.left.root, lTree.right)"
   ]
  },
  {
   "cell_type": "code",
   "execution_count": 12,
   "id": "0b3f5937",
   "metadata": {},
   "outputs": [
    {
     "name": "stdout",
     "output_type": "stream",
     "text": [
      "f c None\n"
     ]
    }
   ],
   "source": [
    "RTree = tree.getRightChild()\n",
    "print(RTree.root, RTree.right.root, RTree.left)"
   ]
  },
  {
   "cell_type": "code",
   "execution_count": 13,
   "id": "c462eb4c",
   "metadata": {},
   "outputs": [],
   "source": [
    "tree2 = BinaryTree('a')\n",
    "\n",
    "tree2.insertLeftChild('b')\n",
    "tree2.insertRightChild('c')\n",
    "\n",
    "b = tree2.getLeftChild()\n",
    "b.insertLeftChild('d')\n",
    "\n",
    "c = tree2.getRightChild()\n",
    "c.insertLeftChild('e')\n",
    "c.insertRightChild('f')"
   ]
  },
  {
   "cell_type": "code",
   "execution_count": 14,
   "id": "8702e89d",
   "metadata": {},
   "outputs": [
    {
     "name": "stdout",
     "output_type": "stream",
     "text": [
      "atas =  a\n",
      "kiri =  b\n",
      "kanan =  c\n",
      "anak dari b =  d\n",
      "anak dari c kanan =  e\n",
      "kiri dari e =  f\n"
     ]
    }
   ],
   "source": [
    "print('atas = ',tree2.root)\n",
    "print('kiri = ', tree2.getLeftChild().root)\n",
    "print('kanan = ', tree2.getRightChild().root)\n",
    "print('anak dari b = ', tree2.getLeftChild().getLeftChild().root)\n",
    "print('anak dari c kanan = ', tree2.getRightChild().getLeftChild().root)\n",
    "print('kiri dari e = ', tree2.getRightChild().getRightChild().root)"
   ]
  }
 ],
 "metadata": {
  "kernelspec": {
   "display_name": "Python 3",
   "language": "python",
   "name": "python3"
  },
  "language_info": {
   "codemirror_mode": {
    "name": "ipython",
    "version": 3
   },
   "file_extension": ".py",
   "mimetype": "text/x-python",
   "name": "python",
   "nbconvert_exporter": "python",
   "pygments_lexer": "ipython3",
   "version": "3.12.10"
  }
 },
 "nbformat": 4,
 "nbformat_minor": 5
}
