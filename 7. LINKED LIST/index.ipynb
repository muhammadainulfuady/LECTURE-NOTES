{
 "cells": [
  {
   "cell_type": "markdown",
   "id": "32c714d1",
   "metadata": {},
   "source": [
    "note = atribut yang berisi tentang valuenya, dan note ini nantii menuju kemana"
   ]
  },
  {
   "cell_type": "code",
   "execution_count": 93,
   "id": "ebce8791",
   "metadata": {},
   "outputs": [],
   "source": [
    "a = []\n",
    "a = [4, 2, 1]"
   ]
  },
  {
   "cell_type": "code",
   "execution_count": 94,
   "id": "7e85aa55",
   "metadata": {},
   "outputs": [],
   "source": [
    "class Node:\n",
    "    def __init__(self, val):\n",
    "        self.data = val\n",
    "        self.next = None\n",
    "    \n",
    "    def getData(self):\n",
    "        return self.data\n",
    "    \n",
    "    def getNext(self):\n",
    "        return self.next\n",
    "    \n",
    "    def setData(self, val):\n",
    "        self.data = val\n",
    "        \n",
    "    def setNext(self, nextPointer):\n",
    "        self.next = nextPointer\n",
    "        "
   ]
  },
  {
   "cell_type": "code",
   "execution_count": 95,
   "id": "6a876a27",
   "metadata": {},
   "outputs": [
    {
     "name": "stdout",
     "output_type": "stream",
     "text": [
      "None\n",
      "None\n"
     ]
    }
   ],
   "source": [
    "node_1 = Node(5)\n",
    "node_2 = Node(7)\n",
    "print(node_1.next)\n",
    "print(node_2.next)"
   ]
  },
  {
   "cell_type": "code",
   "execution_count": 96,
   "id": "d05644f7",
   "metadata": {},
   "outputs": [
    {
     "name": "stdout",
     "output_type": "stream",
     "text": [
      "<__main__.Node object at 0x000001C3DDC51910>\n",
      "None\n"
     ]
    }
   ],
   "source": [
    "node_1.setNext(node_2)\n",
    "print(node_1.next)\n",
    "print(node_2.next)"
   ]
  },
  {
   "cell_type": "code",
   "execution_count": 97,
   "id": "e7bea8e4",
   "metadata": {},
   "outputs": [],
   "source": [
    "class LinkedList:\n",
    "    def __init__(self):\n",
    "        # membuat head\n",
    "        self.head= None\n",
    "    \n",
    "    def addFirst(self, val):\n",
    "        node = Node(val)\n",
    "        print(node.data)\n",
    "        if self.head == None: #lined lst kosong\n",
    "            self.head = node\n",
    "        else:\n",
    "            node.setNext(self.head)\n",
    "            self.head = node\n",
    "            \n",
    "    def display(self):\n",
    "        current = self.head\n",
    "        while current != None:\n",
    "            print(current.getData())\n",
    "            current = current.getNext()"
   ]
  },
  {
   "cell_type": "code",
   "execution_count": 98,
   "id": "574a8d8a",
   "metadata": {},
   "outputs": [
    {
     "name": "stdout",
     "output_type": "stream",
     "text": [
      "None\n",
      "10\n",
      "15\n",
      "15\n",
      "10\n"
     ]
    }
   ],
   "source": [
    "dataList = LinkedList()\n",
    "print(dataList.head)\n",
    "dataList.addFirst(10)\n",
    "dataList.addFirst(15)\n",
    "dataList.display()"
   ]
  },
  {
   "cell_type": "code",
   "execution_count": 99,
   "id": "7b4a898f",
   "metadata": {},
   "outputs": [],
   "source": [
    "temp = dataList.head"
   ]
  },
  {
   "cell_type": "code",
   "execution_count": 100,
   "id": "59023e10",
   "metadata": {},
   "outputs": [
    {
     "name": "stdout",
     "output_type": "stream",
     "text": [
      "15\n",
      "10\n"
     ]
    }
   ],
   "source": [
    "print(temp.getData())\n",
    "temp2 = temp.getNext()\n",
    "print(temp2.getData())"
   ]
  },
  {
   "cell_type": "markdown",
   "id": "4c17809d",
   "metadata": {},
   "source": [
    "pr nambah node di bagian belakang  dan juga membuat tamplan nya itu jadi list"
   ]
  }
 ],
 "metadata": {
  "kernelspec": {
   "display_name": "Python 3",
   "language": "python",
   "name": "python3"
  },
  "language_info": {
   "codemirror_mode": {
    "name": "ipython",
    "version": 3
   },
   "file_extension": ".py",
   "mimetype": "text/x-python",
   "name": "python",
   "nbconvert_exporter": "python",
   "pygments_lexer": "ipython3",
   "version": "3.12.10"
  }
 },
 "nbformat": 4,
 "nbformat_minor": 5
}
