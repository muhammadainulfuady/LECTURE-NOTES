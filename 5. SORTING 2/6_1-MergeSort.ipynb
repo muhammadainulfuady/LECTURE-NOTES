{
 "cells": [
  {
   "cell_type": "code",
   "execution_count": 13,
   "id": "eeee47e6",
   "metadata": {},
   "outputs": [
    {
     "name": "stdout",
     "output_type": "stream",
     "text": [
      "[38, 12, 65, 22]\n",
      "[78, 25, 83, 21, 90]\n"
     ]
    }
   ],
   "source": [
    "data = [38, 12, 65, 22, 78, 25, 83, 21, 90]\n",
    "mid = len(data) // 2\n",
    "left = data[:mid]\n",
    "right = data[mid:]\n",
    "print(left)\n",
    "print(right)\n",
    "\n",
    "# data = [1, 2, 3, 4, 5]\n",
    "# mid = 2\n",
    "# slicen = data[3:]\n",
    "# print(slicen)"
   ]
  },
  {
   "cell_type": "code",
   "execution_count": 14,
   "id": "0777961b",
   "metadata": {},
   "outputs": [
    {
     "name": "stdout",
     "output_type": "stream",
     "text": [
      "Splitting [38, 12, 65, 22, 78, 25, 83, 21, 90]\n",
      "Splitting [38, 12, 65, 22]\n",
      "Splitting [38, 12]\n",
      "Splitting [38]\n",
      "Merging [38]\n",
      "Splitting [12]\n",
      "Merging [12]\n",
      "Merging [12, 38]\n",
      "Splitting [65, 22]\n",
      "Splitting [65]\n",
      "Merging [65]\n",
      "Splitting [22]\n",
      "Merging [22]\n",
      "Merging [22, 65]\n",
      "Merging [12, 22, 38, 65]\n",
      "Splitting [78, 25, 83, 21, 90]\n",
      "Splitting [78, 25]\n",
      "Splitting [78]\n",
      "Merging [78]\n",
      "Splitting [25]\n",
      "Merging [25]\n",
      "Merging [25, 78]\n",
      "Splitting [83, 21, 90]\n",
      "Splitting [83]\n",
      "Merging [83]\n",
      "Splitting [21, 90]\n",
      "Splitting [21]\n",
      "Merging [21]\n",
      "Splitting [90]\n",
      "Merging [90]\n",
      "Merging [21, 90]\n",
      "Merging [21, 83, 90]\n",
      "Merging [21, 25, 78, 83, 90]\n",
      "Merging [12, 21, 22, 25, 38, 65, 78, 83, 90]\n"
     ]
    }
   ],
   "source": [
    "def merge_sort(a_list):\n",
    "    print(f\"Splitting {a_list}\")\n",
    "    if len(a_list) > 1:\n",
    "        mid = len(a_list) // 2\n",
    "        left_half = a_list[:mid]\n",
    "        right_half = a_list[mid:]\n",
    "        merge_sort(left_half)\n",
    "        merge_sort(right_half)\n",
    "        i = 0\n",
    "        j = 0\n",
    "        k = 0\n",
    "        while i < len(left_half) and j < len(right_half):\n",
    "            if left_half[i] < right_half[j]:\n",
    "                a_list[k] = left_half[i]\n",
    "                i = i + 1\n",
    "            else:\n",
    "                a_list[k] = right_half[j]\n",
    "                j = j + 1\n",
    "            k = k + 1\n",
    "        \n",
    "        while i < len(left_half):\n",
    "            a_list[k] = left_half[i]\n",
    "            i = i + 1\n",
    "            k = k + 1\n",
    "            \n",
    "        while j < len(right_half):\n",
    "            a_list[k] = right_half[j]\n",
    "            j = j + 1\n",
    "            k = k + 1\n",
    "    print(f\"Merging {a_list}\")\n",
    "a = [38,12,65,22,78,25,83,21,90]\n",
    "merge_sort(a)"
   ]
  }
 ],
 "metadata": {
  "kernelspec": {
   "display_name": "Python 3",
   "language": "python",
   "name": "python3"
  },
  "language_info": {
   "codemirror_mode": {
    "name": "ipython",
    "version": 3
   },
   "file_extension": ".py",
   "mimetype": "text/x-python",
   "name": "python",
   "nbconvert_exporter": "python",
   "pygments_lexer": "ipython3",
   "version": "3.12.10"
  }
 },
 "nbformat": 4,
 "nbformat_minor": 5
}
