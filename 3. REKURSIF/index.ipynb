{
 "cells": [
  {
   "cell_type": "code",
   "execution_count": null,
   "id": "83fbfb9b",
   "metadata": {},
   "outputs": [
    {
     "name": "stdout",
     "output_type": "stream",
     "text": [
      "1\n"
     ]
    }
   ],
   "source": [
    "hasil = 1\n",
    "for i in range(hasil, 0, -1):\n",
    "    hasil *= i\n",
    "print(hasil)"
   ]
  },
  {
   "cell_type": "code",
   "execution_count": 2,
   "id": "ad002f1b",
   "metadata": {},
   "outputs": [
    {
     "data": {
      "text/plain": [
       "1"
      ]
     },
     "execution_count": 2,
     "metadata": {},
     "output_type": "execute_result"
    }
   ],
   "source": [
    "def factorial(n):\n",
    "    hasil =1\n",
    "    for i in range(n, 0, -1):\n",
    "        hasil *= i\n",
    "    return hasil\n",
    "factorial(1)"
   ]
  },
  {
   "cell_type": "code",
   "execution_count": 3,
   "id": "8f956144",
   "metadata": {},
   "outputs": [
    {
     "data": {
      "text/plain": [
       "120"
      ]
     },
     "execution_count": 3,
     "metadata": {},
     "output_type": "execute_result"
    }
   ],
   "source": [
    "def factorial2(n):\n",
    "    if n == 1:\n",
    "        return 1\n",
    "    else:\n",
    "        return n*factorial2(n-1)\n",
    "factorial2(5)"
   ]
  },
  {
   "cell_type": "code",
   "execution_count": 11,
   "id": "e0e01d0a",
   "metadata": {},
   "outputs": [
    {
     "name": "stdout",
     "output_type": "stream",
     "text": [
      "Hasil dari 4 pangkat 4 adalah 256\n"
     ]
    }
   ],
   "source": [
    "def hitung_pangkat(angka, pangkat):\n",
    "    hasil = angka ** pangkat\n",
    "    print(f\"Hasil dari {angka} pangkat {pangkat} adalah {hasil}\")\n",
    "hitung_pangkat(4, 4)"
   ]
  },
  {
   "cell_type": "code",
   "execution_count": null,
   "id": "08accff6",
   "metadata": {},
   "outputs": [
    {
     "name": "stdout",
     "output_type": "stream",
     "text": [
      "Hasil dari 2 pangkat 3 adalah 8\n"
     ]
    }
   ],
   "source": [
    "def hitung_pangkat_rekursif(angka, pangkat):\n",
    "    if pangkat == 0:\n",
    "        return 1\n",
    "    else:\n",
    "        return angka * hitung_pangkat_rekursif(angka, pangkat - 1)\n",
    "\n",
    "hasil = hitung_pangkat_rekursif(2, 3)\n",
    "print(f\"Hasil dari 2 pangkat 3 adalah {hasil}\")"
   ]
  },
  {
   "cell_type": "code",
   "execution_count": 3,
   "id": "5424204a",
   "metadata": {},
   "outputs": [
    {
     "data": {
      "text/plain": [
       "256"
      ]
     },
     "execution_count": 3,
     "metadata": {},
     "output_type": "execute_result"
    }
   ],
   "source": [
    "def pangkat2(x, y):\n",
    "  if y==0:\n",
    "    return(1)\n",
    "  else:\n",
    "    return x*pangkat2(x, y-1)\n",
    "pangkat2(4,4)"
   ]
  },
  {
   "cell_type": "code",
   "execution_count": 6,
   "id": "c2aaddd7",
   "metadata": {},
   "outputs": [
    {
     "name": "stdout",
     "output_type": "stream",
     "text": [
      "Langkah 1: 4 x 4^0 = 4\n",
      "Langkah 2: 4 x 4^1 = 16\n",
      "Langkah 3: 4 x 4^2 = 64\n",
      "Langkah 4: 4 x 4^3 = 256\n",
      "Hasil akhir: 256\n"
     ]
    }
   ],
   "source": [
    "def pangkat(satu, dua):\n",
    "    hasil = 1\n",
    "    for i in range(dua):\n",
    "        hasil *= satu\n",
    "        print(f\"Langkah {i+1}: {satu} x {satu}^{i} = {hasil}\")\n",
    "    return hasil\n",
    "angka1 = 4\n",
    "angka2 = 4\n",
    "hasil_akhir = pangkat(angka1, angka2)\n",
    "print(f\"Hasil akhir: {hasil_akhir}\")"
   ]
  },
  {
   "cell_type": "markdown",
   "id": "cf90d2f8",
   "metadata": {},
   "source": [
    "#FUNGSII ITERATIF"
   ]
  },
  {
   "cell_type": "code",
   "execution_count": 15,
   "id": "7a9fbed2",
   "metadata": {},
   "outputs": [
    {
     "name": "stdout",
     "output_type": "stream",
     "text": [
      "24\n"
     ]
    }
   ],
   "source": [
    "def factorialitertif(bilangan):\n",
    "    if bilangan <= 1:\n",
    "        return (1)\n",
    "    else:\n",
    "        temp = bilangan\n",
    "        result = 1\n",
    "        while temp>1:\n",
    "            result *= temp\n",
    "            temp -= 1\n",
    "    return (result)\n",
    "print(factorialitertif(4))"
   ]
  },
  {
   "cell_type": "code",
   "execution_count": 23,
   "id": "1c5d51c2",
   "metadata": {},
   "outputs": [
    {
     "name": "stdout",
     "output_type": "stream",
     "text": [
      "1\n"
     ]
    }
   ],
   "source": [
    "def factorial(bilangan):\n",
    "    if bilangan <=1:\n",
    "        return(1)\n",
    "    else:\n",
    "        return(bilangan * factorial(bilangan-1))\n",
    "data = (factorial(0))\n",
    "print(data)"
   ]
  }
 ],
 "metadata": {
  "kernelspec": {
   "display_name": "Python 3",
   "language": "python",
   "name": "python3"
  },
  "language_info": {
   "codemirror_mode": {
    "name": "ipython",
    "version": 3
   },
   "file_extension": ".py",
   "mimetype": "text/x-python",
   "name": "python",
   "nbconvert_exporter": "python",
   "pygments_lexer": "ipython3",
   "version": "3.12.10"
  }
 },
 "nbformat": 4,
 "nbformat_minor": 5
}
