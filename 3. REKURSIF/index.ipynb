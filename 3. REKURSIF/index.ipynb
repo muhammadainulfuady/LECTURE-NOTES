{
 "cells": [
  {
   "cell_type": "code",
   "execution_count": null,
   "id": "83fbfb9b",
   "metadata": {},
   "outputs": [
    {
     "name": "stdout",
     "output_type": "stream",
     "text": [
      "1\n"
     ]
    }
   ],
   "source": [
    "hasil = 1\n",
    "for i in range(hasil, 0, -1):\n",
    "    hasil *= i\n",
    "print(hasil)"
   ]
  },
  {
   "cell_type": "code",
   "execution_count": 2,
   "id": "ad002f1b",
   "metadata": {},
   "outputs": [
    {
     "data": {
      "text/plain": [
       "1"
      ]
     },
     "execution_count": 2,
     "metadata": {},
     "output_type": "execute_result"
    }
   ],
   "source": [
    "def factorial(n):\n",
    "    hasil =1\n",
    "    for i in range(n, 0, -1):\n",
    "        hasil *= i\n",
    "    return hasil\n",
    "factorial(1)"
   ]
  },
  {
   "cell_type": "code",
   "execution_count": 3,
   "id": "8f956144",
   "metadata": {},
   "outputs": [
    {
     "data": {
      "text/plain": [
       "120"
      ]
     },
     "execution_count": 3,
     "metadata": {},
     "output_type": "execute_result"
    }
   ],
   "source": [
    "def factorial2(n):\n",
    "    if n == 1:\n",
    "        return 1\n",
    "    else:\n",
    "        return n*factorial2(n-1)\n",
    "factorial2(5)"
   ]
  },
  {
   "cell_type": "code",
   "execution_count": 11,
   "id": "e0e01d0a",
   "metadata": {},
   "outputs": [
    {
     "name": "stdout",
     "output_type": "stream",
     "text": [
      "Hasil dari 4 pangkat 4 adalah 256\n"
     ]
    }
   ],
   "source": [
    "def hitung_pangkat(angka, pangkat):\n",
    "    hasil = angka ** pangkat\n",
    "    print(f\"Hasil dari {angka} pangkat {pangkat} adalah {hasil}\")\n",
    "hitung_pangkat(4, 4)"
   ]
  },
  {
   "cell_type": "code",
   "execution_count": null,
   "id": "08accff6",
   "metadata": {},
   "outputs": [
    {
     "name": "stdout",
     "output_type": "stream",
     "text": [
      "Hasil dari 2 pangkat 3 adalah 8\n"
     ]
    }
   ],
   "source": [
    "def hitung_pangkat_rekursif(angka, pangkat):\n",
    "    if pangkat == 0:\n",
    "        return 1\n",
    "    else:\n",
    "        return angka * hitung_pangkat_rekursif(angka, pangkat - 1)\n",
    "\n",
    "hasil = hitung_pangkat_rekursif(2, 3)\n",
    "print(f\"Hasil dari 2 pangkat 3 adalah {hasil}\")"
   ]
  },
  {
   "cell_type": "code",
   "execution_count": 3,
   "id": "5424204a",
   "metadata": {},
   "outputs": [
    {
     "data": {
      "text/plain": [
       "256"
      ]
     },
     "execution_count": 3,
     "metadata": {},
     "output_type": "execute_result"
    }
   ],
   "source": [
    "def pangkat2(x, y):\n",
    "  if y==0:\n",
    "    return(1)\n",
    "  else:\n",
    "    return x*pangkat2(x, y-1)\n",
    "pangkat2(4,4)"
   ]
  },
  {
   "cell_type": "code",
   "execution_count": 6,
   "id": "c2aaddd7",
   "metadata": {},
   "outputs": [
    {
     "name": "stdout",
     "output_type": "stream",
     "text": [
      "Langkah 1: 4 x 4^0 = 4\n",
      "Langkah 2: 4 x 4^1 = 16\n",
      "Langkah 3: 4 x 4^2 = 64\n",
      "Langkah 4: 4 x 4^3 = 256\n",
      "Hasil akhir: 256\n"
     ]
    }
   ],
   "source": [
    "def pangkat(satu, dua):\n",
    "    hasil = 1\n",
    "    for i in range(dua):\n",
    "        hasil *= satu\n",
    "        print(f\"Langkah {i+1}: {satu} x {satu}^{i} = {hasil}\")\n",
    "    return hasil\n",
    "angka1 = 4\n",
    "angka2 = 4\n",
    "hasil_akhir = pangkat(angka1, angka2)\n",
    "print(f\"Hasil akhir: {hasil_akhir}\")"
   ]
  },
  {
   "cell_type": "markdown",
   "id": "cf90d2f8",
   "metadata": {},
   "source": [
    "#FUNGSII ITERATIF"
   ]
  },
  {
   "cell_type": "code",
   "execution_count": 15,
   "id": "7a9fbed2",
   "metadata": {},
   "outputs": [
    {
     "name": "stdout",
     "output_type": "stream",
     "text": [
      "24\n"
     ]
    }
   ],
   "source": [
    "def factorialitertif(bilangan):\n",
    "    if bilangan <= 1:\n",
    "        return (1)\n",
    "    else:\n",
    "        temp = bilangan\n",
    "        result = 1\n",
    "        while temp>1:\n",
    "            result *= temp\n",
    "            temp -= 1\n",
    "    return (result)\n",
    "print(factorialitertif(4))"
   ]
  },
  {
   "cell_type": "code",
   "execution_count": 24,
   "id": "1c5d51c2",
   "metadata": {},
   "outputs": [
    {
     "name": "stdout",
     "output_type": "stream",
     "text": [
      "24\n"
     ]
    }
   ],
   "source": [
    "def factorial(bilangan):\n",
    "    if bilangan <=1:\n",
    "        return(1)\n",
    "    else:\n",
    "        return(bilangan * factorial(bilangan-1))\n",
    "data = (factorial(4))\n",
    "print(data)"
   ]
  },
  {
   "cell_type": "code",
   "execution_count": null,
   "id": "d9e13092",
   "metadata": {},
   "outputs": [
    {
     "name": "stdout",
     "output_type": "stream",
     "text": [
      "2\n"
     ]
    }
   ],
   "source": [
    "def triangularsnumber(n):\n",
    "    total = 0\n",
    "    temp = n\n",
    "    while temp>=1:\n",
    "        total+=temp\n",
    "        temp-=1\n",
    "    return total\n",
    "print(triangularsnumber(2))"
   ]
  },
  {
   "cell_type": "code",
   "execution_count": 35,
   "id": "fc0976e2",
   "metadata": {},
   "outputs": [
    {
     "name": "stdout",
     "output_type": "stream",
     "text": [
      "36\n"
     ]
    }
   ],
   "source": [
    "def triangularsnumber2(n):\n",
    "    if n ==1:\n",
    "        return 1\n",
    "    else:\n",
    "        return (n+triangularsnumber2(n-1))\n",
    "print(triangularsnumber2(8))"
   ]
  },
  {
   "cell_type": "code",
   "execution_count": null,
   "id": "4fd2465f",
   "metadata": {},
   "outputs": [
    {
     "name": "stdout",
     "output_type": "stream",
     "text": [
      "<class 'int'> 2 <class 'int'> 1\n",
      "<class 'int'> 1 <class 'int'> 0\n"
     ]
    },
    {
     "data": {
      "text/plain": [
       "'101'"
      ]
     },
     "execution_count": 38,
     "metadata": {},
     "output_type": "execute_result"
    }
   ],
   "source": [
    "def konversiDesimal(bilangan,base):\n",
    "    charBilangan='0123456789ABCDEF'\n",
    "    if bilangan<base:\n",
    "        return(charBilangan[bilangan])\n",
    "    else:\n",
    "        temp=bilangan//base\n",
    "        ind=bilangan % base\n",
    "    print(type(temp),temp,type(ind),ind)\n",
    "    return(konversiDesimal(temp,base)+charBilangan[ind])\n",
    "konversiDesimal(5,2)"
   ]
  },
  {
   "cell_type": "code",
   "execution_count": 3,
   "id": "d580d77b",
   "metadata": {},
   "outputs": [
    {
     "name": "stdout",
     "output_type": "stream",
     "text": [
      "Piringan - 1 dari- A ke- C\n",
      "Piringan - 2 dari- A ke- B\n",
      "Piringan - 1 dari- C ke- B\n",
      "Piringan - 3 dari- A ke- C\n",
      "Piringan - 1 dari- B ke- A\n",
      "Piringan - 2 dari- B ke- C\n",
      "Piringan - 1 dari- A ke- C\n"
     ]
    }
   ],
   "source": [
    "def towers(n, awal, bantuan, tujuan):\n",
    "    if n == 1:\n",
    "        print(f\"Piringan - 1 dari- {awal} ke- {tujuan}\")\n",
    "    else:\n",
    "        towers(n-1,awal,tujuan,bantuan)\n",
    "        print(\"Piringan -\", n, \"dari-\", awal,\"ke-\", tujuan)\n",
    "        towers(n-1,bantuan,awal,tujuan)\n",
    "towers(3,'A','B','C')"
   ]
  },
  {
   "cell_type": "code",
   "execution_count": 9,
   "id": "45fb444c",
   "metadata": {},
   "outputs": [
    {
     "name": "stdout",
     "output_type": "stream",
     "text": [
      "pindahkan lempeng ke -  1 dar A ke C\n",
      "pindahkan lempeng ke -  2 dar A ke B\n",
      "pindahkan lempeng ke -  1 dar C ke B\n"
     ]
    }
   ],
   "source": [
    "def towerhanoi(n, asal, tujuan, bantuan):\n",
    "    if n == 1:\n",
    "        print(\"pindahkan lempeng ke - \",n,\"dar\",asal,\"ke\", tujuan)\n",
    "    else:\n",
    "        towerhanoi(n-1,asal,bantuan,tujuan)\n",
    "        print(\"pindahkan lempeng ke - \",n,\"dar\",asal,\"ke\", tujuan)\n",
    "        towerhanoi(n-1,bantuan,tujuan,asal)\n",
    "towerhanoi(2,\"A\",\"B\",\"C\")"
   ]
  },
  {
   "cell_type": "code",
   "execution_count": 2,
   "id": "88031593",
   "metadata": {},
   "outputs": [
    {
     "name": "stdout",
     "output_type": "stream",
     "text": [
      "Input  : [-1, 3, 5, -2, 8, -3, 2]\n",
      "Output : [-1, 3, 5, -2, 8, -3, 2]\n"
     ]
    }
   ],
   "source": [
    "def modifikasi_bubble_sort(arr):\n",
    "    n = len(arr)\n",
    "    for i in range(n - 1):\n",
    "        swapped = False\n",
    "        for j in range(n - i - 1):\n",
    "            if arr[j] > 0 and arr[j + 1] > 0:\n",
    "                if arr[j] > arr[j + 1]:\n",
    "                    arr[j], arr[j + 1] = arr[j + 1], arr[j]\n",
    "                    swapped = True\n",
    "        if not swapped:\n",
    "            break\n",
    "    return arr\n",
    "input_array = [-1, 5, 3, -2, 8, -3, 2]\n",
    "output_array = modifikasi_bubble_sort(input_array)\n",
    "print(\"Input  :\", input_array)\n",
    "print(\"Output :\", output_array)"
   ]
  },
  {
   "cell_type": "code",
   "execution_count": null,
   "id": "6aa76d49",
   "metadata": {},
   "outputs": [],
   "source": [
    "import turtle\n",
    "my_turtle = turtle.Turtle()\n",
    "my_win = turtle.Screen()\n",
    "def draw_spiral(my_turtle, line_len):\n",
    "    if line_len > 0:\n",
    "        my_turtle.forward(line_len)\n",
    "        my_turtle.right(90)\n",
    "        draw_spiral(my_turtle, line_len - 5)\n",
    "# Panggil fungsi spiralnya\n",
    "draw_spiral(my_turtle, 90)\n",
    "# Tunggu sampai klik untuk tutup window\n",
    "my_win.exitonclick()"
   ]
  },
  {
   "cell_type": "code",
   "execution_count": null,
   "id": "fa22032f",
   "metadata": {},
   "outputs": [],
   "source": [
    "import turtle\n",
    "\n",
    "my_turtle = turtle.Turtle()\n",
    "my_win = turtle.Screen()\n",
    "\n",
    "def draw_spiral(my_turtle, line_len):\n",
    "    if line_len > 0:\n",
    "        my_turtle.forward(line_len)\n",
    "        my_turtle.right(90)\n",
    "        draw_spiral(my_turtle, line_len - 5)\n",
    "\n",
    "# Panggil fungsi spiralnya\n",
    "draw_spiral(my_turtle, 90)\n",
    "\n",
    "# Tunggu sampai klik untuk tutup window\n",
    "my_win.exitonclick()\n"
   ]
  },
  {
   "cell_type": "code",
   "execution_count": null,
   "id": "08420962",
   "metadata": {},
   "outputs": [],
   "source": [
    "import turtle\n",
    "def draw_triangle(points, color, my_turtle):\n",
    "    my_turtle.speed('slowest')\n",
    "    my_turtle.fillcolor(color)\n",
    "    my_turtle.up()\n",
    "    my_turtle.goto(points[0][0], points[0][1])\n",
    "    my_turtle.down()\n",
    "    my_turtle.begin_fill()\n",
    "    my_turtle.goto(points[1][0], points[1][1])\n",
    "    my_turtle.goto(points[2][0], points[2][1])\n",
    "    my_turtle.goto(points[0][0], points[0][1])\n",
    "    my_turtle.end_fill()\n",
    "\n",
    "def get_mid(p1, p2):\n",
    "    return ((p1[0] + p2[0]) / 2, (p1[1] + p2[1]) / 2)\n",
    "\n",
    "def sierpinski(points, degree, my_turtle):\n",
    "    color_map = [\"blue\", \"red\", \"green\", \"white\", \"yellow\", \"violet\", \"orange\"]\n",
    "    draw_triangle(points, color_map[degree], my_turtle)\n",
    "\n",
    "    if degree > 0:\n",
    "        sierpinski([points[0],\n",
    "                    get_mid(points[0], points[1]),\n",
    "                    get_mid(points[0], points[2])],\n",
    "                   degree - 1, my_turtle)\n",
    "\n",
    "        sierpinski([points[1],\n",
    "                    get_mid(points[0], points[1]),\n",
    "                    get_mid(points[1], points[2])],\n",
    "                   degree - 1, my_turtle)\n",
    "\n",
    "        sierpinski([points[2],\n",
    "                    get_mid(points[2], points[1]),\n",
    "                    get_mid(points[0], points[2])],\n",
    "                   degree - 1, my_turtle)\n",
    "\n",
    "def main():\n",
    "    my_turtle = turtle.Turtle()\n",
    "    my_win = turtle.Screen()\n",
    "    my_points = [[-100, -50], [0, 100], [100, -50]]  # Titik segitiga awal\n",
    "    sierpinski(my_points, 2, my_turtle)\n",
    "    my_win.exitonclick()\n",
    "\n",
    "main()"
   ]
  },
  {
   "cell_type": "code",
   "execution_count": 13,
   "id": "a76ecbbc",
   "metadata": {},
   "outputs": [
    {
     "data": {
      "text/plain": [
       "True"
      ]
     },
     "execution_count": 13,
     "metadata": {},
     "output_type": "execute_result"
    }
   ],
   "source": [
    "def seqSearch(listData, data):\n",
    "    ind = 0\n",
    "    found = False\n",
    "    while ind < len(listData) and not found:\n",
    "        if listData[ind] == data:\n",
    "            found = True\n",
    "        else:\n",
    "            ind = ind+1\n",
    "    return found\n",
    "a=[3, 1, 5, 7, 6]\n",
    "seqSearch(a,1)"
   ]
  },
  {
   "cell_type": "code",
   "execution_count": 44,
   "id": "39a17f0e",
   "metadata": {},
   "outputs": [
    {
     "name": "stdout",
     "output_type": "stream",
     "text": [
      "tidak ditemukan\n"
     ]
    }
   ],
   "source": [
    "a=[3, 1, 5, 7, 6]\n",
    "car = 4\n",
    "if car in a:\n",
    "    print(\"ditemukan\")\n",
    "else:\n",
    "    print(\"tidak ditemukan\")"
   ]
  },
  {
   "cell_type": "code",
   "execution_count": 41,
   "id": "52be1c05",
   "metadata": {},
   "outputs": [
    {
     "name": "stdout",
     "output_type": "stream",
     "text": [
      "False\n"
     ]
    }
   ],
   "source": [
    "def search_bil(search, bil):\n",
    "    for num in range(len(a)):\n",
    "        if num == bil:\n",
    "            return True\n",
    "        else:\n",
    "            return False\n",
    "a =[3, 1, 5, 7, 6]\n",
    "b = 6\n",
    "print(search_bil(a, b))"
   ]
  },
  {
   "cell_type": "code",
   "execution_count": null,
   "id": "a937daa6",
   "metadata": {},
   "outputs": [],
   "source": [
    "def search_number(a, b):\n",
    "    while a >= b:\n",
    "        lst = [4, 7, 9, 11, 15, 25]\n",
    "        "
   ]
  },
  {
   "cell_type": "code",
   "execution_count": 43,
   "id": "e3303cd2",
   "metadata": {},
   "outputs": [],
   "source": [
    "def orderedSeqSearch(a, b):\n",
    "    ind = 0\n",
    "    found = False\n",
    "    stop = False\n",
    "    position=[]\n",
    "    while ind < len(a) and not found and not stop:\n",
    "        if a[ind] == b:\n",
    "            found = True\n",
    "            position.append(ind)"
   ]
  },
  {
   "cell_type": "code",
   "execution_count": null,
   "id": "7fab4c8f",
   "metadata": {},
   "outputs": [],
   "source": []
  }
 ],
 "metadata": {
  "kernelspec": {
   "display_name": "Python 3",
   "language": "python",
   "name": "python3"
  },
  "language_info": {
   "codemirror_mode": {
    "name": "ipython",
    "version": 3
   },
   "file_extension": ".py",
   "mimetype": "text/x-python",
   "name": "python",
   "nbconvert_exporter": "python",
   "pygments_lexer": "ipython3",
   "version": "3.12.10"
  }
 },
 "nbformat": 4,
 "nbformat_minor": 5
}
